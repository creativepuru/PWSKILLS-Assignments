{
 "cells": [
  {
   "attachments": {},
   "cell_type": "markdown",
   "metadata": {
    "collapsed": false
   },
   "source": [
    "> [![Purushottam Anand 🇮🇳 on GitHub ☕](https://github.com/creativepuru.png?size=100)](https://github.com/creativepuru \"Purushottam Anand 🇮🇳 on GitHub ☕\")\n",
    "\n",
    "# 📚 Assignment No. : 8️⃣  |  Date : 07 Feb 2023\n",
    "# 📖 Notebook Topic : Python Task 2 🐍\n",
    "\n",
    "[![Company Name](https://readme-typing-svg.demolab.com?font=Calibri&size=26&pause=1000&multiline=false&width=800&height=50&lines=✨+Organisation+Name+:+PWSKILLS)](https://github.com/creativepuru/PWSKILLS-Assignments)\n",
    "\n",
    "[![Course Name](https://readme-typing-svg.demolab.com?font=Calibri&size=26&pause=1000&multiline=false&width=800&height=50&lines=✨+Course+Name+:+DATA+SCIENCE+MASTERS)](https://github.com/creativepuru/PWSKILLS-Assignments)\n",
    "\n",
    "[![Batch](https://readme-typing-svg.demolab.com?font=Calibri&size=26&pause=1000&multiline=false&width=800&height=50&lines=✨+Batch+:+IMPACT+BATCH+1)](https://github.com/creativepuru/PWSKILLS-Assignments)\n",
    "\n",
    "[![Student Name](https://readme-typing-svg.demolab.com?font=Calibri&size=26&pause=1000&multiline=false&width=800&height=50&lines=✨+Student+Name+:+Purushottam+Anand)](https://github.com/creativepuru)\n",
    "\n",
    "-------------------------------------------------------------------------------"
   ]
  },
  {
   "attachments": {},
   "cell_type": "markdown",
   "metadata": {
    "collapsed": false
   },
   "source": [
    "# QUESTION 1️⃣ : \n",
    "# You are writing code for a company. The requirement of the company is that you create a python function that will check whether the password entered by the user is correct or not. The function should take the password as input and return the string “Valid Password” if the entered password follows the below-given password guidelines else it should return “Invalid Password”\n",
    "\n",
    "# Note: \n",
    "# 1. The Password should contain at least two uppercase letters and at least two lowercase letters.\n",
    "\n",
    "# 2. The Password should contain at least a number and three special characters.\n",
    "\n",
    "# 3. The length of the password should be 10 characters long.\n"
   ]
  },
  {
   "cell_type": "code",
   "execution_count": 55,
   "metadata": {},
   "outputs": [
    {
     "name": "stdout",
     "output_type": "stream",
     "text": [
      "Invalid Password\n",
      "Oops, You have entered : 1ABcd@#$\n",
      "\n",
      "        The length of password should be atleast 10 characters long.\n",
      "        \n",
      "        Also Note that : \n",
      "        1. The Password should contain at least two uppercase letters and at least two lowercase letters.\n",
      "        2. The Password should contain at least a number and three special characters.\n",
      "        \n"
     ]
    }
   ],
   "source": [
    "def check_password(password):\n",
    "    \n",
    "    if len(password) >= 10 :\n",
    "\n",
    "        upper_case = 0\n",
    "        lower_case = 0\n",
    "        digits = 0\n",
    "        special_chars = 0\n",
    "\n",
    "        special_char_set = str(\"!@#$%^&*()_-+={[]}|\\:;'<>,.?/\")\n",
    "\n",
    "        for char in password:\n",
    "        \n",
    "            if char.isupper():\n",
    "                upper_case += 1\n",
    "            \n",
    "            elif char.islower():\n",
    "                lower_case += 1\n",
    "            \n",
    "            elif char.isdigit():\n",
    "                digits += 1\n",
    "            \n",
    "            elif char in special_char_set:\n",
    "                special_chars += 1\n",
    "\n",
    "        if upper_case >= 2 and lower_case >= 2 and digits >= 1 and special_chars >= 3 :\n",
    "            return \"Valid Password\"\n",
    "        else:\n",
    "            print(\"Invalid Password\")\n",
    "            print(\"You have entered :\", password)\n",
    "            \n",
    "            Error = '''\n",
    "        Note that : \n",
    "        1. The Password should contain at least two uppercase letters and at least two lowercase letters.\n",
    "        2. The Password should contain at least a number and three special characters.\n",
    "        3. The length of password should be atleast 10 characters long.'''\n",
    "        \n",
    "            return Error\n",
    "        \n",
    "    else:\n",
    "        print(\"Invalid Password\")\n",
    "        Error = '''\n",
    "        The length of password should be atleast 10 characters long.\n",
    "        \n",
    "        Also Note that : \n",
    "        1. The Password should contain at least two uppercase letters and at least two lowercase letters.\n",
    "        2. The Password should contain at least a number and three special characters.\n",
    "        '''\n",
    "        \n",
    "        print(\"Oops, You have entered :\", password)\n",
    "        return Error\n",
    "\n",
    "password = input(\"Set your password :\")\n",
    "\n",
    "print(check_password(password))  "
   ]
  },
  {
   "attachments": {},
   "cell_type": "markdown",
   "metadata": {
    "collapsed": false
   },
   "source": [
    "# QUESTION 2️⃣ : \n",
    "# Solve the below-given questions using at least one of the following: \n",
    "# 1. Lambda function\n",
    "# 2. Filter function\n",
    "# 3. Map function\n",
    "# 4. List Comprehension\n",
    "\n",
    "* #  Check if the string starts with a particular letter \n",
    "* #  Check if the string is numeric \n",
    "* #  Sort a list of tuples having fruit names and their quantity. [(\"mango\",99),(\"orange\",80), (\"grapes\", 1000) \n",
    "* #  Find the squares of numbers from 1 to 10 \n",
    "* #  Find the cube root of numbers from 1 to 10 \n",
    "* #  Check if a given number is even \n",
    "* #  Filter odd numbers from the given list.\n",
    "- ### [1,2,3,4,5,6,7,8,9,10]\n",
    " \n",
    "* #  Sort a list of integers into positive and negative integers lists.\n",
    "- ### [1,2,3,4,5,6,-1,-2,-3,-4,-5,0]"
   ]
  },
  {
   "cell_type": "code",
   "execution_count": 56,
   "metadata": {},
   "outputs": [
    {
     "name": "stdout",
     "output_type": "stream",
     "text": [
      "Check if the string starts with a particular letter.\n",
      "Using List Comprehension :\n",
      "\n",
      "['apple']\n"
     ]
    }
   ],
   "source": [
    "ans_1 = '''Check if the string starts with a particular letter.\n",
    "Using List Comprehension :\n",
    "'''\n",
    "# Code line goes here :\n",
    "\n",
    "strings = ['apple', 'banana', 'cherry', 'date']\n",
    "letter = 'a'\n",
    "result = [s for s in strings if s.startswith(letter)]\n",
    "\n",
    "print(ans_1)\n",
    "print(result)"
   ]
  },
  {
   "cell_type": "code",
   "execution_count": 57,
   "metadata": {},
   "outputs": [
    {
     "name": "stdout",
     "output_type": "stream",
     "text": [
      "Check if the string is numeric.\n",
      "Using Lambda function and isnumeric() :\n",
      "\n",
      "['123']\n"
     ]
    }
   ],
   "source": [
    "ans_2 = '''Check if the string is numeric.\n",
    "Using Lambda function and isnumeric() :\n",
    "'''\n",
    "# Code Line goes here :\n",
    "\n",
    "strings = ['123', '3.14', '0xFF', 'one']\n",
    "result = list(filter(lambda s: s.isnumeric(), strings))\n",
    "\n",
    "print(ans_2)\n",
    "print(result)"
   ]
  },
  {
   "attachments": {},
   "cell_type": "markdown",
   "metadata": {},
   "source": [
    "# ------------- ASSIGNMENT ENDS HERE ------------- "
   ]
  },
  {
   "attachments": {},
   "cell_type": "markdown",
   "metadata": {},
   "source": [
    "## 📲 [![Linkedin](https://img.shields.io/badge/-Connect%20on%20Linkedin-blue?style=for-the-badge&logo=linkedin)](https://openinapp.co/connect-on-linkedin-puru)\n",
    "\n",
    "## 👉🏻 [![BMC](https://img.shields.io/badge/Buy%20Me%20a%20Coffee%20☕-%23FFDD00.svg?&style=for-the-badge&logo=buy-me-a-coffee&logoColor=black)](https://www.buymeacoffee.com/creativepuru)"
   ]
  }
 ],
 "metadata": {
  "kernelspec": {
   "display_name": "Python 3",
   "language": "python",
   "name": "python3"
  },
  "language_info": {
   "codemirror_mode": {
    "name": "ipython",
    "version": 3
   },
   "file_extension": ".py",
   "mimetype": "text/x-python",
   "name": "python",
   "nbconvert_exporter": "python",
   "pygments_lexer": "ipython3",
   "version": "3.10.4"
  }
 },
 "nbformat": 4,
 "nbformat_minor": 0
}
