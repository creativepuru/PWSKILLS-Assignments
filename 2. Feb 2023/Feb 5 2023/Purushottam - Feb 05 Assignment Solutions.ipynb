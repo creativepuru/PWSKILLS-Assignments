{
 "cells": [
  {
   "cell_type": "markdown",
   "metadata": {
    "collapsed": false
   },
   "source": [
    "# || Assignment No. :   |  Date :  2023  ||\n",
    "# || Notebook Topic : Solutions of Assignment  ||\n",
    "# || Company Name : PWSKILLS  ||\n",
    "# || Course Name : DATA SCIENCE MASTERS  ||\n",
    "# || Batch : IMPACT BATCH 1  ||\n",
    "# || Student Name : Purushottam Anand  ||\n",
    "\n",
    "-------------------------------------------------------------------------------"
   ]
  },
  {
   "cell_type": "markdown",
   "metadata": {
    "collapsed": false
   },
   "source": [
    "# QUESTION 1 :"
   ]
  },
  {
   "cell_type": "code",
   "execution_count": 1,
   "metadata": {
    "ExecuteTime": {
     "start_time": "2023-04-24T01:02:23.448790Z",
     "end_time": "2023-04-24T01:02:23.464415Z"
    },
    "collapsed": true
   },
   "outputs": [
    {
     "data": {
      "text/plain": "'Ques 1.\\n\\nAns.\\n'"
     },
     "execution_count": 1,
     "metadata": {},
     "output_type": "execute_result"
    }
   ],
   "source": [
    "'''Ques 1.\n",
    "\n",
    "Ans.\n",
    "'''"
   ]
  },
  {
   "cell_type": "markdown",
   "metadata": {
    "collapsed": false
   },
   "source": [
    "# QUESTION 2 :"
   ]
  },
  {
   "cell_type": "code",
   "execution_count": 2,
   "metadata": {
    "ExecuteTime": {
     "start_time": "2023-04-24T01:02:23.480037Z",
     "end_time": "2023-04-24T01:02:23.573788Z"
    },
    "collapsed": false
   },
   "outputs": [
    {
     "data": {
      "text/plain": "'Ques 2.\\n\\nAns.\\n'"
     },
     "execution_count": 2,
     "metadata": {},
     "output_type": "execute_result"
    }
   ],
   "source": [
    "'''Ques 2.\n",
    "\n",
    "Ans.\n",
    "'''"
   ]
  },
  {
   "cell_type": "markdown",
   "metadata": {
    "collapsed": false
   },
   "source": [
    "# QUESTION 3 :"
   ]
  },
  {
   "cell_type": "code",
   "execution_count": 3,
   "metadata": {
    "ExecuteTime": {
     "start_time": "2023-04-24T01:02:23.511290Z",
     "end_time": "2023-04-24T01:02:23.573788Z"
    },
    "collapsed": false
   },
   "outputs": [
    {
     "data": {
      "text/plain": "'Ques 3.\\n\\nAns.\\n'"
     },
     "execution_count": 3,
     "metadata": {},
     "output_type": "execute_result"
    }
   ],
   "source": [
    "'''Ques 3.\n",
    "\n",
    "Ans.\n",
    "'''"
   ]
  },
  {
   "cell_type": "markdown",
   "metadata": {
    "collapsed": false
   },
   "source": [
    "# QUESTION 4 :"
   ]
  },
  {
   "cell_type": "code",
   "execution_count": 4,
   "metadata": {
    "ExecuteTime": {
     "start_time": "2023-04-24T01:02:23.558166Z",
     "end_time": "2023-04-24T01:02:23.761292Z"
    },
    "collapsed": false
   },
   "outputs": [
    {
     "data": {
      "text/plain": "'Ques 4.\\n\\nAns.\\n'"
     },
     "execution_count": 4,
     "metadata": {},
     "output_type": "execute_result"
    }
   ],
   "source": [
    "'''Ques 4.\n",
    "\n",
    "Ans.\n",
    "'''"
   ]
  },
  {
   "cell_type": "markdown",
   "metadata": {
    "collapsed": false
   },
   "source": [
    "# QUESTION 5 :"
   ]
  },
  {
   "cell_type": "code",
   "execution_count": 5,
   "metadata": {
    "ExecuteTime": {
     "start_time": "2023-04-24T01:02:23.620669Z",
     "end_time": "2023-04-24T01:02:23.792537Z"
    },
    "collapsed": false
   },
   "outputs": [
    {
     "data": {
      "text/plain": "'Ques 5.\\n\\nAns.\\n'"
     },
     "execution_count": 5,
     "metadata": {},
     "output_type": "execute_result"
    }
   ],
   "source": [
    "'''Ques 5.\n",
    "\n",
    "Ans.\n",
    "'''"
   ]
  },
  {
   "cell_type": "markdown",
   "metadata": {
    "collapsed": false
   },
   "source": [
    "# QUESTION 6 :"
   ]
  },
  {
   "cell_type": "code",
   "execution_count": 6,
   "metadata": {
    "ExecuteTime": {
     "start_time": "2023-04-24T01:02:23.683162Z",
     "end_time": "2023-04-24T01:02:23.792537Z"
    },
    "collapsed": false
   },
   "outputs": [
    {
     "data": {
      "text/plain": "'Ques 6.\\n\\nAns.\\n'"
     },
     "execution_count": 6,
     "metadata": {},
     "output_type": "execute_result"
    }
   ],
   "source": [
    "'''Ques 6.\n",
    "\n",
    "Ans.\n",
    "'''"
   ]
  },
  {
   "cell_type": "markdown",
   "metadata": {
    "collapsed": false
   },
   "source": [
    "# QUESTION 7 :"
   ]
  },
  {
   "cell_type": "code",
   "execution_count": 7,
   "metadata": {
    "ExecuteTime": {
     "start_time": "2023-04-24T01:02:23.745664Z",
     "end_time": "2023-04-24T01:02:23.979577Z"
    },
    "collapsed": false
   },
   "outputs": [
    {
     "data": {
      "text/plain": "'Ques 7.\\n\\nAns.\\n'"
     },
     "execution_count": 7,
     "metadata": {},
     "output_type": "execute_result"
    }
   ],
   "source": [
    "'''Ques 7.\n",
    "\n",
    "Ans.\n",
    "'''"
   ]
  },
  {
   "cell_type": "markdown",
   "metadata": {
    "collapsed": false
   },
   "source": [
    "# QUESTION 8 :"
   ]
  },
  {
   "cell_type": "code",
   "execution_count": 8,
   "metadata": {
    "ExecuteTime": {
     "start_time": "2023-04-24T01:02:23.792537Z",
     "end_time": "2023-04-24T01:02:23.979577Z"
    },
    "collapsed": false
   },
   "outputs": [
    {
     "data": {
      "text/plain": "'Ques 8.\\n\\nAns.\\n'"
     },
     "execution_count": 8,
     "metadata": {},
     "output_type": "execute_result"
    }
   ],
   "source": [
    "'''Ques 8.\n",
    "\n",
    "Ans.\n",
    "'''"
   ]
  },
  {
   "cell_type": "markdown",
   "metadata": {
    "collapsed": false
   },
   "source": [
    "# QUESTION 9 :"
   ]
  },
  {
   "cell_type": "code",
   "execution_count": 9,
   "metadata": {
    "ExecuteTime": {
     "start_time": "2023-04-24T01:02:23.838945Z",
     "end_time": "2023-04-24T01:02:23.979577Z"
    },
    "collapsed": false
   },
   "outputs": [
    {
     "data": {
      "text/plain": "'Ques 9.\\n\\nAns.\\n'"
     },
     "execution_count": 9,
     "metadata": {},
     "output_type": "execute_result"
    }
   ],
   "source": [
    "'''Ques 9.\n",
    "\n",
    "Ans.\n",
    "'''"
   ]
  },
  {
   "cell_type": "markdown",
   "metadata": {
    "collapsed": false
   },
   "source": [
    "# QUESTION 10 :"
   ]
  },
  {
   "cell_type": "code",
   "execution_count": 10,
   "metadata": {
    "ExecuteTime": {
     "start_time": "2023-04-24T01:02:23.901451Z",
     "end_time": "2023-04-24T01:02:23.979577Z"
    },
    "collapsed": false
   },
   "outputs": [
    {
     "data": {
      "text/plain": "'Ques 10.\\n\\nAns.\\n'"
     },
     "execution_count": 10,
     "metadata": {},
     "output_type": "execute_result"
    }
   ],
   "source": [
    "'''Ques 10.\n",
    "\n",
    "Ans.\n",
    "'''"
   ]
  },
  {
   "cell_type": "code",
   "execution_count": 10,
   "metadata": {
    "ExecuteTime": {
     "start_time": "2023-04-24T01:02:23.932701Z",
     "end_time": "2023-04-24T01:02:24.229572Z"
    },
    "collapsed": false
   },
   "outputs": [],
   "source": []
  }
 ],
 "metadata": {
  "kernelspec": {
   "display_name": "Python 3",
   "language": "python",
   "name": "python3"
  },
  "language_info": {
   "codemirror_mode": {
    "name": "ipython",
    "version": 3
   },
   "file_extension": ".py",
   "mimetype": "text/x-python",
   "name": "python",
   "nbconvert_exporter": "python",
   "pygments_lexer": "ipython3",
   "version": "3.10.9"
  }
 },
 "nbformat": 4,
 "nbformat_minor": 0
}
