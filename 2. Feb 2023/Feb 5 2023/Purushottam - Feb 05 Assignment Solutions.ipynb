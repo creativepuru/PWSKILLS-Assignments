{
 "cells": [
  {
   "attachments": {},
   "cell_type": "markdown",
   "metadata": {
    "collapsed": false
   },
   "source": [
    "# || Assignment No. : 6  |  Date : 05 Feb 2023  ||\n",
    "# || Notebook Topic : OOPS  ||\n",
    "# || Company Name : PWSKILLS  ||\n",
    "# || Course Name : DATA SCIENCE MASTERS  ||\n",
    "# || Batch : IMPACT BATCH 1  ||\n",
    "# || Student Name : Purushottam Anand  ||\n",
    "\n",
    "-------------------------------------------------------------------------------"
   ]
  },
  {
   "attachments": {},
   "cell_type": "markdown",
   "metadata": {
    "collapsed": false
   },
   "source": [
    "# QUESTION 1 : Explain Class and Object with respect to Object-Oriented Programming. Give a suitable example."
   ]
  },
  {
   "cell_type": "code",
   "execution_count": 22,
   "metadata": {
    "ExecuteTime": {
     "end_time": "2023-04-24T01:02:23.464415Z",
     "start_time": "2023-04-24T01:02:23.448790Z"
    },
    "collapsed": true
   },
   "outputs": [
    {
     "name": "stdout",
     "output_type": "stream",
     "text": [
      "Hi, my name is Purushottam :) and I am 24 years old.\n",
      "\n",
      "Hi, my name is Anand :) and I am 24 years old.\n",
      "\n"
     ]
    }
   ],
   "source": [
    "''' Ans. In Python, classes and objects are the fundamental building blocks of Object-Oriented Programming (OOP). \n",
    "A class is a blueprint or template for creating objects, which are instances of the class. \n",
    "An object is a specific instance of a class that can have its own unique state and behavior.\n",
    "\n",
    "To create a class in Python, we use the class keyword followed by the name of the class. \n",
    "The class definition can contain variables, methods, and other attributes that define the behavior and properties of the objects that will be created from it.\n",
    "\n",
    "Below is an example of a class named Person: '''\n",
    "\n",
    "class Person:\n",
    "    def __init__(self, name, age):\n",
    "        self.name = name\n",
    "        self.age = age\n",
    "\n",
    "    def SayHello(self):\n",
    "        print(\"Hi, my name is \" + self.name + \" :) and I am \" + str(self.age) + \" years old.\")\n",
    "        print()\n",
    "\n",
    "''' In this example, the Person class has two attributes name and age, and one method SayHello() that prints a greeting message.\n",
    "We need to convert the variable self.age into string because age is a number and we can only concatenate string to string, not int to string.\n",
    "\n",
    "\n",
    "> Now, to create an object from the Person class, we use the class name followed by parentheses to call its constructor method (__init__()): '''\n",
    "\n",
    "person1 = Person(\"Purushottam\", 24)\n",
    "person2 = Person(\"Anand\", 24)\n",
    "\n",
    "'''In this example, person1 and person2 are two different objects created from the Person class, each with their own unique name and age attributes.\n",
    "\n",
    "\n",
    "> Now, to call a method on an object, we use dot notation and call the method like this: '''\n",
    "\n",
    "person1.SayHello()\n",
    "person2.SayHello()\n",
    "\n",
    "Explanation_1  = '''In summary, a class is a template for creating objects, and an object is a specific instance of a class that has its own unique state and behavior. \n",
    "We can create multiple objects from a single class, and each object can have its own values for the attributes defined in the class. '''"
   ]
  },
  {
   "attachments": {},
   "cell_type": "markdown",
   "metadata": {
    "collapsed": false
   },
   "source": [
    "# QUESTION 2 : Name the four pillars of OOPs."
   ]
  },
  {
   "cell_type": "code",
   "execution_count": 23,
   "metadata": {
    "ExecuteTime": {
     "end_time": "2023-04-24T01:02:23.573788Z",
     "start_time": "2023-04-24T01:02:23.480037Z"
    },
    "collapsed": false
   },
   "outputs": [
    {
     "data": {
      "text/plain": [
       "'1. Encapsulation: Encapsulation is the practice of hiding internal details of an object and only exposing a public interface. This helps to prevent accidental modification of internal data and ensures that objects are used correctly by external code.\\n\\n2. Inheritance: Inheritance is the process by which a new class is created from an existing class, inheriting all the attributes and methods of the parent class. This allows for code reuse and allows for more specific classes to be created from more general ones.\\n\\n3. Polymorphism: Polymorphism is the ability of objects to take on many forms or have multiple behaviors. In OOP, polymorphism is often achieved through method overriding and method overloading.\\n\\n4. Abstraction: Abstraction is the practice of focusing on essential features of an object and ignoring its non-essential or implementation details. It allows for complex systems to be modeled in a simpler way and makes code easier to understand and maintain. '"
      ]
     },
     "execution_count": 23,
     "metadata": {},
     "output_type": "execute_result"
    }
   ],
   "source": [
    "''' Ans. The four pillars of Object Oriented Programming (OOPs) are: '''\n",
    "\n",
    "Explanation_2 = '''\n",
    "1. Encapsulation: Encapsulation is the practice of hiding internal details of an object and only exposing a public interface. \n",
    "This helps to prevent accidental modification of internal data and ensures that objects are used correctly by external code.\n",
    "\n",
    "2. Inheritance: Inheritance is the process by which a new class is created from an existing class, inheriting all the attributes and methods of the parent class. \n",
    "This allows for code reuse and allows for more specific classes to be created from more general ones.\n",
    "\n",
    "3. Polymorphism: Polymorphism is the ability of objects to take on many forms or have multiple behaviors. \n",
    "In OOPs, polymorphism is often achieved through method overriding and method overloading.\n",
    "\n",
    "4. Abstraction: Abstraction is the practice of focusing on essential features of an object and ignoring its non-essential or implementation details. \n",
    "It allows for complex systems to be modeled in a simpler way and makes code easier to understand and maintain. '''\n",
    "\n",
    "print(Explanation_2)"
   ]
  },
  {
   "attachments": {},
   "cell_type": "markdown",
   "metadata": {
    "collapsed": false
   },
   "source": [
    "# QUESTION 3 : Explain why the __init__() function is used. Give a suitable example."
   ]
  },
  {
   "cell_type": "code",
   "execution_count": 17,
   "metadata": {
    "ExecuteTime": {
     "end_time": "2023-04-24T01:02:23.573788Z",
     "start_time": "2023-04-24T01:02:23.511290Z"
    },
    "collapsed": false
   },
   "outputs": [
    {
     "data": {
      "text/plain": [
       "'Ques 3.\\n\\nAns.\\n'"
      ]
     },
     "execution_count": 17,
     "metadata": {},
     "output_type": "execute_result"
    }
   ],
   "source": [
    "'''Ques 3.\n",
    "\n",
    "Ans.\n",
    "'''"
   ]
  },
  {
   "attachments": {},
   "cell_type": "markdown",
   "metadata": {
    "collapsed": false
   },
   "source": [
    "# QUESTION 4 : Why self is used in OOPs?"
   ]
  },
  {
   "cell_type": "code",
   "execution_count": 18,
   "metadata": {
    "ExecuteTime": {
     "end_time": "2023-04-24T01:02:23.761292Z",
     "start_time": "2023-04-24T01:02:23.558166Z"
    },
    "collapsed": false
   },
   "outputs": [
    {
     "data": {
      "text/plain": [
       "'Ques 4.\\n\\nAns.\\n'"
      ]
     },
     "execution_count": 18,
     "metadata": {},
     "output_type": "execute_result"
    }
   ],
   "source": [
    "'''Ques 4.\n",
    "\n",
    "Ans.\n",
    "'''"
   ]
  },
  {
   "attachments": {},
   "cell_type": "markdown",
   "metadata": {
    "collapsed": false
   },
   "source": [
    "# QUESTION 5 : What is inheritance? Give an example for each type of inheritance."
   ]
  },
  {
   "cell_type": "code",
   "execution_count": 19,
   "metadata": {
    "ExecuteTime": {
     "end_time": "2023-04-24T01:02:23.792537Z",
     "start_time": "2023-04-24T01:02:23.620669Z"
    },
    "collapsed": false
   },
   "outputs": [
    {
     "data": {
      "text/plain": [
       "'Ques 5.\\n\\nAns.\\n'"
      ]
     },
     "execution_count": 19,
     "metadata": {},
     "output_type": "execute_result"
    }
   ],
   "source": [
    "'''Ques 5.\n",
    "\n",
    "Ans.\n",
    "'''"
   ]
  }
 ],
 "metadata": {
  "kernelspec": {
   "display_name": "Python 3",
   "language": "python",
   "name": "python3"
  },
  "language_info": {
   "codemirror_mode": {
    "name": "ipython",
    "version": 3
   },
   "file_extension": ".py",
   "mimetype": "text/x-python",
   "name": "python",
   "nbconvert_exporter": "python",
   "pygments_lexer": "ipython3",
   "version": "3.10.4"
  }
 },
 "nbformat": 4,
 "nbformat_minor": 0
}
