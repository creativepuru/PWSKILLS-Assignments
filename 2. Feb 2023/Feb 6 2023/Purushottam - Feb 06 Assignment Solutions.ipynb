{
 "cells": [
  {
   "attachments": {},
   "cell_type": "markdown",
   "metadata": {
    "collapsed": false
   },
   "source": [
    "> [![Purushottam Anand 🇮🇳 on GitHub ☕](https://github.com/creativepuru.png?size=100)](https://github.com/creativepuru \"Purushottam Anand 🇮🇳 on GitHub ☕\")\n",
    "\n",
    "# 📚 Assignment No. : 7️⃣  |  Date : 06 Feb 2023\n",
    "# 📖 Notebook Topic : Python Task 1 🐍\n",
    "\n",
    "[![Company Name](https://readme-typing-svg.demolab.com?font=Calibri&size=26&pause=1000&multiline=false&width=800&height=50&lines=✨+Organisation+Name+:+PWSKILLS)](https://github.com/creativepuru/PWSKILLS-Assignments)\n",
    "\n",
    "[![Course Name](https://readme-typing-svg.demolab.com?font=Calibri&size=26&pause=1000&multiline=false&width=800&height=50&lines=✨+Course+Name+:+DATA+SCIENCE+MASTERS)](https://github.com/creativepuru/PWSKILLS-Assignments)\n",
    "\n",
    "[![Batch](https://readme-typing-svg.demolab.com?font=Calibri&size=26&pause=1000&multiline=false&width=800&height=50&lines=✨+Batch+:+IMPACT+BATCH+1)](https://github.com/creativepuru/PWSKILLS-Assignments)\n",
    "\n",
    "[![Student Name](https://readme-typing-svg.demolab.com?font=Calibri&size=26&pause=1000&multiline=false&width=800&height=50&lines=✨+Student+Name+:+Purushottam+Anand)](https://github.com/creativepuru)\n",
    "\n",
    "-------------------------------------------------------------------------------"
   ]
  },
  {
   "attachments": {},
   "cell_type": "markdown",
   "metadata": {
    "collapsed": false
   },
   "source": [
    "# QUESTION 1️⃣ : \n",
    "# Create a function which will take a list as an argument and return the product of all the numbers after creating a flat list.\n",
    "# Use the below-given list as an argument for your function.\n",
    "\n",
    "# list1 = [1,2,3,4, [44,55,66, True], False, (34,56,78,89,34), {1,2,3,3,2,1}, {1:34, \"key2\": [55, 67, 78, 89], 4: (45,22, 61, 34)}, [56, 'data science'], 'Machine Learning']\n",
    "\n",
    "# Note: you must extract numeric keys and values of the dictionary also. "
   ]
  },
  {
   "cell_type": "code",
   "execution_count": 20,
   "metadata": {
    "ExecuteTime": {
     "end_time": "2023-04-24T01:02:23.464415Z",
     "start_time": "2023-04-24T01:02:23.448790Z"
    },
    "collapsed": true
   },
   "outputs": [
    {
     "name": "stdout",
     "output_type": "stream",
     "text": [
      "Final List after filter :  [1, 2, 3, 4, 44, 55, 66, 34, 56, 78, 89, 34, 1, 2, 3, 3, 2, 1, 1, 4, 34, 55, 67, 78, 89, 45, 22, 61, 34, 56]\n",
      "\n",
      "Product of list :  24808271033922512873003047452672000\n"
     ]
    }
   ],
   "source": [
    "'''Ans. Find below the code of given question statement : '''\n",
    "\n",
    "# Code line goes here :\n",
    "\n",
    "def producOfNumbersinList(given_list):\n",
    "    \n",
    "    for items in given_list:\n",
    "\n",
    "        if type(items) == int or type(items) == float:                  # filter integer or float types from the given list\n",
    "            blankList.append(items)\n",
    "            \n",
    "        elif type(items) == list or type(items) == tuple:               # filter list or tuple types from the given list\n",
    "            for i in items:\n",
    "                if type(i) == int or type(i) == float:\n",
    "                    blankList.append(i)\n",
    "                    \n",
    "        elif type(items) == dict:                                       # filter dictionary types from the given list\n",
    "            for key in items.keys():                                    # filter integer or float key from the dict\n",
    "                if type(key) == int or type(key) == float:\n",
    "                    blankList.append(key)\n",
    "                else:\n",
    "                    pass\n",
    "                \n",
    "            for value in items.values():                                # filter integer or float values from the dict\n",
    "                if type(value) == int or type(value) == float:\n",
    "                    blankList.append(value)\n",
    "                    \n",
    "                elif type(value) == list or type(value) == tuple:\n",
    "                    for i in value:\n",
    "                        blankList.append(i)\n",
    "\n",
    "                else:\n",
    "                    pass\n",
    "            \n",
    "        elif type(items) == set:                   # filter set type from the given list\n",
    "            \n",
    "            itemsinSet = 0\n",
    "            finalListOfSet = []                # creating empty list to store all the values of set including duplicates in the form of list\n",
    "            setasList = list(items)             # converting set into list and storing in the variable \"setasList\"\n",
    "\n",
    "            for i in setasList:               # checking for all the values in set including duplicates and storing in the variable \"itemsinSet\"\n",
    "                setasList.count(i)\n",
    "                itemsinSet += i\n",
    "                \n",
    "                if itemsinSet == 2*len(setasList):                # checking if the set contains duplicate values and then apeending it to the blank list created\n",
    "                    finalListOfSet = setasList + setasList[::-1]\n",
    "\n",
    "                    for i in finalListOfSet:\n",
    "                        blankList.append(i)\n",
    "                else:\n",
    "                    pass\n",
    "    \n",
    "    return blankList\n",
    "\n",
    "\n",
    "list1 = [1,2,3,4, [44,55,66, True], False, (34,56,78,89,34), {1,2,3,3,2,1}, {1: 34, \"key2\": [55, 67, 78, 89], 4: (45, 22, 61, 34)}, [56, 'data science'], 'Machine Learning']\n",
    "\n",
    "blankList = []\n",
    "\n",
    "# passing list1 as an argument to the function\n",
    "producOfNumbersinList(list1)\n",
    "\n",
    "# calculating product of the filtered list of integers & floats\n",
    "product = 1\n",
    "for i in blankList:\n",
    "    product *= i\n",
    "\n",
    "\n",
    "# printing the final outcome\n",
    "print(\"Final List after filter : \", blankList)\n",
    "print()\n",
    "print(\"Product of list : \", product)\n"
   ]
  },
  {
   "attachments": {},
   "cell_type": "markdown",
   "metadata": {
    "collapsed": false
   },
   "source": [
    "# QUESTION 2️⃣ : \n",
    "\n",
    "# Write a python program for encrypting a message sent to you by your friend. \n",
    "# The logic of encryption should be such that, for a the output should be z. \n",
    "# For b, the output should be y. \n",
    "# For c, the output should be x respectively. \n",
    "# Also, the whitespace should be replaced with a dollar sign. Keep the punctuation marks unchanged.\n",
    "\n",
    "# Input Sentence: I want to become a Data Scientist.\n",
    "\n",
    "# Encrypt the above input sentence using the program you just created.\n",
    "\n",
    "# Note: Convert the given input sentence into lowercase before encrypting. The final output should be lowercase."
   ]
  },
  {
   "cell_type": "code",
   "execution_count": 22,
   "metadata": {
    "ExecuteTime": {
     "end_time": "2023-04-24T01:02:23.573788Z",
     "start_time": "2023-04-24T01:02:23.480037Z"
    },
    "collapsed": false
   },
   "outputs": [
    {
     "name": "stdout",
     "output_type": "stream",
     "text": [
      "Here is the Encrypted message : zyxwvutsrqponmlkjihgfedcba\n"
     ]
    }
   ],
   "source": [
    "'''Ans. Find below the code of given question statement : '''\n",
    "\n",
    "# Code line goes here :\n",
    "\n",
    "# given_string = str(\"I want to become a Data Scientist\")\n",
    "\n",
    "# lower_string = given_string.lower()\n",
    "\n",
    "# for i in lower_string:\n",
    "#     lower_string.replace(i)\n",
    "\n",
    "\n",
    "def encryptMessage(message):\n",
    "\n",
    "    message = message.lower()\n",
    "    encrypted = \"\"\n",
    "\n",
    "    for char in message:\n",
    "        if char == \" \":\n",
    "            encrypted += \"$\"\n",
    "\n",
    "        elif char.isalpha():\n",
    "            encrypted += chr(219 - ord(char))\n",
    "\n",
    "        else:\n",
    "            encrypted += char\n",
    "\n",
    "    return encrypted\n",
    "\n",
    "\n",
    "message = \"abcdefghijklmnopqrstuvwxyz\"\n",
    "\n",
    "encrypted_message = encryptMessage(message)\n",
    "\n",
    "print(\"Here is the Encrypted message :\", encrypted_message)\n"
   ]
  },
  {
   "attachments": {},
   "cell_type": "markdown",
   "metadata": {},
   "source": [
    "# ------------- ASSIGNMENT ENDS HERE ------------- "
   ]
  },
  {
   "attachments": {},
   "cell_type": "markdown",
   "metadata": {},
   "source": [
    "## 📲 [![Linkedin](https://img.shields.io/badge/-Connect%20on%20Linkedin-blue?style=for-the-badge&logo=linkedin)](https://openinapp.co/connect-on-linkedin-puru)\n",
    "\n",
    "## 👉🏻 [![BMC](https://img.shields.io/badge/Buy%20Me%20a%20Coffee%20☕-%23FFDD00.svg?&style=for-the-badge&logo=buy-me-a-coffee&logoColor=black)](https://www.buymeacoffee.com/creativepuru)"
   ]
  }
 ],
 "metadata": {
  "kernelspec": {
   "display_name": "Python 3",
   "language": "python",
   "name": "python3"
  },
  "language_info": {
   "codemirror_mode": {
    "name": "ipython",
    "version": 3
   },
   "file_extension": ".py",
   "mimetype": "text/x-python",
   "name": "python",
   "nbconvert_exporter": "python",
   "pygments_lexer": "ipython3",
   "version": "3.11.3"
  }
 },
 "nbformat": 4,
 "nbformat_minor": 0
}
