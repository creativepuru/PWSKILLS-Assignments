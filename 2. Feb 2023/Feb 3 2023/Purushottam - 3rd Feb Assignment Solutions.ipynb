{
 "cells": [
  {
   "cell_type": "markdown",
   "source": [
    "# || Assignment No. : 4  |  Date : 3rd Feb 2023  ||\n",
    "# || Notebook Topic : Solutions of Assignment  ||\n",
    "# || Company Name : PWSKILLS  ||\n",
    "# || Course Name : DATA SCIENCE MASTERS  ||\n",
    "# || Batch : IMPACT BATCH 1  ||\n",
    "# || Student Name : Purushottam Anand  ||\n",
    "\n",
    "-------------------------------------------------------------------------------"
   ],
   "metadata": {
    "collapsed": false
   }
  },
  {
   "cell_type": "markdown",
   "source": [
    "# QUESTION 1 :"
   ],
   "metadata": {
    "collapsed": false
   }
  },
  {
   "cell_type": "code",
   "execution_count": 22,
   "metadata": {
    "collapsed": true,
    "ExecuteTime": {
     "start_time": "2023-04-22T00:34:25.229728Z",
     "end_time": "2023-04-22T00:34:25.624280Z"
    }
   },
   "outputs": [
    {
     "name": "stdout",
     "output_type": "stream",
     "text": [
      "This function is used to return a list of odd numbers in the range of 1 to 25\n",
      "[1, 3, 5, 7, 9, 11, 13, 15, 17, 19, 21, 23, 25]\n",
      "\n"
     ]
    }
   ],
   "source": [
    "'''Ques 1. Which keyword is used to create a function? Create a function to return a list of odd numbers in the range of 1 to 25.\n",
    "\n",
    "Ans. 'def' keyword is used to create a function.\n",
    "Below is the example of a function which return a list of odd numbers from 1 to 25 : '''\n",
    "\n",
    "# code line goes here :\n",
    "\n",
    "def odd_numbers() :\n",
    "    \"\"\"Creator : Purushottam Anand \\n\n",
    "    This function is used to return a list of odd numbers in the range of 1 to 25\"\"\"\n",
    "\n",
    "    print(\"This function is used to return a list of odd numbers in the range of 1 to 25\")\n",
    "    odd_list = []\n",
    "    for i in range(1, 26) :\n",
    "        if i % 2 != 0 :\n",
    "            odd_list.append(i)\n",
    "    return odd_list\n",
    "\n",
    "print(odd_numbers())\n",
    "\n",
    "'''This function first initializes an empty list called odd_list. It then iterates through the range of numbers 1 to 25 using a for loop.\n",
    "For each number in the range, the function checks if the number is odd (i.e., not divisible by 2) using the modulo operator (%).\n",
    "If the number is odd, it will appended to the odd_list. Finally, the function returns the odd_list.\n",
    "\n",
    "The function prints output when the function is called using print() statement after it's definition. '''\n",
    "print()"
   ]
  },
  {
   "cell_type": "markdown",
   "source": [
    "# QUESTION 2 :"
   ],
   "metadata": {
    "collapsed": false
   }
  },
  {
   "cell_type": "code",
   "execution_count": 31,
   "outputs": [
    {
     "name": "stdout",
     "output_type": "stream",
     "text": [
      "--> This is a function that uses *args to add any number of integers\n",
      "Sum of given integers are : 15\n",
      "\n",
      "--> This is a function that uses **kwargs to take dictionary as input\n"
     ]
    },
    {
     "data": {
      "text/plain": "{'a': [1, 2, 3, 4, 5], 'b': 'puru', 'c': 32.15}"
     },
     "execution_count": 31,
     "metadata": {},
     "output_type": "execute_result"
    }
   ],
   "source": [
    "'''Ques 2. Why *args and **kwargs is used in some functions?\n",
    "Create a function each for *args and **kwargs to demonstrate their use.\n",
    "\n",
    "Ans. *args and **kwargs are used in Python functions when the number of arguments that a function will receive is not known.\n",
    "\n",
    "*args is used to pass a variable number of arguments to a function. It allows us to pass any number of positional arguments to the function.\n",
    "*args is represented by an asterisk (*) followed by a parameter name (usually args).\n",
    "The parameter name can be anything (string) rather than 'args' but in general we use 'args' as parameter name.\n",
    "\n",
    "**kwargs is used to pass a variable number of keyword arguments (i.e., named arguments) to a function.\n",
    "It allows us to pass any number of keyword arguments to the function which are then passed as a dictionary to the function.\n",
    "**kwargs is represented by two asterisks (**) followed by a parameter name (usually kwargs).\n",
    "\n",
    "Below is an example of function that uses *args to add any number of integers : '''\n",
    "\n",
    "# Code line goes here :\n",
    "\n",
    "def add_numbers(*args) :\n",
    "    \"\"\"Creator : Purushottam Anand \\n\n",
    "    This function is used to add any number of integers\"\"\"\n",
    "\n",
    "    print(\"--> This is a function that uses *args to add any number of integers\")\n",
    "    sum = 0\n",
    "    for num in args :\n",
    "        sum = sum + num\n",
    "    return sum\n",
    "\n",
    "print(\"Sum of given integers are :\", add_numbers(1,2,3,4,5))\n",
    "''' -----------------------------------------------------------------------------------------------------------------------------------------------------------\n",
    "\n",
    "Below is an example of function that uses **kwargs : '''\n",
    "\n",
    "# Code line goes here :\n",
    "\n",
    "def dict(**kwargs) :\n",
    "    \"\"\"Creator : Purushottam Anand \\n\n",
    "    This function is used to take dictionary as input\"\"\"\n",
    "\n",
    "    print(\"\\n--> This is a function that uses **kwargs to take dictionary as input\")\n",
    "    return kwargs\n",
    "\n",
    "dict(a = [1,2,3,4,5], b = \"puru\", c = 32.15)"
   ],
   "metadata": {
    "collapsed": false,
    "ExecuteTime": {
     "start_time": "2023-04-22T00:43:31.793428Z",
     "end_time": "2023-04-22T00:43:31.849492Z"
    }
   }
  },
  {
   "cell_type": "markdown",
   "source": [
    "# QUESTION 3 :"
   ],
   "metadata": {
    "collapsed": false
   }
  },
  {
   "cell_type": "code",
   "execution_count": 77,
   "outputs": [
    {
     "name": "stdout",
     "output_type": "stream",
     "text": [
      "Please find below the first five elements of the given list : [2, 4, 6, 8, 10, 12, 14, 16, 18, 20]\n",
      "Output :  [2, 4, 6, 8, 10]\n"
     ]
    }
   ],
   "source": [
    "'''Ques 3. What is an iterator in python? Name the method used to initialise the iterator object and the method used for iteration.\n",
    "Use these methods to print the first five elements of the given list [2, 4, 6, 8, 10, 12, 14, 16, 18, 20].\n",
    "\n",
    "Ans. In Python, an iterator is an object that implements the iterator protocol, which consists of the methods __iter__ and __next__.\n",
    "\n",
    "The __iter__ method is used to initialize the iterator object and returns the iterator object itself.\n",
    "The __next__ method is used to iterate over the elements of the iterator and returns the next element of the iterator.\n",
    "When there are no more elements to iterate over, the __next__ method raises the StopIteration exception.\n",
    "\n",
    "Below is an example of code that uses an iterator to print the first five elements of the given list [2, 4, 6, 8, 10, 12, 14, 16, 18, 20] : '''\n",
    "\n",
    "# Code line goes here :\n",
    "\n",
    "given_list = [2, 4, 6, 8, 10, 12, 14, 16, 18, 20]\n",
    "\n",
    "iterator = iter(given_list)\n",
    "output_as_list = []\n",
    "\n",
    "print(\"Please find below the first five elements of the given list :\", list)\n",
    "for i in range(5) :\n",
    "    output = next(iterator)\n",
    "    output_as_list.append(output)\n",
    "\n",
    "print(\"Output : \", output_as_list)\n"
   ],
   "metadata": {
    "collapsed": false,
    "ExecuteTime": {
     "start_time": "2023-04-22T01:18:04.014710Z",
     "end_time": "2023-04-22T01:18:04.051826Z"
    }
   }
  },
  {
   "cell_type": "markdown",
   "source": [
    "# QUESTION 4 :"
   ],
   "metadata": {
    "collapsed": false
   }
  },
  {
   "cell_type": "code",
   "execution_count": 78,
   "outputs": [
    {
     "name": "stdout",
     "output_type": "stream",
     "text": [
      "You have entered :  5 \n",
      "Please find below 5 even numbers as your desired result : \n",
      "2\n",
      "4\n",
      "6\n",
      "8\n",
      "10\n",
      "\n"
     ]
    }
   ],
   "source": [
    "'''Ques 4. What is a generator function in python ?\n",
    "Why yield keyword is used ?\n",
    "Give an example of a generator function.\n",
    "\n",
    "Ans. In Python, a generator function is a function that returns an iterator, which can be used to iterate over a sequence of values.\n",
    "\n",
    "Generator functions are similar to regular functions, but instead of returning a value and exiting, they yield a value and temporarily suspend their execution state.\n",
    "This means that generator functions can be used to generate a sequence of values on the fly, without needing to generate all the values at once,\n",
    "as is required with a list comprehension or other data structures.\n",
    "\n",
    "The yield keyword is used in a generator function to yield a value and suspend the execution of the function.\n",
    "When the next value is requested from the generator, the function resumes execution from where it left off and continues until the next yield statement is encountered.\n",
    "\n",
    "Find below the example of a generator function that generates a sequence of even numbers till the given input by user : '''\n",
    "\n",
    "# Code line goes here :\n",
    "\n",
    "n = int(input(\"Enter how many even numbers you want to generate : \"))\n",
    "\n",
    "def even_numbers(n) :\n",
    "    \"\"\"Creator : Purushottam Anand \\n\n",
    "    This function is used to generate a sequence of even numbers till the given input by user.\"\"\"\n",
    "\n",
    "    print(\"You have entered : \", n, \"\\nPlease find below\", n, \"even numbers as your desired result : \")\n",
    "    i = 1\n",
    "    while i <= n :\n",
    "        yield 2*i\n",
    "        i = i + 1\n",
    "\n",
    "my_generator = even_numbers(n)\n",
    "for num in my_generator :\n",
    "    print(num)\n",
    "\n",
    "'''In this example, the even_numbers function is a generator function that generates a sequence of even numbers.\n",
    "The yield keyword is used to yield the next even number, and the function suspends its execution until the next value is requested.\n",
    "The while loop in the function ensures that the generator produces a total of n even numbers.\n",
    "\n",
    "We then create a generator object my_generator by calling the even_numbers function with an argument of 'n' which is decided by user.\n",
    "We use a for loop to iterate over the values generated by the generator and print each value. '''\n",
    "print()"
   ],
   "metadata": {
    "collapsed": false,
    "ExecuteTime": {
     "start_time": "2023-04-22T01:18:07.149526Z",
     "end_time": "2023-04-22T01:18:09.092330Z"
    }
   }
  },
  {
   "cell_type": "markdown",
   "source": [
    "# QUESTION 5 :"
   ],
   "metadata": {
    "collapsed": false
   }
  },
  {
   "cell_type": "code",
   "execution_count": 93,
   "outputs": [
    {
     "name": "stdout",
     "output_type": "stream",
     "text": [
      "Please find below first 20 prime numbers : \n",
      "No. 1 --> 2\n",
      "No. 2 --> 3\n",
      "No. 3 --> 5\n",
      "No. 4 --> 7\n",
      "No. 5 --> 11\n",
      "No. 6 --> 13\n",
      "No. 7 --> 17\n",
      "No. 8 --> 19\n",
      "No. 9 --> 23\n",
      "No. 10 --> 29\n",
      "No. 11 --> 31\n",
      "No. 12 --> 37\n",
      "No. 13 --> 41\n",
      "No. 14 --> 43\n",
      "No. 15 --> 47\n",
      "No. 16 --> 53\n",
      "No. 17 --> 59\n",
      "No. 18 --> 61\n",
      "No. 19 --> 67\n",
      "No. 20 --> 71\n",
      "\n"
     ]
    }
   ],
   "source": [
    "'''Ques 5. Create a generator function for prime numbers less than 1000.\n",
    "Use the next() method to print the first 20 prime numbers.\n",
    "\n",
    "Ans. Below is the example of a generator function that generates prime numbers less than 1000 : '''\n",
    "\n",
    "# Code line goes here :\n",
    "\n",
    "def prime_numbers() :\n",
    "    \"\"\"Creator : Purushottam Anand \\n\n",
    "    This function is used to generate prime numbers less than 1000.\"\"\"\n",
    "    print(\"Please find below first 20 prime numbers : \")\n",
    "    yield 2\n",
    "    for num in range(3, 1000, 2):\n",
    "        for i in range(3, int(num**0.5)+1, 2):\n",
    "            if num % i == 0:\n",
    "                break\n",
    "        else:\n",
    "            yield num\n",
    "\n",
    "my_generator = prime_numbers()\n",
    "for i in range(1,21):\n",
    "    print(\"No.\", i, \"-->\", next(my_generator))\n",
    "\n",
    "'''In this example, the prime_numbers() function is a generator function that generates prime numbers less than 1000.\n",
    "The function starts by yielding the first prime number, which is 2.\n",
    "It then checks odd numbers starting from 3 up to 1000, and for each number, it checks if it is divisible by any odd number less than its square root.\n",
    "If the number is not divisible by any number less than its square root, it is considered a prime number and yielded by the function.\n",
    "\n",
    "We can then use the next() method to print the first 20 prime numbers generated by the prime_numbers() function. '''\n",
    "print()"
   ],
   "metadata": {
    "collapsed": false,
    "ExecuteTime": {
     "start_time": "2023-04-22T01:34:29.651948Z",
     "end_time": "2023-04-22T01:34:29.701858Z"
    }
   }
  },
  {
   "cell_type": "markdown",
   "source": [
    "# QUESTION 6 :"
   ],
   "metadata": {
    "collapsed": false
   }
  },
  {
   "cell_type": "code",
   "execution_count": 101,
   "outputs": [
    {
     "name": "stdout",
     "output_type": "stream",
     "text": [
      "Below is the first 10 Fibonacci series you are looking for -->\n",
      "\n",
      "No. 1 --> 0\n",
      "No. 2 --> 1\n",
      "No. 3 --> 1\n",
      "No. 4 --> 2\n",
      "No. 5 --> 3\n",
      "No. 6 --> 5\n",
      "No. 7 --> 8\n",
      "No. 8 --> 13\n",
      "No. 9 --> 21\n",
      "No. 10 --> 34\n"
     ]
    }
   ],
   "source": [
    "'''Ques 6. Write a python program to print the first 10 Fibonacci numbers using a while loop.\n",
    "\n",
    "Ans. Below is the python program to print first 10 Fibonacci numbers using a while loop : '''\n",
    "\n",
    "# Code line goes here :\n",
    "\n",
    "print(\"Below is the first 10 Fibonacci series you are looking for -->\\n\")\n",
    "a , b = 0 , 1\n",
    "counter = 1\n",
    "\n",
    "while counter <= 10 :\n",
    "    print(\"No.\", counter, \"-->\", a)\n",
    "    c = a + b\n",
    "    a = b\n",
    "    b = c\n",
    "    counter = counter + 1"
   ],
   "metadata": {
    "collapsed": false,
    "ExecuteTime": {
     "start_time": "2023-04-22T01:42:05.156285Z",
     "end_time": "2023-04-22T01:42:05.203149Z"
    }
   }
  },
  {
   "cell_type": "markdown",
   "source": [
    "# QUESTION 7 :"
   ],
   "metadata": {
    "collapsed": false
   }
  },
  {
   "cell_type": "code",
   "execution_count": 105,
   "outputs": [
    {
     "name": "stdout",
     "output_type": "stream",
     "text": [
      "['p', 'w', 's', 'k', 'i', 'l', 'l', 's']\n",
      "\n"
     ]
    }
   ],
   "source": [
    "'''Ques 7. Write a List Comprehension to iterate through the given string: ‘pwskills’.\n",
    "Expected output: ['p', 'w', 's', 'k', 'i', 'l', 'l', 's']\n",
    "\n",
    "Ans. Below is the List Comprehension to iterate through the given string \"pwskills\" and extract the characters 'p', 'w', 's', 'k', 'i', 'l', 'l', and 's'\n",
    "as Expected output: ['p', 'w', 's', 'k', 'i', 'l', 'l', 's'] : '''\n",
    "\n",
    "# Code line goes here :\n",
    "\n",
    "my_string = \"pwskills\"\n",
    "result = [char for char in my_string if char in ['p', 'w', 's', 'k', 'i', 'l']]\n",
    "print(result)\n",
    "\n",
    "''' We start here by defining a string my_string as \"pwskills\".\n",
    "We then use a list comprehension to iterate through each character in the string and select only those that are in the list ['p', 'w', 's', 'k', 'i', 'l'].\n",
    "We then store the result in a list called result to print the output as a list. '''\n",
    "print()"
   ],
   "metadata": {
    "collapsed": false,
    "ExecuteTime": {
     "start_time": "2023-04-22T01:48:00.132552Z",
     "end_time": "2023-04-22T01:48:00.241928Z"
    }
   }
  },
  {
   "cell_type": "markdown",
   "source": [
    "# QUESTION 8 :"
   ],
   "metadata": {
    "collapsed": false
   }
  },
  {
   "cell_type": "code",
   "execution_count": 106,
   "outputs": [
    {
     "data": {
      "text/plain": "'Ques 8. Write a python program to check whether a given number is Palindrome or not using a while loop.\\n\\nAns.\\n'"
     },
     "execution_count": 106,
     "metadata": {},
     "output_type": "execute_result"
    }
   ],
   "source": [
    "'''Ques 8. Write a python program to check whether a given number is Palindrome or not using a while loop.\n",
    "\n",
    "Ans.\n",
    "'''"
   ],
   "metadata": {
    "collapsed": false,
    "ExecuteTime": {
     "start_time": "2023-04-22T01:48:03.549845Z",
     "end_time": "2023-04-22T01:48:03.581099Z"
    }
   }
  },
  {
   "cell_type": "markdown",
   "source": [
    "# QUESTION 9 :"
   ],
   "metadata": {
    "collapsed": false
   }
  },
  {
   "cell_type": "code",
   "execution_count": 98,
   "outputs": [
    {
     "data": {
      "text/plain": "'Ques 9.\\n\\nAns.\\n'"
     },
     "execution_count": 98,
     "metadata": {},
     "output_type": "execute_result"
    }
   ],
   "source": [
    "'''Ques 9.\n",
    "\n",
    "Ans.\n",
    "'''"
   ],
   "metadata": {
    "collapsed": false,
    "ExecuteTime": {
     "start_time": "2023-04-22T01:35:09.332109Z",
     "end_time": "2023-04-22T01:35:09.379580Z"
    }
   }
  },
  {
   "cell_type": "code",
   "execution_count": 98,
   "outputs": [],
   "source": [],
   "metadata": {
    "collapsed": false,
    "ExecuteTime": {
     "start_time": "2023-04-22T01:35:12.078764Z",
     "end_time": "2023-04-22T01:35:12.158262Z"
    }
   }
  },
  {
   "cell_type": "code",
   "execution_count": null,
   "outputs": [],
   "source": [],
   "metadata": {
    "collapsed": false
   }
  }
 ],
 "metadata": {
  "kernelspec": {
   "display_name": "Python 3",
   "language": "python",
   "name": "python3"
  },
  "language_info": {
   "codemirror_mode": {
    "name": "ipython",
    "version": 2
   },
   "file_extension": ".py",
   "mimetype": "text/x-python",
   "name": "python",
   "nbconvert_exporter": "python",
   "pygments_lexer": "ipython2",
   "version": "2.7.6"
  }
 },
 "nbformat": 4,
 "nbformat_minor": 0
}
