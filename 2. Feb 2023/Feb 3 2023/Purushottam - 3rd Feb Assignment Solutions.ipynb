{
 "cells": [
  {
   "cell_type": "markdown",
   "source": [
    "# || Assignment No. : 4  |  Date : 3rd Feb 2023  ||\n",
    "# || Notebook Topic : Solutions of Assignment  ||\n",
    "# || Company Name : PWSKILLS  ||\n",
    "# || Course Name : DATA SCIENCE MASTERS  ||\n",
    "# || Batch : IMPACT BATCH 1  ||\n",
    "# || Student Name : Purushottam Anand  ||\n",
    "\n",
    "-------------------------------------------------------------------------------"
   ],
   "metadata": {
    "collapsed": false
   }
  },
  {
   "cell_type": "code",
   "execution_count": 11,
   "metadata": {
    "collapsed": true,
    "ExecuteTime": {
     "start_time": "2023-04-21T17:18:08.013881Z",
     "end_time": "2023-04-21T17:18:08.187010Z"
    }
   },
   "outputs": [
    {
     "data": {
      "text/plain": "'Ques 1.\\n\\nAns. '"
     },
     "execution_count": 11,
     "metadata": {},
     "output_type": "execute_result"
    }
   ],
   "source": [
    "'''Ques 1.\n",
    "\n",
    "Ans. '''"
   ]
  },
  {
   "cell_type": "code",
   "execution_count": 12,
   "outputs": [
    {
     "data": {
      "text/plain": "'Ques 2.\\n\\nAns. '"
     },
     "execution_count": 12,
     "metadata": {},
     "output_type": "execute_result"
    }
   ],
   "source": [
    "'''Ques 2.\n",
    "\n",
    "Ans. '''"
   ],
   "metadata": {
    "collapsed": false,
    "ExecuteTime": {
     "start_time": "2023-04-21T17:18:08.042037Z",
     "end_time": "2023-04-21T17:18:08.187010Z"
    }
   }
  },
  {
   "cell_type": "code",
   "execution_count": 13,
   "outputs": [
    {
     "data": {
      "text/plain": "'Ques 3.\\n\\nAns. '"
     },
     "execution_count": 13,
     "metadata": {},
     "output_type": "execute_result"
    }
   ],
   "source": [
    "'''Ques 3.\n",
    "\n",
    "Ans. '''"
   ],
   "metadata": {
    "collapsed": false,
    "ExecuteTime": {
     "start_time": "2023-04-21T17:18:08.073289Z",
     "end_time": "2023-04-21T17:18:08.187010Z"
    }
   }
  },
  {
   "cell_type": "code",
   "execution_count": 14,
   "outputs": [
    {
     "data": {
      "text/plain": "'Ques 4.\\n\\nAns. '"
     },
     "execution_count": 14,
     "metadata": {},
     "output_type": "execute_result"
    }
   ],
   "source": [
    "'''Ques 4.\n",
    "\n",
    "Ans. '''"
   ],
   "metadata": {
    "collapsed": false,
    "ExecuteTime": {
     "start_time": "2023-04-21T17:18:08.120563Z",
     "end_time": "2023-04-21T17:18:08.187010Z"
    }
   }
  },
  {
   "cell_type": "code",
   "execution_count": 15,
   "outputs": [
    {
     "data": {
      "text/plain": "'Ques 5.\\n\\nAns. '"
     },
     "execution_count": 15,
     "metadata": {},
     "output_type": "execute_result"
    }
   ],
   "source": [
    "'''Ques 5.\n",
    "\n",
    "Ans. '''"
   ],
   "metadata": {
    "collapsed": false,
    "ExecuteTime": {
     "start_time": "2023-04-21T17:18:08.136220Z",
     "end_time": "2023-04-21T17:18:08.187010Z"
    }
   }
  },
  {
   "cell_type": "code",
   "execution_count": 16,
   "outputs": [
    {
     "data": {
      "text/plain": "'Ques 6.\\n\\nAns. '"
     },
     "execution_count": 16,
     "metadata": {},
     "output_type": "execute_result"
    }
   ],
   "source": [
    "'''Ques 6.\n",
    "\n",
    "Ans. '''"
   ],
   "metadata": {
    "collapsed": false,
    "ExecuteTime": {
     "start_time": "2023-04-21T17:18:08.183083Z",
     "end_time": "2023-04-21T17:18:08.538069Z"
    }
   }
  },
  {
   "cell_type": "code",
   "execution_count": 17,
   "outputs": [
    {
     "data": {
      "text/plain": "'Ques 7.\\n\\nAns. '"
     },
     "execution_count": 17,
     "metadata": {},
     "output_type": "execute_result"
    }
   ],
   "source": [
    "'''Ques 7.\n",
    "\n",
    "Ans. '''"
   ],
   "metadata": {
    "collapsed": false,
    "ExecuteTime": {
     "start_time": "2023-04-21T17:18:08.242059Z",
     "end_time": "2023-04-21T17:18:08.602006Z"
    }
   }
  },
  {
   "cell_type": "code",
   "execution_count": 18,
   "outputs": [
    {
     "data": {
      "text/plain": "'Ques 8.\\n\\nAns. '"
     },
     "execution_count": 18,
     "metadata": {},
     "output_type": "execute_result"
    }
   ],
   "source": [
    "'''Ques 8.\n",
    "\n",
    "Ans. '''"
   ],
   "metadata": {
    "collapsed": false,
    "ExecuteTime": {
     "start_time": "2023-04-21T17:18:08.288939Z",
     "end_time": "2023-04-21T17:18:08.602006Z"
    }
   }
  },
  {
   "cell_type": "code",
   "execution_count": 19,
   "outputs": [
    {
     "data": {
      "text/plain": "'Ques 9.\\n\\nAns. '"
     },
     "execution_count": 19,
     "metadata": {},
     "output_type": "execute_result"
    }
   ],
   "source": [
    "'''Ques 9.\n",
    "\n",
    "Ans. '''"
   ],
   "metadata": {
    "collapsed": false,
    "ExecuteTime": {
     "start_time": "2023-04-21T17:18:08.320598Z",
     "end_time": "2023-04-21T17:18:08.602006Z"
    }
   }
  },
  {
   "cell_type": "code",
   "execution_count": 19,
   "outputs": [],
   "source": [],
   "metadata": {
    "collapsed": false,
    "ExecuteTime": {
     "start_time": "2023-04-21T17:18:08.367504Z",
     "end_time": "2023-04-21T17:18:08.602006Z"
    }
   }
  }
 ],
 "metadata": {
  "kernelspec": {
   "display_name": "Python 3",
   "language": "python",
   "name": "python3"
  },
  "language_info": {
   "codemirror_mode": {
    "name": "ipython",
    "version": 2
   },
   "file_extension": ".py",
   "mimetype": "text/x-python",
   "name": "python",
   "nbconvert_exporter": "python",
   "pygments_lexer": "ipython2",
   "version": "2.7.6"
  }
 },
 "nbformat": 4,
 "nbformat_minor": 0
}
