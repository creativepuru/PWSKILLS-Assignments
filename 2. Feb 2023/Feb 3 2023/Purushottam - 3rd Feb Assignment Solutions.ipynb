{
 "cells": [
  {
   "cell_type": "markdown",
   "source": [
    "# || Assignment No. : 4  |  Date : 3rd Feb 2023  ||\n",
    "# || Notebook Topic : Solutions of Assignment  ||\n",
    "# || Company Name : PWSKILLS  ||\n",
    "# || Course Name : DATA SCIENCE MASTERS  ||\n",
    "# || Batch : IMPACT BATCH 1  ||\n",
    "# || Student Name : Purushottam Anand  ||\n",
    "\n",
    "-------------------------------------------------------------------------------"
   ],
   "metadata": {
    "collapsed": false
   }
  },
  {
   "cell_type": "markdown",
   "source": [
    "# QUESTION 1 :"
   ],
   "metadata": {
    "collapsed": false
   }
  },
  {
   "cell_type": "code",
   "execution_count": 22,
   "metadata": {
    "collapsed": true,
    "ExecuteTime": {
     "start_time": "2023-04-22T00:34:25.229728Z",
     "end_time": "2023-04-22T00:34:25.624280Z"
    }
   },
   "outputs": [
    {
     "name": "stdout",
     "output_type": "stream",
     "text": [
      "This function is used to return a list of odd numbers in the range of 1 to 25\n",
      "[1, 3, 5, 7, 9, 11, 13, 15, 17, 19, 21, 23, 25]\n",
      "\n"
     ]
    }
   ],
   "source": [
    "'''Ques 1. Which keyword is used to create a function? Create a function to return a list of odd numbers in the range of 1 to 25.\n",
    "\n",
    "Ans. 'def' keyword is used to create a function.\n",
    "Below is the example of a function which return a list of odd numbers from 1 to 25 : '''\n",
    "\n",
    "# code line goes here :\n",
    "\n",
    "def odd_numbers() :\n",
    "    \"\"\"Creator : Purushottam Anand \\n\n",
    "    This function is used to return a list of odd numbers in the range of 1 to 25\"\"\"\n",
    "\n",
    "    print(\"This function is used to return a list of odd numbers in the range of 1 to 25\")\n",
    "    odd_list = []\n",
    "    for i in range(1, 26) :\n",
    "        if i % 2 != 0 :\n",
    "            odd_list.append(i)\n",
    "    return odd_list\n",
    "\n",
    "print(odd_numbers())\n",
    "\n",
    "'''This function first initializes an empty list called odd_list. It then iterates through the range of numbers 1 to 25 using a for loop.\n",
    "For each number in the range, the function checks if the number is odd (i.e., not divisible by 2) using the modulo operator (%).\n",
    "If the number is odd, it will appended to the odd_list. Finally, the function returns the odd_list.\n",
    "\n",
    "The function prints output when the function is called using print() statement after it's definition. '''\n",
    "print()"
   ]
  },
  {
   "cell_type": "markdown",
   "source": [
    "# QUESTION 2 :"
   ],
   "metadata": {
    "collapsed": false
   }
  },
  {
   "cell_type": "code",
   "execution_count": 31,
   "outputs": [
    {
     "name": "stdout",
     "output_type": "stream",
     "text": [
      "--> This is a function that uses *args to add any number of integers\n",
      "Sum of given integers are : 15\n",
      "\n",
      "--> This is a function that uses **kwargs to take dictionary as input\n"
     ]
    },
    {
     "data": {
      "text/plain": "{'a': [1, 2, 3, 4, 5], 'b': 'puru', 'c': 32.15}"
     },
     "execution_count": 31,
     "metadata": {},
     "output_type": "execute_result"
    }
   ],
   "source": [
    "'''Ques 2. Why *args and **kwargs is used in some functions?\n",
    "Create a function each for *args and **kwargs to demonstrate their use.\n",
    "\n",
    "Ans. *args and **kwargs are used in Python functions when the number of arguments that a function will receive is not known.\n",
    "\n",
    "*args is used to pass a variable number of arguments to a function. It allows us to pass any number of positional arguments to the function.\n",
    "*args is represented by an asterisk (*) followed by a parameter name (usually args).\n",
    "The parameter name can be anything (string) rather than 'args' but in general we use 'args' as parameter name.\n",
    "\n",
    "**kwargs is used to pass a variable number of keyword arguments (i.e., named arguments) to a function.\n",
    "It allows us to pass any number of keyword arguments to the function which are then passed as a dictionary to the function.\n",
    "**kwargs is represented by two asterisks (**) followed by a parameter name (usually kwargs).\n",
    "\n",
    "Below is an example of function that uses *args to add any number of integers : '''\n",
    "\n",
    "# Code line goes here :\n",
    "\n",
    "def add_numbers(*args) :\n",
    "    \"\"\"Creator : Purushottam Anand \\n\n",
    "    This function is used to add any number of integers\"\"\"\n",
    "\n",
    "    print(\"--> This is a function that uses *args to add any number of integers\")\n",
    "    sum = 0\n",
    "    for num in args :\n",
    "        sum = sum + num\n",
    "    return sum\n",
    "\n",
    "print(\"Sum of given integers are :\", add_numbers(1,2,3,4,5))\n",
    "''' -----------------------------------------------------------------------------------------------------------------------------------------------------------\n",
    "\n",
    "Below is an example of function that uses **kwargs : '''\n",
    "\n",
    "# Code line goes here :\n",
    "\n",
    "def dict(**kwargs) :\n",
    "    \"\"\"Creator : Purushottam Anand \\n\n",
    "    This function is used to take dictionary as input\"\"\"\n",
    "\n",
    "    print(\"\\n--> This is a function that uses **kwargs to take dictionary as input\")\n",
    "    return kwargs\n",
    "\n",
    "dict(a = [1,2,3,4,5], b = \"puru\", c = 32.15)"
   ],
   "metadata": {
    "collapsed": false,
    "ExecuteTime": {
     "start_time": "2023-04-22T00:43:31.793428Z",
     "end_time": "2023-04-22T00:43:31.849492Z"
    }
   }
  },
  {
   "cell_type": "markdown",
   "source": [
    "# QUESTION 3 :"
   ],
   "metadata": {
    "collapsed": false
   }
  },
  {
   "cell_type": "code",
   "execution_count": 46,
   "outputs": [
    {
     "name": "stdout",
     "output_type": "stream",
     "text": [
      "Please find below the first five elements of the given list : [2, 4, 6, 8, 10, 12, 14, 16, 18, 20]\n",
      "[2, 4, 6, 8, 10]\n"
     ]
    }
   ],
   "source": [
    "'''Ques 3. What is an iterator in python? Name the method used to initialise the iterator object and the method used for iteration.\n",
    "Use these methods to print the first five elements of the given list [2, 4, 6, 8, 10, 12, 14, 16, 18, 20].\n",
    "\n",
    "Ans. In Python, an iterator is an object that implements the iterator protocol, which consists of the methods __iter__ and __next__.\n",
    "\n",
    "The __iter__ method is used to initialize the iterator object and returns the iterator object itself.\n",
    "The __next__ method is used to iterate over the elements of the iterator and returns the next element of the iterator.\n",
    "When there are no more elements to iterate over, the __next__ method raises the StopIteration exception.\n",
    "\n",
    "Below is an example of code that uses an iterator to print the first five elements of the given list [2, 4, 6, 8, 10, 12, 14, 16, 18, 20] : '''\n",
    "\n",
    "# Code line goes here :\n",
    "\n",
    "given_list = [2, 4, 6, 8, 10, 12, 14, 16, 18, 20]\n",
    "\n",
    "iterator = iter(given_list)\n",
    "output_as_list = []\n",
    "\n",
    "print(\"Please find below the first five elements of the given list :\", list)\n",
    "for i in range(5) :\n",
    "    output = next(iterator)\n",
    "    output_as_list.append(output)\n",
    "\n",
    "print(output_as_list)\n"
   ],
   "metadata": {
    "collapsed": false,
    "ExecuteTime": {
     "start_time": "2023-04-22T00:54:23.336686Z",
     "end_time": "2023-04-22T00:54:23.391749Z"
    }
   }
  },
  {
   "cell_type": "markdown",
   "source": [
    "# QUESTION 4 :"
   ],
   "metadata": {
    "collapsed": false
   }
  },
  {
   "cell_type": "code",
   "execution_count": 47,
   "outputs": [
    {
     "data": {
      "text/plain": "'Ques 4.\\n\\nAns. '"
     },
     "execution_count": 47,
     "metadata": {},
     "output_type": "execute_result"
    }
   ],
   "source": [
    "'''Ques 4.\n",
    "\n",
    "Ans. '''"
   ],
   "metadata": {
    "collapsed": false,
    "ExecuteTime": {
     "start_time": "2023-04-22T00:54:28.876732Z",
     "end_time": "2023-04-22T00:54:28.936932Z"
    }
   }
  },
  {
   "cell_type": "markdown",
   "source": [
    "# QUESTION 5 :"
   ],
   "metadata": {
    "collapsed": false
   }
  },
  {
   "cell_type": "code",
   "execution_count": 48,
   "outputs": [
    {
     "data": {
      "text/plain": "'Ques 5.\\n\\nAns. '"
     },
     "execution_count": 48,
     "metadata": {},
     "output_type": "execute_result"
    }
   ],
   "source": [
    "'''Ques 5.\n",
    "\n",
    "Ans. '''"
   ],
   "metadata": {
    "collapsed": false,
    "ExecuteTime": {
     "start_time": "2023-04-22T00:54:34.366683Z",
     "end_time": "2023-04-22T00:54:34.436347Z"
    }
   }
  },
  {
   "cell_type": "markdown",
   "source": [
    "# QUESTION 6 :"
   ],
   "metadata": {
    "collapsed": false
   }
  },
  {
   "cell_type": "code",
   "execution_count": 49,
   "outputs": [
    {
     "data": {
      "text/plain": "'Ques 6.\\n\\nAns. '"
     },
     "execution_count": 49,
     "metadata": {},
     "output_type": "execute_result"
    }
   ],
   "source": [
    "'''Ques 6.\n",
    "\n",
    "Ans. '''"
   ],
   "metadata": {
    "collapsed": false,
    "ExecuteTime": {
     "start_time": "2023-04-22T00:54:34.741527Z",
     "end_time": "2023-04-22T00:54:34.864080Z"
    }
   }
  },
  {
   "cell_type": "markdown",
   "source": [
    "# QUESTION 7 :"
   ],
   "metadata": {
    "collapsed": false
   }
  },
  {
   "cell_type": "code",
   "execution_count": 50,
   "outputs": [
    {
     "data": {
      "text/plain": "'Ques 7.\\n\\nAns. '"
     },
     "execution_count": 50,
     "metadata": {},
     "output_type": "execute_result"
    }
   ],
   "source": [
    "'''Ques 7.\n",
    "\n",
    "Ans. '''"
   ],
   "metadata": {
    "collapsed": false,
    "ExecuteTime": {
     "start_time": "2023-04-22T00:54:35.106875Z",
     "end_time": "2023-04-22T00:54:35.228852Z"
    }
   }
  },
  {
   "cell_type": "markdown",
   "source": [
    "# QUESTION 8 :"
   ],
   "metadata": {
    "collapsed": false
   }
  },
  {
   "cell_type": "code",
   "execution_count": 51,
   "outputs": [
    {
     "data": {
      "text/plain": "'Ques 8.\\n\\nAns. '"
     },
     "execution_count": 51,
     "metadata": {},
     "output_type": "execute_result"
    }
   ],
   "source": [
    "'''Ques 8.\n",
    "\n",
    "Ans. '''"
   ],
   "metadata": {
    "collapsed": false,
    "ExecuteTime": {
     "start_time": "2023-04-22T00:54:35.446475Z",
     "end_time": "2023-04-22T00:54:35.591781Z"
    }
   }
  },
  {
   "cell_type": "markdown",
   "source": [
    "# QUESTION 9 :"
   ],
   "metadata": {
    "collapsed": false
   }
  },
  {
   "cell_type": "code",
   "execution_count": 52,
   "outputs": [
    {
     "data": {
      "text/plain": "'Ques 9.\\n\\nAns. '"
     },
     "execution_count": 52,
     "metadata": {},
     "output_type": "execute_result"
    }
   ],
   "source": [
    "'''Ques 9.\n",
    "\n",
    "Ans. '''"
   ],
   "metadata": {
    "collapsed": false,
    "ExecuteTime": {
     "start_time": "2023-04-22T00:54:35.801586Z",
     "end_time": "2023-04-22T00:54:35.866412Z"
    }
   }
  },
  {
   "cell_type": "code",
   "execution_count": 52,
   "outputs": [],
   "source": [],
   "metadata": {
    "collapsed": false,
    "ExecuteTime": {
     "start_time": "2023-04-22T00:54:36.051685Z",
     "end_time": "2023-04-22T00:54:36.141508Z"
    }
   }
  }
 ],
 "metadata": {
  "kernelspec": {
   "display_name": "Python 3",
   "language": "python",
   "name": "python3"
  },
  "language_info": {
   "codemirror_mode": {
    "name": "ipython",
    "version": 2
   },
   "file_extension": ".py",
   "mimetype": "text/x-python",
   "name": "python",
   "nbconvert_exporter": "python",
   "pygments_lexer": "ipython2",
   "version": "2.7.6"
  }
 },
 "nbformat": 4,
 "nbformat_minor": 0
}
