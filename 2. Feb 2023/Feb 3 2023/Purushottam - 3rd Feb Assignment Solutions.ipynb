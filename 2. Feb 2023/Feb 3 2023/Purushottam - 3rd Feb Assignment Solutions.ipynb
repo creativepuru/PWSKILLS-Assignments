{
 "cells": [
  {
   "cell_type": "markdown",
   "source": [
    "# || Assignment No. : 4  |  Date : 3rd Feb 2023  ||\n",
    "# || Notebook Topic : Solutions of Assignment  ||\n",
    "# || Company Name : PWSKILLS  ||\n",
    "# || Course Name : DATA SCIENCE MASTERS  ||\n",
    "# || Batch : IMPACT BATCH 1  ||\n",
    "# || Student Name : Purushottam Anand  ||\n",
    "\n",
    "-------------------------------------------------------------------------------"
   ],
   "metadata": {
    "collapsed": false
   }
  },
  {
   "cell_type": "markdown",
   "source": [
    "# QUESTION 1 :"
   ],
   "metadata": {
    "collapsed": false
   }
  },
  {
   "cell_type": "code",
   "execution_count": 7,
   "metadata": {
    "collapsed": true,
    "ExecuteTime": {
     "start_time": "2023-04-22T00:10:13.951727Z",
     "end_time": "2023-04-22T00:10:14.060262Z"
    }
   },
   "outputs": [
    {
     "name": "stdout",
     "output_type": "stream",
     "text": [
      "[1, 3, 5, 7, 9, 11, 13, 15, 17, 19, 21, 23, 25]\n",
      "\n"
     ]
    }
   ],
   "source": [
    "'''Ques 1. Which keyword is used to create a function? Create a function to return a list of odd numbers in the range of 1 to 25.\n",
    "\n",
    "Ans. 'def' keyword is used to create a function.\n",
    "Below is the example of a function which return a list of odd numbers from 1 to 25 : '''\n",
    "\n",
    "# code line goes here :\n",
    "\n",
    "def odd_numbers() :\n",
    "    \"\"\"Creator : Purushottam Anand \\n\n",
    "    This function is used to return a list of odd numbers in the range of 1 to 25\"\"\"\n",
    "\n",
    "    odd_list = []\n",
    "    for i in range(1, 26) :\n",
    "        if i % 2 != 0 :\n",
    "            odd_list.append(i)\n",
    "    return odd_list\n",
    "\n",
    "print(odd_numbers())\n",
    "\n",
    "'''This function first initializes an empty list called odd_list. It then iterates through the range of numbers 1 to 25 using a for loop.\n",
    "For each number in the range, the function checks if the number is odd (i.e., not divisible by 2) using the modulo operator (%).\n",
    "If the number is odd, it will appended to the odd_list. Finally, the function returns the odd_list.\n",
    "\n",
    "The function prints output when the function is called using print() statement after it's definition. '''\n",
    "print()"
   ]
  },
  {
   "cell_type": "markdown",
   "source": [
    "# QUESTION 2 :"
   ],
   "metadata": {
    "collapsed": false
   }
  },
  {
   "cell_type": "code",
   "execution_count": 19,
   "outputs": [
    {
     "name": "stdout",
     "output_type": "stream",
     "text": [
      "--> This is a function that uses *args to add any number of integers\n",
      "Sum of given integers are : 15\n",
      "\n",
      "--> This is a function that uses **kwargs to take dictionary as input\n"
     ]
    },
    {
     "data": {
      "text/plain": "{'a': [1, 2, 3, 4, 5], 'b': 'puru', 'c': 32.15}"
     },
     "execution_count": 19,
     "metadata": {},
     "output_type": "execute_result"
    }
   ],
   "source": [
    "'''Ques 2. Why *args and **kwargs is used in some functions?\n",
    "Create a function each for *args and **kwargs to demonstrate their use.\n",
    "\n",
    "Ans. *args and **kwargs are used in Python functions when the number of arguments that a function will receive is not known.\n",
    "\n",
    "*args is used to pass a variable number of arguments to a function. It allows us to pass any number of positional arguments to the function.\n",
    "*args is represented by an asterisk (*) followed by a parameter name (usually args).\n",
    "The parameter name can be anything (string) rather than 'args' but in general we use 'args' as parameter name.\n",
    "\n",
    "**kwargs is used to pass a variable number of keyword arguments (i.e., named arguments) to a function.\n",
    "It allows us to pass any number of keyword arguments to the function which are then passed as a dictionary to the function.\n",
    "**kwargs is represented by two asterisks (**) followed by a parameter name (usually kwargs).\n",
    "\n",
    "Below is an example of function that uses *args to add any number of integers : '''\n",
    "\n",
    "# Code line goes here :\n",
    "\n",
    "def add_numbers(*args) :\n",
    "    \"\"\"Creator : Purushottam Anand \\n\n",
    "    This function is used to add any number of integers\"\"\"\n",
    "\n",
    "    print(\"--> This is a function that uses *args to add any number of integers\")\n",
    "    sum = 0\n",
    "    for num in args :\n",
    "        sum = sum + num\n",
    "    return sum\n",
    "\n",
    "print(\"Sum of given integers are :\", add_numbers(1,2,3,4,5))\n",
    "''' -----------------------------------------------------------------------------------------------------------------------------------------------------------\n",
    "\n",
    "Below is an example of function that uses **kwargs : '''\n",
    "\n",
    "# Code line goes here :\n",
    "\n",
    "def dict(**kwargs) :\n",
    "    \"\"\"Creator : Purushottam\\n\n",
    "    This test15() function is used to take dictionary as input\"\"\"\n",
    "\n",
    "    print(\"\\n--> This is a function that uses **kwargs to take dictionary as input\")\n",
    "    return kwargs\n",
    "\n",
    "dict(a = [1,2,3,4,5], b = \"puru\", c = 32.15)"
   ],
   "metadata": {
    "collapsed": false,
    "ExecuteTime": {
     "start_time": "2023-04-22T00:30:34.279523Z",
     "end_time": "2023-04-22T00:30:34.360979Z"
    }
   }
  },
  {
   "cell_type": "markdown",
   "source": [
    "# QUESTION 3 :"
   ],
   "metadata": {
    "collapsed": false
   }
  },
  {
   "cell_type": "code",
   "execution_count": 6,
   "outputs": [
    {
     "data": {
      "text/plain": "'Ques 3.\\n\\nAns. '"
     },
     "execution_count": 6,
     "metadata": {},
     "output_type": "execute_result"
    }
   ],
   "source": [
    "'''Ques 3.\n",
    "\n",
    "Ans. '''"
   ],
   "metadata": {
    "collapsed": false,
    "ExecuteTime": {
     "start_time": "2023-04-22T00:10:08.089248Z",
     "end_time": "2023-04-22T00:10:08.163261Z"
    }
   }
  },
  {
   "cell_type": "markdown",
   "source": [
    "# QUESTION 4 :"
   ],
   "metadata": {
    "collapsed": false
   }
  },
  {
   "cell_type": "code",
   "execution_count": null,
   "outputs": [],
   "source": [
    "'''Ques 4.\n",
    "\n",
    "Ans. '''"
   ],
   "metadata": {
    "collapsed": false,
    "ExecuteTime": {
     "start_time": "2023-04-21T23:57:37.185116Z",
     "end_time": "2023-04-21T23:57:37.617503Z"
    }
   }
  },
  {
   "cell_type": "markdown",
   "source": [
    "# QUESTION 5 :"
   ],
   "metadata": {
    "collapsed": false
   }
  },
  {
   "cell_type": "code",
   "execution_count": null,
   "outputs": [],
   "source": [
    "'''Ques 5.\n",
    "\n",
    "Ans. '''"
   ],
   "metadata": {
    "collapsed": false,
    "ExecuteTime": {
     "start_time": "2023-04-21T23:57:37.207755Z",
     "end_time": "2023-04-21T23:57:37.672269Z"
    }
   }
  },
  {
   "cell_type": "markdown",
   "source": [
    "# QUESTION 6 :"
   ],
   "metadata": {
    "collapsed": false
   }
  },
  {
   "cell_type": "code",
   "execution_count": null,
   "outputs": [],
   "source": [
    "'''Ques 6.\n",
    "\n",
    "Ans. '''"
   ],
   "metadata": {
    "collapsed": false,
    "ExecuteTime": {
     "start_time": "2023-04-21T23:57:37.227395Z",
     "end_time": "2023-04-21T23:57:37.677325Z"
    }
   }
  },
  {
   "cell_type": "markdown",
   "source": [
    "# QUESTION 7 :"
   ],
   "metadata": {
    "collapsed": false
   }
  },
  {
   "cell_type": "code",
   "execution_count": null,
   "outputs": [],
   "source": [
    "'''Ques 7.\n",
    "\n",
    "Ans. '''"
   ],
   "metadata": {
    "collapsed": false,
    "ExecuteTime": {
     "start_time": "2023-04-21T23:57:37.242478Z",
     "end_time": "2023-04-21T23:57:37.677325Z"
    }
   }
  },
  {
   "cell_type": "markdown",
   "source": [
    "# QUESTION 8 :"
   ],
   "metadata": {
    "collapsed": false
   }
  },
  {
   "cell_type": "code",
   "execution_count": null,
   "outputs": [],
   "source": [
    "'''Ques 8.\n",
    "\n",
    "Ans. '''"
   ],
   "metadata": {
    "collapsed": false,
    "ExecuteTime": {
     "start_time": "2023-04-21T23:57:37.263643Z",
     "end_time": "2023-04-21T23:57:37.685173Z"
    }
   }
  },
  {
   "cell_type": "markdown",
   "source": [
    "# QUESTION 9 :"
   ],
   "metadata": {
    "collapsed": false
   }
  },
  {
   "cell_type": "code",
   "execution_count": null,
   "outputs": [],
   "source": [
    "'''Ques 9.\n",
    "\n",
    "Ans. '''"
   ],
   "metadata": {
    "collapsed": false,
    "ExecuteTime": {
     "start_time": "2023-04-21T23:57:37.279365Z",
     "end_time": "2023-04-21T23:57:37.702211Z"
    }
   }
  },
  {
   "cell_type": "code",
   "execution_count": null,
   "outputs": [],
   "source": [],
   "metadata": {
    "collapsed": false,
    "ExecuteTime": {
     "start_time": "2023-04-21T23:57:37.279365Z",
     "end_time": "2023-04-21T23:57:37.705996Z"
    }
   }
  }
 ],
 "metadata": {
  "kernelspec": {
   "display_name": "Python 3",
   "language": "python",
   "name": "python3"
  },
  "language_info": {
   "codemirror_mode": {
    "name": "ipython",
    "version": 2
   },
   "file_extension": ".py",
   "mimetype": "text/x-python",
   "name": "python",
   "nbconvert_exporter": "python",
   "pygments_lexer": "ipython2",
   "version": "2.7.6"
  }
 },
 "nbformat": 4,
 "nbformat_minor": 0
}
