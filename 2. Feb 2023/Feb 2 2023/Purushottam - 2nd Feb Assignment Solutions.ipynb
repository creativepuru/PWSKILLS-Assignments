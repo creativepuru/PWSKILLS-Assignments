{
 "cells": [
  {
   "cell_type": "markdown",
   "source": [
    "# || Assignment No. : 3  |  Date : 2nd Feb 2023  ||\n",
    "# || Notebook Topic : Solutions of Assignment  ||\n",
    "# || Company Name : PWSKILLS  ||\n",
    "# || Course Name : DATA SCIENCE MASTERS  ||\n",
    "# || Batch : IMPACT BATCH 1  ||\n",
    "# || Student Name : Purushottam Anand  ||\n",
    "\n",
    "-------------------------------------------------------------------------------"
   ],
   "metadata": {
    "collapsed": false
   }
  },
  {
   "cell_type": "markdown",
   "source": [
    "# QUESTION : 1"
   ],
   "metadata": {
    "collapsed": false
   }
  },
  {
   "cell_type": "code",
   "execution_count": 39,
   "metadata": {
    "collapsed": true,
    "ExecuteTime": {
     "start_time": "2023-04-21T16:02:55.203337Z",
     "end_time": "2023-04-21T16:02:56.910155Z"
    }
   },
   "outputs": [
    {
     "name": "stdout",
     "output_type": "stream",
     "text": [
      "--> Output of for loop :\n",
      "\n",
      "dict_keys(['name', 'class', 'topic'])\n",
      "Value of  name  :  puru\n",
      "Value of  class  :  data science masters\n",
      "Value of  topic  :  ['python', 'stats', 'machine learning', 'deep learning', 'computer vision', 'NLP', 'resume', 'interview preparation']\n",
      "'For' loop executed successfully !\n",
      "\n",
      "--> Output of while loop :\n",
      "\n",
      "You have entered :  5 \n",
      "Below is the Fibonacci series you are looking for -->\n",
      "0\n",
      "1\n",
      "1\n",
      "2\n",
      "3\n",
      "'While' loop executed successfully !\n",
      "\n",
      "Just printing to remove comment lines from the console.\n"
     ]
    }
   ],
   "source": [
    "'''Ques 1. Explain with an example each when to use a for loop and a while loop.\n",
    "\n",
    "Ans. 'for' loop :\n",
    "A for loop is used when we know how many times we need to iterate over a block of code.\n",
    "It works by initializing a variable to a certain value and then incrementing or decrementing it with each iteration until a certain condition is met.\n",
    "\n",
    "Below is an example of a for loop which prints the key values of a dictionary that I have created : '''\n",
    "\n",
    "# code line goes here :\n",
    "\n",
    "print(\"--> Output of for loop :\\n\")\n",
    "\n",
    "d = {'name' : 'puru', 'class' : 'data science masters', 'topic' : ['python', 'stats', 'machine learning', 'deep learning', 'computer vision', 'NLP', 'resume', 'interview preparation']}\n",
    "\n",
    "print(d.keys())\n",
    "for i in d.keys() :\n",
    "    print(\"Value of \", i, \" : \", d[i])\n",
    "\n",
    "print(\"'For' loop executed successfully !\\n\")\n",
    "\n",
    "'''In this example, the for loop will iterate 3 times because we know that we want to print the key values of the dictionary.\n",
    "------------------------------------------------------------------------------------------------------------------------------------------------------------------\n",
    "\n",
    "'while' loop :\n",
    "A while loop is used when we don't know how many times we need to iterate over a block of code.\n",
    "It works by repeatedly executing a block of code as long as a certain condition is true.\n",
    "\n",
    "Below is an example of a while loop that prints the Fibonacci sequence up to a certain limit : '''\n",
    "\n",
    "# code line goes here :\n",
    "\n",
    "print(\"--> Output of while loop :\\n\")\n",
    "\n",
    "number = int(input(\"Enter the number of elements you are looking for to find it's Fibonacci Series : \"))\n",
    "print(\"You have entered : \", number, \"\\nBelow is the Fibonacci series you are looking for -->\")\n",
    "\n",
    "a , b = 0 , 1\n",
    "counter = 0\n",
    "\n",
    "while counter < number :\n",
    "    print(a)\n",
    "    c = a + b\n",
    "    a = b\n",
    "    b = c\n",
    "    counter = counter + 1\n",
    "\n",
    "print(\"'While' loop executed successfully !\")\n",
    "\n",
    "'''In this example, the while loop will keep executing as long as counter is less than number.\n",
    "It repeatedly calculates the next number in the Fibonacci sequence (a + b) and prints it to the console.\n",
    "The loop will keep executing until counter is greater than or equal to number, at which point the loop will terminate.\n",
    "Since we don't know how many numbers we'll need to print to reach the limit, therefore a while loop is the appropriate choice for this operation. '''\n",
    "\n",
    "print(\"\\nJust printing to remove comment lines from the console.\")"
   ]
  },
  {
   "cell_type": "markdown",
   "source": [
    "# QUESTION : 2"
   ],
   "metadata": {
    "collapsed": false
   }
  },
  {
   "cell_type": "code",
   "execution_count": 51,
   "outputs": [
    {
     "name": "stdout",
     "output_type": "stream",
     "text": [
      "Sum and Product of first 10 natural numbers using for loop --> \n",
      "Sum of first 10 natural numbers is :  55\n",
      "Product of first 10 natural numbers is :  3628800\n",
      "\n",
      "Sum and Product of first 10 natural numbers using while loop --> \n",
      "Sum of first 10 natural numbers is :  55\n",
      "Product of first 10 natural numbers is :  3628800\n"
     ]
    },
    {
     "data": {
      "text/plain": "'Both programs use the same logic. They initialize the sum and product variables to 0 and 1 respectively.\\nThen loop through the first 10 natural numbers and calculate their sum and product by adding and multiplying them to the sum and product variables.\\nFinally, they print the results. '"
     },
     "execution_count": 51,
     "metadata": {},
     "output_type": "execute_result"
    }
   ],
   "source": [
    "'''Ques 2. Write a python program to print the sum and product of the first 10 natural numbers using for and while loop.\n",
    "\n",
    "Ans. Below is a Python program that prints the sum and product of the first 10 natural numbers using a for loop : '''\n",
    "# Code line goes here :\n",
    "\n",
    "print(\"Sum and Product of first 10 natural numbers using for loop --> \")\n",
    "sum = 0\n",
    "product = 1\n",
    "\n",
    "for i in range(1, 11) :\n",
    "    sum = sum + i\n",
    "    product = product * i\n",
    "\n",
    "print(\"Sum of first 10 natural numbers is : \", sum)\n",
    "print(\"Product of first 10 natural numbers is : \", product)\n",
    "\n",
    "\n",
    "''' Below is a Python program that prints the sum and product of the first 10 natural numbers using a while loop : '''\n",
    "# Code line goes here :\n",
    "\n",
    "print(\"\\nSum and Product of first 10 natural numbers using while loop --> \")\n",
    "sum = 0\n",
    "product = 1\n",
    "i = 1\n",
    "\n",
    "while i <= 10:\n",
    "    sum = sum + i\n",
    "    product = product * i\n",
    "    i = i + 1\n",
    "\n",
    "print(\"Sum of first 10 natural numbers is : \", sum)\n",
    "print(\"Product of first 10 natural numbers is : \", product)\n",
    "\n",
    "'''Both programs use the same logic. They initialize the sum and product variables to 0 and 1 respectively.\n",
    "Then loop through the first 10 natural numbers and calculate their sum and product by adding and multiplying them to the sum and product variables.\n",
    "Finally, they print the results. '''"
   ],
   "metadata": {
    "collapsed": false,
    "ExecuteTime": {
     "start_time": "2023-04-21T16:14:46.972076Z",
     "end_time": "2023-04-21T16:14:47.003321Z"
    }
   }
  },
  {
   "cell_type": "markdown",
   "source": [
    "# QUESTION : 3"
   ],
   "metadata": {
    "collapsed": false
   }
  },
  {
   "cell_type": "code",
   "execution_count": 52,
   "outputs": [
    {
     "data": {
      "text/plain": "'Ques 3.\\n'"
     },
     "execution_count": 52,
     "metadata": {},
     "output_type": "execute_result"
    }
   ],
   "source": [
    "'''Ques 3.\n",
    "'''"
   ],
   "metadata": {
    "collapsed": false,
    "ExecuteTime": {
     "start_time": "2023-04-21T16:15:19.667804Z",
     "end_time": "2023-04-21T16:15:19.730287Z"
    }
   }
  },
  {
   "cell_type": "markdown",
   "source": [
    "# QUESTION : 4"
   ],
   "metadata": {
    "collapsed": false
   }
  },
  {
   "cell_type": "code",
   "execution_count": 53,
   "outputs": [
    {
     "data": {
      "text/plain": "'Ques 4.\\n'"
     },
     "execution_count": 53,
     "metadata": {},
     "output_type": "execute_result"
    }
   ],
   "source": [
    "'''Ques 4.\n",
    "'''"
   ],
   "metadata": {
    "collapsed": false,
    "ExecuteTime": {
     "start_time": "2023-04-21T16:15:20.058409Z",
     "end_time": "2023-04-21T16:15:20.137039Z"
    }
   }
  },
  {
   "cell_type": "markdown",
   "source": [
    "# QUESTION : 5"
   ],
   "metadata": {
    "collapsed": false
   }
  },
  {
   "cell_type": "code",
   "execution_count": 54,
   "outputs": [
    {
     "data": {
      "text/plain": "'Ques 5.\\n'"
     },
     "execution_count": 54,
     "metadata": {},
     "output_type": "execute_result"
    }
   ],
   "source": [
    "'''Ques 5.\n",
    "'''"
   ],
   "metadata": {
    "collapsed": false,
    "ExecuteTime": {
     "start_time": "2023-04-21T16:15:20.418297Z",
     "end_time": "2023-04-21T16:15:20.465174Z"
    }
   }
  },
  {
   "cell_type": "code",
   "execution_count": 54,
   "outputs": [],
   "source": [],
   "metadata": {
    "collapsed": false,
    "ExecuteTime": {
     "start_time": "2023-04-21T16:15:20.605792Z",
     "end_time": "2023-04-21T16:15:20.731305Z"
    }
   }
  }
 ],
 "metadata": {
  "kernelspec": {
   "display_name": "Python 3",
   "language": "python",
   "name": "python3"
  },
  "language_info": {
   "codemirror_mode": {
    "name": "ipython",
    "version": 2
   },
   "file_extension": ".py",
   "mimetype": "text/x-python",
   "name": "python",
   "nbconvert_exporter": "python",
   "pygments_lexer": "ipython2",
   "version": "2.7.6"
  }
 },
 "nbformat": 4,
 "nbformat_minor": 0
}
