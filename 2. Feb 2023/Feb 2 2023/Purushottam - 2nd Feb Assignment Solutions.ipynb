{
 "cells": [
  {
   "cell_type": "markdown",
   "source": [
    "# || Assignment No. : 3  |  Date : 2nd Feb 2023  ||\n",
    "# || Notebook Topic : Solutions of Assignment  ||\n",
    "# || Company Name : PWSKILLS  ||\n",
    "# || Course Name : DATA SCIENCE MASTERS  ||\n",
    "# || Batch : IMPACT BATCH 1  ||\n",
    "# || Student Name : Purushottam Anand  ||\n",
    "\n",
    "-------------------------------------------------------------------------------"
   ],
   "metadata": {
    "collapsed": false
   }
  },
  {
   "cell_type": "markdown",
   "source": [
    "# QUESTION : 1"
   ],
   "metadata": {
    "collapsed": false
   }
  },
  {
   "cell_type": "code",
   "execution_count": 39,
   "metadata": {
    "collapsed": true,
    "ExecuteTime": {
     "start_time": "2023-04-21T16:02:55.203337Z",
     "end_time": "2023-04-21T16:02:56.910155Z"
    }
   },
   "outputs": [
    {
     "name": "stdout",
     "output_type": "stream",
     "text": [
      "--> Output of for loop :\n",
      "\n",
      "dict_keys(['name', 'class', 'topic'])\n",
      "Value of  name  :  puru\n",
      "Value of  class  :  data science masters\n",
      "Value of  topic  :  ['python', 'stats', 'machine learning', 'deep learning', 'computer vision', 'NLP', 'resume', 'interview preparation']\n",
      "'For' loop executed successfully !\n",
      "\n",
      "--> Output of while loop :\n",
      "\n",
      "You have entered :  5 \n",
      "Below is the Fibonacci series you are looking for -->\n",
      "0\n",
      "1\n",
      "1\n",
      "2\n",
      "3\n",
      "'While' loop executed successfully !\n",
      "\n",
      "Just printing to remove comment lines from the console.\n"
     ]
    }
   ],
   "source": [
    "'''Ques 1. Explain with an example each when to use a for loop and a while loop.\n",
    "\n",
    "Ans. 'for' loop :\n",
    "A for loop is used when we know how many times we need to iterate over a block of code.\n",
    "It works by initializing a variable to a certain value and then incrementing or decrementing it with each iteration until a certain condition is met.\n",
    "\n",
    "Below is an example of a for loop which prints the key values of a dictionary that I have created : '''\n",
    "\n",
    "# code line goes here :\n",
    "\n",
    "print(\"--> Output of for loop :\\n\")\n",
    "\n",
    "d = {'name' : 'puru', 'class' : 'data science masters', 'topic' : ['python', 'stats', 'machine learning', 'deep learning', 'computer vision', 'NLP', 'resume', 'interview preparation']}\n",
    "\n",
    "print(d.keys())\n",
    "for i in d.keys() :\n",
    "    print(\"Value of \", i, \" : \", d[i])\n",
    "\n",
    "print(\"'For' loop executed successfully !\\n\")\n",
    "\n",
    "'''In this example, the for loop will iterate 3 times because we know that we want to print the key values of the dictionary.\n",
    "------------------------------------------------------------------------------------------------------------------------------------------------------------------\n",
    "\n",
    "'while' loop :\n",
    "A while loop is used when we don't know how many times we need to iterate over a block of code.\n",
    "It works by repeatedly executing a block of code as long as a certain condition is true.\n",
    "\n",
    "Below is an example of a while loop that prints the Fibonacci sequence up to a certain limit : '''\n",
    "\n",
    "# code line goes here :\n",
    "\n",
    "print(\"--> Output of while loop :\\n\")\n",
    "\n",
    "number = int(input(\"Enter the number of elements you are looking for to find it's Fibonacci Series : \"))\n",
    "print(\"You have entered : \", number, \"\\nBelow is the Fibonacci series you are looking for -->\")\n",
    "\n",
    "a , b = 0 , 1\n",
    "counter = 0\n",
    "\n",
    "while counter < number :\n",
    "    print(a)\n",
    "    c = a + b\n",
    "    a = b\n",
    "    b = c\n",
    "    counter = counter + 1\n",
    "\n",
    "print(\"'While' loop executed successfully !\")\n",
    "\n",
    "'''In this example, the while loop will keep executing as long as counter is less than number.\n",
    "It repeatedly calculates the next number in the Fibonacci sequence (a + b) and prints it to the console.\n",
    "The loop will keep executing until counter is greater than or equal to number, at which point the loop will terminate.\n",
    "Since we don't know how many numbers we'll need to print to reach the limit, therefore a while loop is the appropriate choice for this operation. '''\n",
    "\n",
    "print(\"\\nJust printing to remove comment lines from the console.\")"
   ]
  },
  {
   "cell_type": "markdown",
   "source": [
    "# QUESTION : 2"
   ],
   "metadata": {
    "collapsed": false
   }
  },
  {
   "cell_type": "code",
   "execution_count": 40,
   "outputs": [
    {
     "data": {
      "text/plain": "'Ques 2.\\n'"
     },
     "execution_count": 40,
     "metadata": {},
     "output_type": "execute_result"
    }
   ],
   "source": [
    "'''Ques 2.\n",
    "'''"
   ],
   "metadata": {
    "collapsed": false,
    "ExecuteTime": {
     "start_time": "2023-04-21T16:02:56.910155Z",
     "end_time": "2023-04-21T16:02:57.123844Z"
    }
   }
  },
  {
   "cell_type": "markdown",
   "source": [
    "# QUESTION : 3"
   ],
   "metadata": {
    "collapsed": false
   }
  },
  {
   "cell_type": "code",
   "execution_count": 41,
   "outputs": [
    {
     "data": {
      "text/plain": "'Ques 3.\\n'"
     },
     "execution_count": 41,
     "metadata": {},
     "output_type": "execute_result"
    }
   ],
   "source": [
    "'''Ques 3.\n",
    "'''"
   ],
   "metadata": {
    "collapsed": false,
    "ExecuteTime": {
     "start_time": "2023-04-21T16:02:56.957041Z",
     "end_time": "2023-04-21T16:02:57.123844Z"
    }
   }
  },
  {
   "cell_type": "markdown",
   "source": [
    "# QUESTION : 4"
   ],
   "metadata": {
    "collapsed": false
   }
  },
  {
   "cell_type": "code",
   "execution_count": 42,
   "outputs": [
    {
     "data": {
      "text/plain": "'Ques 4.\\n'"
     },
     "execution_count": 42,
     "metadata": {},
     "output_type": "execute_result"
    }
   ],
   "source": [
    "'''Ques 4.\n",
    "'''"
   ],
   "metadata": {
    "collapsed": false,
    "ExecuteTime": {
     "start_time": "2023-04-21T16:02:57.076967Z",
     "end_time": "2023-04-21T16:02:57.123844Z"
    }
   }
  },
  {
   "cell_type": "markdown",
   "source": [
    "# QUESTION : 5"
   ],
   "metadata": {
    "collapsed": false
   }
  },
  {
   "cell_type": "code",
   "execution_count": 43,
   "outputs": [
    {
     "data": {
      "text/plain": "'Ques 5.\\n'"
     },
     "execution_count": 43,
     "metadata": {},
     "output_type": "execute_result"
    }
   ],
   "source": [
    "'''Ques 5.\n",
    "'''"
   ],
   "metadata": {
    "collapsed": false,
    "ExecuteTime": {
     "start_time": "2023-04-21T16:02:57.123844Z",
     "end_time": "2023-04-21T16:02:57.155089Z"
    }
   }
  },
  {
   "cell_type": "code",
   "execution_count": 43,
   "outputs": [],
   "source": [],
   "metadata": {
    "collapsed": false,
    "ExecuteTime": {
     "start_time": "2023-04-21T16:02:57.155089Z",
     "end_time": "2023-04-21T16:02:57.373841Z"
    }
   }
  }
 ],
 "metadata": {
  "kernelspec": {
   "display_name": "Python 3",
   "language": "python",
   "name": "python3"
  },
  "language_info": {
   "codemirror_mode": {
    "name": "ipython",
    "version": 2
   },
   "file_extension": ".py",
   "mimetype": "text/x-python",
   "name": "python",
   "nbconvert_exporter": "python",
   "pygments_lexer": "ipython2",
   "version": "2.7.6"
  }
 },
 "nbformat": 4,
 "nbformat_minor": 0
}
