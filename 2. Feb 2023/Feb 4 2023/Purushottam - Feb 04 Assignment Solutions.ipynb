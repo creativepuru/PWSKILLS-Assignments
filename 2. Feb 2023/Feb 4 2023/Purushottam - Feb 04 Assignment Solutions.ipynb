{
 "cells": [
  {
   "cell_type": "markdown",
   "metadata": {
    "collapsed": false
   },
   "source": [
    "# || Assignment No. : 5  |  Date : 04 Feb 2023  ||\n",
    "# || Notebook Topic : Solutions of Assignment  ||\n",
    "# || Company Name : PWSKILLS  ||\n",
    "# || Course Name : DATA SCIENCE MASTERS  ||\n",
    "# || Batch : IMPACT BATCH 1  ||\n",
    "# || Student Name : Purushottam Anand  ||\n",
    "\n",
    "-------------------------------------------------------------------------------"
   ]
  },
  {
   "cell_type": "markdown",
   "metadata": {
    "collapsed": false
   },
   "source": [
    "# QUESTION 1 :"
   ]
  },
  {
   "cell_type": "code",
   "execution_count": 45,
   "metadata": {
    "ExecuteTime": {
     "start_time": "2023-04-24T02:01:55.803451Z",
     "end_time": "2023-04-24T02:01:56.022206Z"
    },
    "collapsed": true
   },
   "outputs": [
    {
     "name": "stdout",
     "output_type": "stream",
     "text": [
      "The list of players are sorted in ascending order based upon their runs scored : \n",
      "[('Virat Kohli', 24936), ('Jack Kallis', 25534), ('Ricky Ponting', 27483), ('Sachin Tendulkar', 34357)]\n"
     ]
    }
   ],
   "source": [
    "'''Ques 1. Create a python program to sort the given list of tuples based on integer value using a lambda function.\n",
    "[('Sachin Tendulkar', 34357), ('Ricky Ponting', 27483), ('Jack Kallis', 25534), ('Virat Kohli', 24936)]\n",
    "\n",
    "Ans. Below is the python program to sort the given list of tuples based on integer value using a lambda function : '''\n",
    "# Code line goes here :\n",
    "\n",
    "list_of_players = [('Sachin Tendulkar', 34357), ('Ricky Ponting', 27483), ('Jack Kallis', 25534), ('Virat Kohli', 24936)]\n",
    "\n",
    "sorted_players = sorted(list_of_players, key = lambda x : x[1], reverse = False)\n",
    "\n",
    "print(\"The list of players are sorted in ascending order based upon their runs scored : \")\n",
    "print(sorted_players)\n",
    "\n",
    "# Explanation :\n",
    "Explanation_1 = ''' In this program, we first define a list of tuples called list_of_players that contains the names of some cricketers and their total number of runs scored.\n",
    "We then use the sorted() function to sort the players list based on the integer value of runs scored.\n",
    "We use a lambda function as the key argument to specify that we want to sort the list based on the second element of each tuple (i.e., the integer value of runs scored).\n",
    "We also set the reverse parameter to False to sort the list in ascending order.\n",
    "Finally, we print the sorted list. '''"
   ]
  },
  {
   "cell_type": "markdown",
   "metadata": {
    "collapsed": false
   },
   "source": [
    "# QUESTION 2 :"
   ]
  },
  {
   "cell_type": "code",
   "execution_count": 46,
   "metadata": {
    "ExecuteTime": {
     "start_time": "2023-04-24T02:01:55.834707Z",
     "end_time": "2023-04-24T02:01:56.022206Z"
    },
    "collapsed": false
   },
   "outputs": [],
   "source": [
    "'''Ques 2. Write a Python Program to find the squares of all the numbers in the given list of integers using lambda and map functions.\n",
    "[1, 2, 3, 4, 5, 6, 7, 8, 9, 10]\n",
    "\n",
    "Ans. Below is the Python Program to find the squares of all the numbers in the given list of integers using lambda and map functions : '''\n",
    "# Code line goes here :\n",
    "\n",
    "list_of_integers = [1, 2, 3, 4, 5, 6, 7, 8, 9, 10]\n",
    "list(map(lambda sq : sq**2, list_of_integers))\n",
    "\n",
    "# Explanation :\n",
    "Explanation_2 = ''' In this program, we first define a list of integers called list_of_integers that contains some numbers.\n",
    "We then use the map() function to apply a lambda function to each element of the list_of_integers list.\n",
    "The lambda function takes a single argument sq and returns the square of sq\n",
    "Finally we convert the result of map() to a list using the list() function. '''"
   ]
  },
  {
   "cell_type": "markdown",
   "metadata": {
    "collapsed": false
   },
   "source": [
    "# QUESTION 3 :"
   ]
  },
  {
   "cell_type": "code",
   "execution_count": 47,
   "metadata": {
    "ExecuteTime": {
     "start_time": "2023-04-24T02:01:55.897209Z",
     "end_time": "2023-04-24T02:01:56.069080Z"
    },
    "collapsed": false
   },
   "outputs": [
    {
     "name": "stdout",
     "output_type": "stream",
     "text": [
      "Given String : [1, 2, 3, 4, 5, 6, 7, 8, 9, 10]\n",
      "\n",
      "Output as Expected : ('1', '2', '3', '4', '5', '6', '7', '8', '9', '10')\n"
     ]
    }
   ],
   "source": [
    "'''Ques 3. Write a python program to convert the given list of integers into a tuple of strings. Use map and lambda functions\n",
    "\n",
    "Given String: [1, 2, 3, 4, 5, 6, 7, 8, 9, 10]\n",
    "Expected output: ('1', '2', '3', '4', '5', '6', '7', '8', '9', '10')\n",
    "\n",
    "Ans. Below is the python program to convert the given list of integers into a tuple of strings using map and lambda functions : '''\n",
    "# Code line goes here :\n",
    "\n",
    "given_string = [1, 2, 3, 4, 5, 6, 7, 8, 9, 10]\n",
    "\n",
    "print(\"Given String :\", given_string)\n",
    "print()\n",
    "print(\"Output as Expected :\", tuple(map(lambda x : str(x), given_string)))\n",
    "\n",
    "# Explanation :\n",
    "Explanation_3 = ''' In this program, we first define a list of integers called given_string that contains some numbers.\n",
    "We then use the map() function to apply a lambda function to each element of the given_string list.\n",
    "The lambda function takes a single argument x and returns a string representation of x using the str() function.\n",
    "Finally, we convert the result of map() to a tuple using the tuple() function. '''"
   ]
  },
  {
   "cell_type": "markdown",
   "metadata": {
    "collapsed": false
   },
   "source": [
    "# QUESTION 4 :"
   ]
  },
  {
   "cell_type": "code",
   "execution_count": 51,
   "metadata": {
    "ExecuteTime": {
     "start_time": "2023-04-24T02:03:51.027177Z",
     "end_time": "2023-04-24T02:03:51.058433Z"
    },
    "collapsed": false
   },
   "outputs": [],
   "source": [
    "'''Ques 4. Write a python program using reduce function to compute the product of a list containing numbers from 1 to 25.\n",
    "\n",
    "Ans. Below is the python program to compute the product of a list containing numbers from 1 to 25 using reduce function : '''\n",
    "# Code line goes here :\n",
    "\n",
    "\n",
    "# Explanation :\n",
    "Explanation_4 = '''  '''"
   ]
  },
  {
   "cell_type": "markdown",
   "metadata": {
    "collapsed": false
   },
   "source": [
    "# QUESTION 5 :"
   ]
  },
  {
   "cell_type": "code",
   "execution_count": 49,
   "metadata": {
    "ExecuteTime": {
     "start_time": "2023-04-24T02:01:56.006581Z",
     "end_time": "2023-04-24T02:01:56.069080Z"
    },
    "collapsed": false
   },
   "outputs": [
    {
     "data": {
      "text/plain": "'Ques 5. Write a python program to filter the numbers in a given list that are divisible by 2 and 3 using the filter function.\\n\\n[2, 3, 6, 9, 27, 60, 90, 120, 55, 46]\\n\\nAns.\\n'"
     },
     "execution_count": 49,
     "metadata": {},
     "output_type": "execute_result"
    }
   ],
   "source": [
    "'''Ques 5. Write a python program to filter the numbers in a given list that are divisible by 2 and 3 using the filter function.\n",
    "\n",
    "[2, 3, 6, 9, 27, 60, 90, 120, 55, 46]\n",
    "\n",
    "Ans.\n",
    "'''"
   ]
  },
  {
   "cell_type": "markdown",
   "metadata": {
    "collapsed": false
   },
   "source": [
    "# QUESTION 6 :"
   ]
  },
  {
   "cell_type": "code",
   "execution_count": 50,
   "metadata": {
    "ExecuteTime": {
     "start_time": "2023-04-24T02:01:56.053458Z",
     "end_time": "2023-04-24T02:01:56.305547Z"
    },
    "collapsed": false
   },
   "outputs": [
    {
     "data": {
      "text/plain": "\"Ques 6. Write a python program to find palindromes in the given list of strings using lambda and filter function.\\n\\n['python', 'php', 'aba', 'radar', 'level']\\n\\nAns.\\n\""
     },
     "execution_count": 50,
     "metadata": {},
     "output_type": "execute_result"
    }
   ],
   "source": [
    "'''Ques 6. Write a python program to find palindromes in the given list of strings using lambda and filter function.\n",
    "\n",
    "['python', 'php', 'aba', 'radar', 'level']\n",
    "\n",
    "Ans.\n",
    "'''"
   ]
  },
  {
   "cell_type": "code",
   "execution_count": 50,
   "metadata": {
    "ExecuteTime": {
     "start_time": "2023-04-24T02:01:56.100327Z",
     "end_time": "2023-04-24T02:01:56.306000Z"
    },
    "collapsed": false
   },
   "outputs": [],
   "source": []
  }
 ],
 "metadata": {
  "kernelspec": {
   "display_name": "Python 3",
   "language": "python",
   "name": "python3"
  },
  "language_info": {
   "codemirror_mode": {
    "name": "ipython",
    "version": 3
   },
   "file_extension": ".py",
   "mimetype": "text/x-python",
   "name": "python",
   "nbconvert_exporter": "python",
   "pygments_lexer": "ipython3",
   "version": "3.10.9"
  }
 },
 "nbformat": 4,
 "nbformat_minor": 0
}
