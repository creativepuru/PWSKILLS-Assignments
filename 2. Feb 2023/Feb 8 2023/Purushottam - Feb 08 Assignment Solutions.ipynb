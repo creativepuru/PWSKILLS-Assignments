{
 "cells": [
  {
   "attachments": {},
   "cell_type": "markdown",
   "metadata": {
    "collapsed": false
   },
   "source": [
    "> [![Purushottam Anand 🇮🇳 on GitHub ☕](https://github.com/creativepuru.png?size=100)](https://github.com/creativepuru \"Purushottam Anand 🇮🇳 on GitHub ☕\")\n",
    "\n",
    "# 📚 Assignment No. : 9️⃣  |  Date : 08 Feb 2023\n",
    "# 📖 Notebook Topic : Abstraction & Encapsulation ✳\n",
    "\n",
    "[![Company Name](https://readme-typing-svg.demolab.com?font=Calibri&size=26&pause=1000&multiline=false&width=800&height=50&lines=✨+Organisation+Name+:+PWSKILLS)](https://github.com/creativepuru/PWSKILLS-Assignments)\n",
    "\n",
    "[![Course Name](https://readme-typing-svg.demolab.com?font=Calibri&size=26&pause=1000&multiline=false&width=800&height=50&lines=✨+Course+Name+:+DATA+SCIENCE+MASTERS)](https://github.com/creativepuru/PWSKILLS-Assignments)\n",
    "\n",
    "[![Batch](https://readme-typing-svg.demolab.com?font=Calibri&size=26&pause=1000&multiline=false&width=800&height=50&lines=✨+Batch+:+IMPACT+BATCH+1)](https://github.com/creativepuru/PWSKILLS-Assignments)\n",
    "\n",
    "[![Student Name](https://readme-typing-svg.demolab.com?font=Calibri&size=26&pause=1000&multiline=false&width=800&height=50&lines=✨+Student+Name+:+Purushottam+Anand)](https://github.com/creativepuru)\n",
    "\n",
    "-------------------------------------------------------------------------------"
   ]
  },
  {
   "attachments": {},
   "cell_type": "markdown",
   "metadata": {
    "collapsed": false
   },
   "source": [
    "# QUESTION 1️⃣ : \n",
    "# What is Abstraction in OOPs? Explain with an example."
   ]
  },
  {
   "cell_type": "code",
   "execution_count": 35,
   "metadata": {},
   "outputs": [],
   "source": [
    "Explanation_1 = '''Abstraction in Object-Oriented Programming (OOP) refers to the ability to represent complex real-world objects or concepts as simplified models in software code. \n",
    "Abstraction is achieved by focusing on the essential features of an object or concept and ignoring the irrelevant details.\n",
    "\n",
    "In Python, abstraction can be achieved using abstract classes and interfaces. \n",
    "An abstract class is a class that cannot be instantiated and is intended to be subclassed. \n",
    "It can contain one or more abstract methods, which are methods that do not have an implementation in the abstract class and must be implemented by the subclass. \n",
    "An interface is similar to an abstract class, but it only contains abstract methods and does not have any implementation.\n",
    "\n",
    "Below is the example of abstraction in Python using an abstract class:'''"
   ]
  },
  {
   "cell_type": "code",
   "execution_count": 36,
   "metadata": {},
   "outputs": [],
   "source": [
    "# Code Line goes here :\n",
    "\n",
    "from abc import ABC, abstractmethod\n",
    "\n",
    "class Vehicle(ABC):\n",
    "    @abstractmethod\n",
    "    def start(self):\n",
    "        pass\n",
    "    \n",
    "    @abstractmethod\n",
    "    def stop(self):\n",
    "        pass\n",
    "    \n",
    "    @abstractmethod\n",
    "    def accelerate(self):\n",
    "        pass\n",
    "\n",
    "class Car(Vehicle):\n",
    "    def start(self):\n",
    "        print(\"Starting car\")\n",
    "        \n",
    "    def stop(self):\n",
    "        print(\"Stopping car\")\n",
    "        \n",
    "    def accelerate(self):\n",
    "        print(\"Accelerating car\")\n",
    "\n",
    "class Boat(Vehicle):\n",
    "    def start(self):\n",
    "        print(\"Starting boat\")\n",
    "        \n",
    "    def stop(self):\n",
    "        print(\"Stopping boat\")\n",
    "        \n",
    "    def accelerate(self):\n",
    "        print(\"Accelerating boat\")"
   ]
  },
  {
   "cell_type": "code",
   "execution_count": 37,
   "metadata": {},
   "outputs": [
    {
     "name": "stdout",
     "output_type": "stream",
     "text": [
      "Abstraction in Object-Oriented Programming (OOP) refers to the ability to represent complex real-world objects or concepts as simplified models in software code. \n",
      "Abstraction is achieved by focusing on the essential features of an object or concept and ignoring the irrelevant details.\n",
      "\n",
      "In Python, abstraction can be achieved using abstract classes and interfaces. \n",
      "An abstract class is a class that cannot be instantiated and is intended to be subclassed. \n",
      "It can contain one or more abstract methods, which are methods that do not have an implementation in the abstract class and must be implemented by the subclass. \n",
      "An interface is similar to an abstract class, but it only contains abstract methods and does not have any implementation.\n",
      "\n",
      "Below is the example of abstraction in Python using an abstract class:\n",
      "In this example, the Vehicle class is an abstract class that defines three abstract methods: start(), stop(), and accelerate(). \n",
      "The Car and Boat classes are derived from the Vehicle class and implement their own versions of these methods.\n",
      "\n",
      "Since the Vehicle class is an abstract class, it cannot be instantiated directly. \n",
      "Instead, it serves as a template for creating new classes that inherit from it. \n",
      "The Car and Boat classes inherit the abstract methods from the Vehicle class and provide their own implementation.\n",
      "\n",
      "By using abstraction, we can create a simple and consistent interface for working with vehicles, regardless of their specific implementation details. \n",
      "We can create new classes that inherit from the Vehicle class and provide their own implementation of the abstract methods, without having to worry about the details of how the methods are implemented in other classes.\n"
     ]
    }
   ],
   "source": [
    "Explanation_1_example = '''In this example, the Vehicle class is an abstract class that defines three abstract methods: start(), stop(), and accelerate(). \n",
    "The Car and Boat classes are derived from the Vehicle class and implement their own versions of these methods.\n",
    "\n",
    "Since the Vehicle class is an abstract class, it cannot be instantiated directly. \n",
    "Instead, it serves as a template for creating new classes that inherit from it. \n",
    "The Car and Boat classes inherit the abstract methods from the Vehicle class and provide their own implementation.\n",
    "\n",
    "By using abstraction, we can create a simple and consistent interface for working with vehicles, regardless of their specific implementation details. \n",
    "We can create new classes that inherit from the Vehicle class and provide their own implementation of the abstract methods, without having to worry about the details of how the methods are implemented in other classes.'''\n",
    "\n",
    "print(Explanation_1)\n",
    "print(Explanation_1_example)"
   ]
  },
  {
   "attachments": {},
   "cell_type": "markdown",
   "metadata": {
    "collapsed": false
   },
   "source": [
    "# QUESTION 2️⃣ : \n",
    "# Differentiate between Abstraction and Encapsulation. Explain with an example."
   ]
  },
  {
   "cell_type": "code",
   "execution_count": 38,
   "metadata": {},
   "outputs": [],
   "source": [
    "Explanation_2 = '''Abstraction and Encapsulation are two important concepts in Object-Oriented Programming (OOP) in Python. \n",
    "They are often confused with each other, but they are different concepts that serve different purposes.\n",
    "\n",
    "Abstraction refers to the process of hiding complex details and showing only essential information. \n",
    "It is achieved by creating abstract classes or interfaces that define a set of methods or properties that must be implemented by any class that inherits from them. \n",
    "Abstraction is about focusing on the essential features of an object or concept while ignoring the irrelevant details.\n",
    "\n",
    "Encapsulation, on the other hand, refers to the process of wrapping data and methods into a single unit. \n",
    "It is achieved by creating classes that have private data members and public methods. \n",
    "Encapsulation is about protecting the data and methods of a class from external access and interference.\n",
    "\n",
    "Below is the example that demonstrates both Abstraction and Encapsulation in Python:'''"
   ]
  },
  {
   "cell_type": "code",
   "execution_count": 39,
   "metadata": {},
   "outputs": [
    {
     "name": "stdout",
     "output_type": "stream",
     "text": [
      "Total area : 48.260000000000005\n",
      "\n",
      "Total perimeter : 36.84\n"
     ]
    }
   ],
   "source": [
    "from abc import ABC, abstractmethod\n",
    "\n",
    "class Shape(ABC):\n",
    "    @abstractmethod\n",
    "    def area(self):\n",
    "        pass\n",
    "    \n",
    "    @abstractmethod\n",
    "    def perimeter(self):\n",
    "        pass\n",
    "\n",
    "class Rectangle(Shape):\n",
    "    def __init__(self, length, width):\n",
    "        self._length = length\n",
    "        self._width = width\n",
    "    \n",
    "    def area(self):\n",
    "        return self._length * self._width\n",
    "    \n",
    "    def perimeter(self):\n",
    "        return 2 * (self._length + self._width)\n",
    "\n",
    "class Circle(Shape):\n",
    "    def __init__(self, radius):\n",
    "        self._radius = radius\n",
    "    \n",
    "    def area(self):\n",
    "        return 3.14 * self._radius ** 2\n",
    "    \n",
    "    def perimeter(self):\n",
    "        return 2 * 3.14 * self._radius\n",
    "\n",
    "class Calculator:\n",
    "    def __init__(self):\n",
    "        self._shapes = []\n",
    "    \n",
    "    def add_shape(self, shape):\n",
    "        if isinstance(shape, Shape):\n",
    "            self._shapes.append(shape)\n",
    "    \n",
    "    def total_area(self):\n",
    "        return sum([shape.area() for shape in self._shapes])\n",
    "    \n",
    "    def total_perimeter(self):\n",
    "        return sum([shape.perimeter() for shape in self._shapes])\n",
    "\n",
    "rect = Rectangle(4, 5)\n",
    "circle = Circle(3)\n",
    "\n",
    "calc = Calculator()\n",
    "calc.add_shape(rect)\n",
    "calc.add_shape(circle)\n",
    "\n",
    "print(\"Total area :\", calc.total_area())\n",
    "print()\n",
    "print(\"Total perimeter :\", calc.total_perimeter())"
   ]
  },
  {
   "cell_type": "code",
   "execution_count": 40,
   "metadata": {},
   "outputs": [],
   "source": [
    "Explanation_2_example = '''In this example, the Shape class is an abstract class that defines two abstract methods: area() and perimeter(). \n",
    "The Rectangle and Circle classes inherit from the Shape class and provide their own implementation of the area() and perimeter() methods.\n",
    "\n",
    "The Calculator class encapsulates a list of shapes and provides methods to add shapes to the list and calculate the total area and perimeter of all shapes in the list. \n",
    "The list of shapes is encapsulated within the Calculator class and cannot be accessed directly from outside the class.\n",
    "\n",
    "By using Abstraction, we have created an abstract class Shape that defines two methods area() and perimeter() that must be implemented by any derived class. \n",
    "This provides a consistent interface for working with different types of shapes. \n",
    "By using Encapsulation, we have protected the list of shapes in the Calculator class from external access and interference. \n",
    "The list can only be accessed through the methods provided by the Calculator class.'''"
   ]
  },
  {
   "attachments": {},
   "cell_type": "markdown",
   "metadata": {},
   "source": [
    "# QUESTION 3️⃣ : \n",
    "# What is abc module in python? Why is it used?"
   ]
  },
  {
   "cell_type": "code",
   "execution_count": 41,
   "metadata": {},
   "outputs": [
    {
     "data": {
      "text/plain": [
       "'Ans. \\n\\n'"
      ]
     },
     "execution_count": 41,
     "metadata": {},
     "output_type": "execute_result"
    }
   ],
   "source": [
    "'''Ans. \n",
    "\n",
    "'''"
   ]
  },
  {
   "attachments": {},
   "cell_type": "markdown",
   "metadata": {},
   "source": [
    "# QUESTION 4️⃣ : \n",
    "# How can we achieve data abstraction?"
   ]
  },
  {
   "cell_type": "code",
   "execution_count": 42,
   "metadata": {},
   "outputs": [
    {
     "data": {
      "text/plain": [
       "'Ans. \\n\\n'"
      ]
     },
     "execution_count": 42,
     "metadata": {},
     "output_type": "execute_result"
    }
   ],
   "source": [
    "'''Ans. \n",
    "\n",
    "'''"
   ]
  },
  {
   "attachments": {},
   "cell_type": "markdown",
   "metadata": {},
   "source": [
    "# QUESTION 5️⃣ : \n",
    "# Can we create an instance of an abstract class? Explain your answer."
   ]
  },
  {
   "cell_type": "code",
   "execution_count": 43,
   "metadata": {},
   "outputs": [
    {
     "data": {
      "text/plain": [
       "'Ans. \\n\\n'"
      ]
     },
     "execution_count": 43,
     "metadata": {},
     "output_type": "execute_result"
    }
   ],
   "source": [
    "'''Ans. \n",
    "\n",
    "'''"
   ]
  },
  {
   "attachments": {},
   "cell_type": "markdown",
   "metadata": {},
   "source": [
    "# ------------- ASSIGNMENT ENDS HERE ------------- "
   ]
  },
  {
   "attachments": {},
   "cell_type": "markdown",
   "metadata": {},
   "source": [
    "## 📲 [![Linkedin](https://img.shields.io/badge/-Connect%20on%20Linkedin-blue?style=for-the-badge&logo=linkedin)](https://openinapp.co/connect-on-linkedin-puru)\n",
    "\n",
    "## 👉🏻 [![BMC](https://img.shields.io/badge/Buy%20Me%20a%20Coffee%20☕-%23FFDD00.svg?&style=for-the-badge&logo=buy-me-a-coffee&logoColor=black)](https://www.buymeacoffee.com/creativepuru)"
   ]
  }
 ],
 "metadata": {
  "kernelspec": {
   "display_name": "Python 3",
   "language": "python",
   "name": "python3"
  },
  "language_info": {
   "codemirror_mode": {
    "name": "ipython",
    "version": 3
   },
   "file_extension": ".py",
   "mimetype": "text/x-python",
   "name": "python",
   "nbconvert_exporter": "python",
   "pygments_lexer": "ipython3",
   "version": "3.10.4"
  }
 },
 "nbformat": 4,
 "nbformat_minor": 0
}
