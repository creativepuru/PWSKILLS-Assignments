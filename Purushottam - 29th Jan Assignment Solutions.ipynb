{
 "cells": [
  {
   "cell_type": "markdown",
   "source": [
    "Company : PWSKILLS  ||\n",
    "Course : DATA SCIENCE MASTERS  ||\n",
    "Batch : IMPACT BATCH 1  ||\n",
    "Student Name : Purushottam Anand  ||\n",
    "\n",
    "Notebook Topic : Solutions of Assignment | Date : 29th Jan 2023"
   ],
   "metadata": {
    "collapsed": false
   }
  },
  {
   "cell_type": "code",
   "execution_count": 17,
   "metadata": {
    "collapsed": true,
    "ExecuteTime": {
     "start_time": "2023-04-15T21:53:01.113957Z",
     "end_time": "2023-04-15T21:53:01.185019Z"
    }
   },
   "outputs": [
    {
     "data": {
      "text/plain": "' Ques 1. Who developed Python Programming Language ?\\n\\nAns. Python programming language was developed by Guido van Rossum in the late 1980s, and its first public release was in 1991. Guido van Rossum named it after the British comedy group Monty Python. '"
     },
     "execution_count": 17,
     "metadata": {},
     "output_type": "execute_result"
    }
   ],
   "source": [
    "''' Ques 1. Who developed Python Programming Language ?\n",
    "\n",
    "Ans. Python programming language was developed by Guido van Rossum in the late 1980s, and its first public release was in 1991. Guido van Rossum named it after the British comedy group Monty Python. '''\n"
   ]
  },
  {
   "cell_type": "code",
   "execution_count": 18,
   "outputs": [
    {
     "data": {
      "text/plain": "' Ques 2. Which type of programming does Python support ?\\n\\nAns. Python supports multiple programming paradigms, including object-oriented, functional, procedural, and aspect-oriented programming.\\nThis makes it a versatile language that can be used for a variety of tasks, from web development to scientific computing, machine learning, and data analysis.\\nIt also has a simple and easy-to-learn syntax, making it an ideal language for beginners to start with. '"
     },
     "execution_count": 18,
     "metadata": {},
     "output_type": "execute_result"
    }
   ],
   "source": [
    "''' Ques 2. Which type of programming does Python support ?\n",
    "\n",
    "Ans. Python supports multiple programming paradigms, including object-oriented, functional, procedural, and aspect-oriented programming.\n",
    "This makes it a versatile language that can be used for a variety of tasks, from web development to scientific computing, machine learning, and data analysis.\n",
    "It also has a simple and easy-to-learn syntax, making it an ideal language for beginners to start with. '''"
   ],
   "metadata": {
    "collapsed": false,
    "ExecuteTime": {
     "start_time": "2023-04-15T21:53:01.137959Z",
     "end_time": "2023-04-15T21:53:01.302574Z"
    }
   }
  },
  {
   "cell_type": "code",
   "execution_count": 19,
   "outputs": [
    {
     "data": {
      "text/plain": "' Ques 3. Is python case sensitive when dealing with identifiers ?\\n\\nAns. Yes, Python is case-sensitive when dealing with identifiers. This means that uppercase and lowercase letters are considered different in Python.\\n\\nFor example, the variable names \"my_variable\" and \"My_Variable\" would be considered two different variables in Python.\\nIt\\'s important to be consistent with our naming conventions to avoid errors when working with identifiers in Python. '"
     },
     "execution_count": 19,
     "metadata": {},
     "output_type": "execute_result"
    }
   ],
   "source": [
    "''' Ques 3. Is python case sensitive when dealing with identifiers ?\n",
    "\n",
    "Ans. Yes, Python is case-sensitive when dealing with identifiers. This means that uppercase and lowercase letters are considered different in Python.\n",
    "\n",
    "For example, the variable names \"my_variable\" and \"My_Variable\" would be considered two different variables in Python.\n",
    "It's important to be consistent with our naming conventions to avoid errors when working with identifiers in Python. '''"
   ],
   "metadata": {
    "collapsed": false,
    "ExecuteTime": {
     "start_time": "2023-04-15T21:53:01.293573Z",
     "end_time": "2023-04-15T21:53:01.488696Z"
    }
   }
  },
  {
   "cell_type": "code",
   "execution_count": 20,
   "outputs": [
    {
     "data": {
      "text/plain": "' Ques 4. What is the correct extension of the Python file ?\\n\\nAns. The correct extension of a Python file is \".py\". When we save a Python script or program, we should give it a name and save it with the \".py\" extension.\\n\\nFor example, if we have a Python script called \"my_script\", then we should save it as \"my_script.py\". This extension helps to identify the file as a Python script and allows the Python interpreter to recognize and execute it properly. '"
     },
     "execution_count": 20,
     "metadata": {},
     "output_type": "execute_result"
    }
   ],
   "source": [
    "''' Ques 4. What is the correct extension of the Python file ?\n",
    "\n",
    "Ans. The correct extension of a Python file is \".py\". When we save a Python script or program, we should give it a name and save it with the \".py\" extension.\n",
    "\n",
    "For example, if we have a Python script called \"my_script\", then we should save it as \"my_script.py\". This extension helps to identify the file as a Python script and allows the Python interpreter to recognize and execute it properly. '''"
   ],
   "metadata": {
    "collapsed": false,
    "ExecuteTime": {
     "start_time": "2023-04-15T21:53:01.473695Z",
     "end_time": "2023-04-15T21:53:01.727805Z"
    }
   }
  },
  {
   "cell_type": "code",
   "execution_count": 22,
   "outputs": [
    {
     "data": {
      "text/plain": "\" Ques 5. Is Python Code compiled or Interpreted ?\\n\\nAns. Python code is interpreted, which means that the source code is executed directly by the Python interpreter without being compiled into machine code beforehand. When we run a Python program, the interpreter reads the code line by line and executes each line as it goes. This makes the development process faster because we don't need to compile our code before running it. \\nHowever, this also means that Python can be slower than compiled languages like C++ for certain types of tasks. To address this issue, there are tools like PyPy and Numba that can speed up certain parts of Python code by using just-in-time (JIT) compilation or other techniques. \""
     },
     "execution_count": 22,
     "metadata": {},
     "output_type": "execute_result"
    }
   ],
   "source": [
    "''' Ques 5. Is Python Code compiled or Interpreted ?\n",
    "\n",
    "Ans. Python code is interpreted, which means that the source code is executed directly by the Python interpreter without being compiled into machine code beforehand. When we run a Python program, the interpreter reads the code line by line and executes each line as it goes. This makes the development process faster because we don't need to compile our code before running it.\n",
    "However, this also means that Python can be slower than compiled languages like C++ for certain types of tasks. To address this issue, there are tools like PyPy and Numba that can speed up certain parts of Python code by using just-in-time (JIT) compilation or other techniques. '''"
   ],
   "metadata": {
    "collapsed": false,
    "ExecuteTime": {
     "start_time": "2023-04-15T21:55:00.416727Z",
     "end_time": "2023-04-15T21:55:00.514275Z"
    }
   }
  },
  {
   "cell_type": "code",
   "execution_count": 34,
   "outputs": [
    {
     "data": {
      "text/plain": "' Ques 6. Name few blocks of code used to define in Python language ?\\n\\nAns. In Python, code blocks are defined using indentation rather than braces or other delimiters. The following are some of the most common types of code blocks used in Python:\\n\\n1. Function blocks: Functions in Python are defined using the \"def\" keyword, followed by the function name and its arguments. The code block for the function is indented under the function definition and the code should be executed when the function is called.\\nFor example:\\ndef my_function(argument1, argument2):\\n\\n2. Conditional blocks: Conditional statements in Python, such as \"if\", \"elif\", and \"else\", are used to execute different code blocks based on the result of a Boolean expression. The code block for each branch of the conditional is indented under the relevant keyword.\\nFor example:\\nif x > 0:\\n# Code to be executed if x is greater than 0\\nelif x == 0:\\n# Code to be executed if x is equal to 0\\nelse:\\n# Code to be executed if x is less than 0\\n\\n3. Loop blocks: Loops in Python, such as \"for\" and \"while\", are used to execute a block of code repeatedly. The code block for the loop is indented under the loop definition.\\nFor example:\\nfor i in range(10):\\n# Code to be executed for each value of i in the range 0 to 9\\n\\nwhile x > 0:\\n# Code to be executed as long as x is greater than 0\\n\\n4. Class blocks: Classes in Python are defined using the \"class\" keyword, followed by the class name and any base classes. The code block for the class is indented under the class definition.\\n\\n5. With blocks: The \"with\" statement in Python is used to manage resources like files, sockets, and locks, and ensures that they are properly closed or released when the block is exited. The code block for the \"with\" statement is indented under the statement itself.\\n\\nThese are just a few examples of code blocks used in Python. There are many other types of blocks, such as try/except blocks for handling errors among others. '"
     },
     "execution_count": 34,
     "metadata": {},
     "output_type": "execute_result"
    }
   ],
   "source": [
    "''' Ques 6. Name few blocks of code used to define in Python language ?\n",
    "\n",
    "Ans. In Python, code blocks are defined using indentation rather than braces or other delimiters. The following are some of the most common types of code blocks used in Python:\n",
    "\n",
    "1. Function blocks: Functions in Python are defined using the \"def\" keyword, followed by the function name and its arguments. The code block for the function is indented under the function definition and the code should be executed when the function is called.\n",
    "For example:\n",
    "def my_function(argument1, argument2):\n",
    "\n",
    "2. Conditional blocks: Conditional statements in Python, such as \"if\", \"elif\", and \"else\", are used to execute different code blocks based on the result of a Boolean expression. The code block for each branch of the conditional is indented under the relevant keyword.\n",
    "For example:\n",
    "if x > 0:\n",
    "# Code to be executed if x is greater than 0\n",
    "elif x == 0:\n",
    "# Code to be executed if x is equal to 0\n",
    "else:\n",
    "# Code to be executed if x is less than 0\n",
    "\n",
    "3. Loop blocks: Loops in Python, such as \"for\" and \"while\", are used to execute a block of code repeatedly. The code block for the loop is indented under the loop definition.\n",
    "For example:\n",
    "for i in range(10):\n",
    "# Code to be executed for each value of i in the range 0 to 9\n",
    "\n",
    "while x > 0:\n",
    "# Code to be executed as long as x is greater than 0\n",
    "\n",
    "4. Class blocks: Classes in Python are defined using the \"class\" keyword, followed by the class name and any base classes. The code block for the class is indented under the class definition.\n",
    "\n",
    "5. With blocks: The \"with\" statement in Python is used to manage resources like files, sockets, and locks, and ensures that they are properly closed or released when the block is exited. The code block for the \"with\" statement is indented under the statement itself.\n",
    "\n",
    "These are just a few examples of code blocks used in Python. There are many other types of blocks, such as try/except blocks for handling errors among others. '''"
   ],
   "metadata": {
    "collapsed": false,
    "ExecuteTime": {
     "start_time": "2023-04-15T22:21:42.109876Z",
     "end_time": "2023-04-15T22:21:42.181423Z"
    }
   }
  },
  {
   "cell_type": "code",
   "execution_count": 35,
   "outputs": [
    {
     "data": {
      "text/plain": "' Ans. In Python, the # character is used to give single-line comments. Any text that appears after the # symbol on a line is considered a comment and is ignored by the Python interpreter.\\n\\nFor example:\\n# I have used single line comment in this question statement.\\n\\nSingle-line comments are useful for providing context and explanations for our code, as well as temporarily disabling or commenting out lines of code for testing or debugging purposes. '"
     },
     "execution_count": 35,
     "metadata": {},
     "output_type": "execute_result"
    }
   ],
   "source": [
    "# Ques 7. State a character used to give single-line comments in Python ?\n",
    "\n",
    "''' Ans. In Python, the # character is used to give single-line comments. Any text that appears after the # symbol on a line is considered a comment and is ignored by the Python interpreter.\n",
    "\n",
    "For example:\n",
    "# I have used single line comment in this question statement.\n",
    "\n",
    "Single-line comments are useful for providing context and explanations for our code, as well as temporarily disabling or commenting out lines of code for testing or debugging purposes. '''"
   ],
   "metadata": {
    "collapsed": false,
    "ExecuteTime": {
     "start_time": "2023-04-15T22:22:05.114788Z",
     "end_time": "2023-04-15T22:22:05.162814Z"
    }
   }
  },
  {
   "cell_type": "code",
   "execution_count": 36,
   "outputs": [
    {
     "data": {
      "text/plain": "\" Ques 8. Mention functions which can help us to find the version of python that we are currently working on ?\\n\\nAns. In Python, there are several ways to find the version of the Python interpreter that we are currently working on. Below are a few examples of functions that can help us to accomplish this:\\n\\n1. sys.version - This function returns a string containing the version number of the Python interpreter, as well as additional information about the build.\\nWe can use it like this:\\n\\nimport sys\\nprint(sys.version)\\nOutput:\\n3.10.9 | packaged by Anaconda, Inc. | (main, Mar  1 2023, 18:18:15) [MSC v.1916 64 bit (AMD64)]\\n\\n2. platform.python_version() - This function returns a string containing the version number of the Python interpreter, without any additional information.\\nWe can use it like this:\\n\\nimport platform\\nprint(platform.python_version())\\nOutput:\\n3.10.9\\n\\n3. sys.version_info - This function returns a tuple containing detailed information about the version of the Python interpreter, including the major and minor version numbers, as well as the micro and release level numbers.\\n We can use it like this:\\n\\nimport sys\\nprint(sys.version_info)\\nOutput:\\nsys.version_info(major=3, minor=10, micro=9, releaselevel='final', serial=0)\\n\\nThese are just a few examples of functions that can help us find the version of Python that we are currently working on ! \""
     },
     "execution_count": 36,
     "metadata": {},
     "output_type": "execute_result"
    }
   ],
   "source": [
    "''' Ques 8. Mention functions which can help us to find the version of python that we are currently working on ?\n",
    "\n",
    "Ans. In Python, there are several ways to find the version of the Python interpreter that we are currently working on. Below are a few examples of functions that can help us to accomplish this:\n",
    "\n",
    "1. sys.version - This function returns a string containing the version number of the Python interpreter, as well as additional information about the build.\n",
    "We can use it like this:\n",
    "\n",
    "import sys\n",
    "print(sys.version)\n",
    "Output:\n",
    "3.10.9 | packaged by Anaconda, Inc. | (main, Mar  1 2023, 18:18:15) [MSC v.1916 64 bit (AMD64)]\n",
    "\n",
    "2. platform.python_version() - This function returns a string containing the version number of the Python interpreter, without any additional information.\n",
    "We can use it like this:\n",
    "\n",
    "import platform\n",
    "print(platform.python_version())\n",
    "Output:\n",
    "3.10.9\n",
    "\n",
    "3. sys.version_info - This function returns a tuple containing detailed information about the version of the Python interpreter, including the major and minor version numbers, as well as the micro and release level numbers.\n",
    " We can use it like this:\n",
    "\n",
    "import sys\n",
    "print(sys.version_info)\n",
    "Output:\n",
    "sys.version_info(major=3, minor=10, micro=9, releaselevel='final', serial=0)\n",
    "\n",
    "These are just a few examples of functions that can help us find the version of Python that we are currently working on ! '''"
   ],
   "metadata": {
    "collapsed": false,
    "ExecuteTime": {
     "start_time": "2023-04-15T22:28:33.897655Z",
     "end_time": "2023-04-15T22:28:33.953193Z"
    }
   }
  },
  {
   "cell_type": "code",
   "execution_count": 39,
   "outputs": [
    {
     "data": {
      "text/plain": "' Ques 9. Python supports the creation of anonymous functions at runtime, using a Construct called ........\\n\\nAns. Python supports the creation of anonymous functions at runtime, using a construct called \"lambda\" or \"lambda function\". The lambda function is a small, anonymous function that can have any number of arguments, but can only have one expression. It is defined using the lambda keyword, followed by the function\\'s arguments and the expression to be evaluated. Below is an example of a lambda function that takes two arguments and returns their sum:\\n\\nadd = lambda x, y: x + y\\nresult = add(3, 4)\\nprint(result)\\n# Output: 7\\n\\nLambda functions are commonly used as arguments to higher-order functions like map(), filter(), and reduce(). They can also be used as a quick way to define simple functions without giving them a name. '"
     },
     "execution_count": 39,
     "metadata": {},
     "output_type": "execute_result"
    }
   ],
   "source": [
    "''' Ques 9. Python supports the creation of anonymous functions at runtime, using a Construct called ........\n",
    "\n",
    "Ans. Python supports the creation of anonymous functions at runtime, using a construct called \"lambda\" or \"lambda function\". The lambda function is a small, anonymous function that can have any number of arguments, but can only have one expression. It is defined using the lambda keyword, followed by the function's arguments and the expression to be evaluated. Below is an example of a lambda function that takes two arguments and returns their sum:\n",
    "\n",
    "add = lambda x, y: x + y\n",
    "result = add(3, 4)\n",
    "print(result)\n",
    "# Output: 7\n",
    "\n",
    "Lambda functions are commonly used as arguments to higher-order functions like map(), filter(), and reduce(). They can also be used as a quick way to define simple functions without giving them a name. '''"
   ],
   "metadata": {
    "collapsed": false,
    "ExecuteTime": {
     "start_time": "2023-04-15T22:32:42.937391Z",
     "end_time": "2023-04-15T22:32:42.961927Z"
    }
   }
  },
  {
   "cell_type": "code",
   "execution_count": 40,
   "outputs": [
    {
     "data": {
      "text/plain": "' Ques 10. What does pip stand for python ?\\n\\nAns. In Python, pip stands for \"Pip Installs Packages\" or \"Pip Installs Python\". It is a package manager that is used to install and manage software packages (also known as \"libraries\" or \"modules\") written in Python. pip is included with most Python installations, and is used to download and install packages from the Python Package Index (PyPI) and other sources.\\nUsing pip, we can install, upgrade, and remove Python packages, as well as list installed packages and their dependencies. \\n\\nFor example, to install the popular NumPy package using pip, we can use the following command:\\npip install numpy\\n\\nThis will download and install the latest version of NumPy and its dependencies. We can then import NumPy in our Python code and use its functions and classes. '"
     },
     "execution_count": 40,
     "metadata": {},
     "output_type": "execute_result"
    }
   ],
   "source": [
    "''' Ques 10. What does pip stand for python ?\n",
    "\n",
    "Ans. In Python, pip stands for \"Pip Installs Packages\" or \"Pip Installs Python\". It is a package manager that is used to install and manage software packages (also known as \"libraries\" or \"modules\") written in Python. pip is included with most Python installations, and is used to download and install packages from the Python Package Index (PyPI) and other sources.\n",
    "Using pip, we can install, upgrade, and remove Python packages, as well as list installed packages and their dependencies.\n",
    "\n",
    "For example, to install the popular NumPy package using pip, we can use the following command:\n",
    "pip install numpy\n",
    "\n",
    "This will download and install the latest version of NumPy and its dependencies. We can then import NumPy in our Python code and use its functions and classes. '''"
   ],
   "metadata": {
    "collapsed": false,
    "ExecuteTime": {
     "start_time": "2023-04-15T22:35:26.620264Z",
     "end_time": "2023-04-15T22:35:26.691263Z"
    }
   }
  },
  {
   "cell_type": "code",
   "execution_count": 41,
   "outputs": [
    {
     "data": {
      "text/plain": "' Ques 11. Mention a few built-in functions in python ?\\n\\nAns. \\n'"
     },
     "execution_count": 41,
     "metadata": {},
     "output_type": "execute_result"
    }
   ],
   "source": [
    "''' Ques 11. Mention a few built-in functions in python ?\n",
    "\n",
    "Ans.  '''"
   ],
   "metadata": {
    "collapsed": false,
    "ExecuteTime": {
     "start_time": "2023-04-15T22:36:08.489484Z",
     "end_time": "2023-04-15T22:36:08.597004Z"
    }
   }
  },
  {
   "cell_type": "code",
   "execution_count": 42,
   "outputs": [
    {
     "data": {
      "text/plain": "' Ques \\n\\nAns.  '"
     },
     "execution_count": 42,
     "metadata": {},
     "output_type": "execute_result"
    }
   ],
   "source": [
    "''' Ques 12. What is the maximum possible length of an identifier in Python ?\n",
    "\n",
    "Ans.  '''"
   ],
   "metadata": {
    "collapsed": false,
    "ExecuteTime": {
     "start_time": "2023-04-15T22:36:30.633044Z",
     "end_time": "2023-04-15T22:36:30.740583Z"
    }
   }
  },
  {
   "cell_type": "code",
   "execution_count": 43,
   "outputs": [
    {
     "data": {
      "text/plain": "' Ques \\n\\nAns.  '"
     },
     "execution_count": 43,
     "metadata": {},
     "output_type": "execute_result"
    }
   ],
   "source": [
    "''' Ques 13. What are the benefits of using Python ?\n",
    "\n",
    "Ans.  '''"
   ],
   "metadata": {
    "collapsed": false,
    "ExecuteTime": {
     "start_time": "2023-04-15T22:36:32.648388Z",
     "end_time": "2023-04-15T22:36:32.765946Z"
    }
   }
  },
  {
   "cell_type": "code",
   "execution_count": 44,
   "outputs": [
    {
     "data": {
      "text/plain": "' Ques \\n\\nAns.  '"
     },
     "execution_count": 44,
     "metadata": {},
     "output_type": "execute_result"
    }
   ],
   "source": [
    "''' Ques 14. How is memory managed in python ?\n",
    "\n",
    "Ans.  '''"
   ],
   "metadata": {
    "collapsed": false,
    "ExecuteTime": {
     "start_time": "2023-04-15T22:36:35.095290Z",
     "end_time": "2023-04-15T22:36:35.219398Z"
    }
   }
  },
  {
   "cell_type": "code",
   "execution_count": 45,
   "outputs": [
    {
     "data": {
      "text/plain": "' Ques \\n\\nAns.  '"
     },
     "execution_count": 45,
     "metadata": {},
     "output_type": "execute_result"
    }
   ],
   "source": [
    "''' Ques 15. How to install Python on windows and set path variables ?\n",
    "\n",
    "Ans.  '''"
   ],
   "metadata": {
    "collapsed": false,
    "ExecuteTime": {
     "start_time": "2023-04-15T22:36:36.116774Z",
     "end_time": "2023-04-15T22:36:36.271368Z"
    }
   }
  },
  {
   "cell_type": "code",
   "execution_count": 46,
   "outputs": [
    {
     "data": {
      "text/plain": "' Ques \\n\\nAns.  '"
     },
     "execution_count": 46,
     "metadata": {},
     "output_type": "execute_result"
    }
   ],
   "source": [
    "''' Ques 16. Is indentation required in python ?\n",
    "\n",
    "Ans.  '''"
   ],
   "metadata": {
    "collapsed": false,
    "ExecuteTime": {
     "start_time": "2023-04-15T22:36:36.966778Z",
     "end_time": "2023-04-15T22:36:37.123879Z"
    }
   }
  },
  {
   "cell_type": "code",
   "execution_count": null,
   "outputs": [],
   "source": [],
   "metadata": {
    "collapsed": false
   }
  }
 ],
 "metadata": {
  "kernelspec": {
   "display_name": "Python 3",
   "language": "python",
   "name": "python3"
  },
  "language_info": {
   "codemirror_mode": {
    "name": "ipython",
    "version": 2
   },
   "file_extension": ".py",
   "mimetype": "text/x-python",
   "name": "python",
   "nbconvert_exporter": "python",
   "pygments_lexer": "ipython2",
   "version": "2.7.6"
  }
 },
 "nbformat": 4,
 "nbformat_minor": 0
}
