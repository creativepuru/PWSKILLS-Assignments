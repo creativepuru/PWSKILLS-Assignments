{
 "cells": [
  {
   "cell_type": "markdown",
   "source": [
    "Company : PWSKILLS\n",
    "Course : DATA SCIENCE MASTERS\n",
    "Batch : IMPACT BATCH 1\n",
    "Student Name : Purushottam Anand\n",
    "\n",
    "Notebook Topic : Solutions of Assignment | Date : 29th Jan 2023"
   ],
   "metadata": {
    "collapsed": false
   }
  },
  {
   "cell_type": "code",
   "execution_count": 2,
   "metadata": {
    "collapsed": true,
    "ExecuteTime": {
     "start_time": "2023-04-15T21:39:23.055931Z",
     "end_time": "2023-04-15T21:39:23.100931Z"
    }
   },
   "outputs": [
    {
     "data": {
      "text/plain": "' 1. Who developed Python Programming Language?\\nAns. Python programming language was developed by Guido van Rossum in the late 1980s, and its first public release was in 1991. Guido van Rossum named it after the British comedy group Monty Python. '"
     },
     "execution_count": 2,
     "metadata": {},
     "output_type": "execute_result"
    }
   ],
   "source": [
    "''' 1. Who developed Python Programming Language?\n",
    "Ans. Python programming language was developed by Guido van Rossum in the late 1980s, and its first public release was in 1991. Guido van Rossum named it after the British comedy group Monty Python. '''\n"
   ]
  },
  {
   "cell_type": "code",
   "execution_count": null,
   "outputs": [],
   "source": [],
   "metadata": {
    "collapsed": false
   }
  }
 ],
 "metadata": {
  "kernelspec": {
   "display_name": "Python 3",
   "language": "python",
   "name": "python3"
  },
  "language_info": {
   "codemirror_mode": {
    "name": "ipython",
    "version": 2
   },
   "file_extension": ".py",
   "mimetype": "text/x-python",
   "name": "python",
   "nbconvert_exporter": "python",
   "pygments_lexer": "ipython2",
   "version": "2.7.6"
  }
 },
 "nbformat": 4,
 "nbformat_minor": 0
}
