{
 "cells": [
  {
   "cell_type": "markdown",
   "source": [
    "# || Assignment No. : 2  ||  Date : 30th Jan 2023  ||\n",
    "# || Notebook Topic : Solutions of Assignment  ||\n",
    "\n",
    "# || Organisation Name : PWSKILLS  ||\n",
    "# || Course Name : DATA SCIENCE MASTERS  ||\n",
    "# || Batch : IMPACT BATCH 1  ||\n",
    "# || Student Name : Purushottam Anand  ||\n",
    "\n",
    "-------------------------------------------------------------------------------"
   ],
   "metadata": {
    "collapsed": false
   }
  },
  {
   "cell_type": "markdown",
   "source": [
    "# QUESTION : 1"
   ],
   "metadata": {
    "collapsed": false
   }
  },
  {
   "cell_type": "code",
   "execution_count": 14,
   "metadata": {
    "collapsed": true,
    "ExecuteTime": {
     "start_time": "2023-04-20T22:36:20.111367Z",
     "end_time": "2023-04-20T22:36:21.709822Z"
    }
   },
   "outputs": [
    {
     "name": "stdout",
     "output_type": "stream",
     "text": [
      "Congratulations ! You have secured grade A\n"
     ]
    }
   ],
   "source": [
    "''' Ques 1. Write a program to accept percentage from the user and display the grade according to the following criteria :\n",
    "Kindly refer image file \"Q 1.png\" for detailed question.\n",
    "Link : https://github.com/creativepurus/PWSKILLS-Assignments/tree/main/Jan%2030th%202023\n",
    "'''\n",
    "# Code line goes here :\n",
    "\n",
    "percentage = int(input(\"Enter your percentage to check your grade : \"))\n",
    "\n",
    "if percentage > 90 :\n",
    "    print(\"Congratulations ! You have secured grade A\")\n",
    "elif 80 < percentage <= 90 :\n",
    "    print(\"Congratulations ! You have secured grade B\")\n",
    "elif 60 <= percentage <= 80 :\n",
    "    print(\"Work hard ! You have secured grade C\")\n",
    "else :\n",
    "    print(\"Work harder ! You have secured grade D\")"
   ]
  },
  {
   "cell_type": "markdown",
   "source": [
    "# QUESTION : 2"
   ],
   "metadata": {
    "collapsed": false
   }
  },
  {
   "cell_type": "code",
   "execution_count": 15,
   "outputs": [],
   "source": [
    "''' Ques 2. Write a program to accept the cost price of a bike and display the road tax to be paid according to the following criteria :\n",
    "Kindly refer image file \"Q 2.png\" for detailed question.\n",
    "Link : https://github.com/creativepurus/PWSKILLS-Assignments/tree/main/Jan%2030th%202023\n",
    "'''\n",
    "# Code line goes here :\n",
    "\n",
    "cost_price = int(input(\"Enter the cost price of bike to know about the road tax to be paid : \"))\n",
    "\n",
    "if cost_price > 100000 :\n",
    "    print(\"You have to pay 15% road tax\")"
   ],
   "metadata": {
    "collapsed": false,
    "ExecuteTime": {
     "start_time": "2023-04-20T22:55:16.759448Z",
     "end_time": "2023-04-20T22:55:19.668454Z"
    }
   }
  },
  {
   "cell_type": "markdown",
   "source": [
    "# QUESTION : 3"
   ],
   "metadata": {
    "collapsed": false
   }
  },
  {
   "cell_type": "code",
   "execution_count": 16,
   "outputs": [
    {
     "data": {
      "text/plain": "' Ques 3. Accept any city from the user and display monuments of that city :\\nKindly refer image file \"Q 3.png\" for detailed question.\\nLink : https://github.com/creativepurus/PWSKILLS-Assignments/tree/main/Jan%2030th%202023\\n'"
     },
     "execution_count": 16,
     "metadata": {},
     "output_type": "execute_result"
    }
   ],
   "source": [
    "''' Ques 3. Accept any city from the user and display monuments of that city :\n",
    "Kindly refer image file \"Q 3.png\" for detailed question.\n",
    "Link : https://github.com/creativepurus/PWSKILLS-Assignments/tree/main/Jan%2030th%202023\n",
    "'''"
   ],
   "metadata": {
    "collapsed": false,
    "ExecuteTime": {
     "start_time": "2023-04-20T22:55:26.466449Z",
     "end_time": "2023-04-20T22:55:26.579452Z"
    }
   }
  },
  {
   "cell_type": "markdown",
   "source": [
    "# QUESTION : 4"
   ],
   "metadata": {
    "collapsed": false
   }
  },
  {
   "cell_type": "code",
   "execution_count": 17,
   "outputs": [
    {
     "data": {
      "text/plain": "' Ques 4. Check how many times a given number can be divided by 3 before it is less than or equal to 10.\\n\\n '"
     },
     "execution_count": 17,
     "metadata": {},
     "output_type": "execute_result"
    }
   ],
   "source": [
    "''' Ques 4. Check how many times a given number can be divided by 3 before it is less than or equal to 10.\n",
    "\n",
    " '''"
   ],
   "metadata": {
    "collapsed": false,
    "ExecuteTime": {
     "start_time": "2023-04-20T22:57:01.833385Z",
     "end_time": "2023-04-20T22:57:01.870378Z"
    }
   }
  },
  {
   "cell_type": "markdown",
   "source": [
    "# QUESTION : 5"
   ],
   "metadata": {
    "collapsed": false
   }
  },
  {
   "cell_type": "code",
   "execution_count": 18,
   "outputs": [
    {
     "data": {
      "text/plain": "' Ques 5. Why and when to use while loop in python give a detailed description with example\\n\\n '"
     },
     "execution_count": 18,
     "metadata": {},
     "output_type": "execute_result"
    }
   ],
   "source": [
    "''' Ques 5. Why and when to use while loop in python give a detailed description with example\n",
    "\n",
    " '''"
   ],
   "metadata": {
    "collapsed": false,
    "ExecuteTime": {
     "start_time": "2023-04-20T22:57:03.601379Z",
     "end_time": "2023-04-20T22:57:03.675373Z"
    }
   }
  },
  {
   "cell_type": "markdown",
   "source": [
    "# QUESTION : 6"
   ],
   "metadata": {
    "collapsed": false
   }
  },
  {
   "cell_type": "code",
   "execution_count": 19,
   "outputs": [
    {
     "data": {
      "text/plain": "' Ques 6. Use nested while loop to print 3 different pattern.\\n\\n '"
     },
     "execution_count": 19,
     "metadata": {},
     "output_type": "execute_result"
    }
   ],
   "source": [
    "''' Ques 6. Use nested while loop to print 3 different pattern.\n",
    "\n",
    " '''"
   ],
   "metadata": {
    "collapsed": false,
    "ExecuteTime": {
     "start_time": "2023-04-20T22:57:04.466376Z",
     "end_time": "2023-04-20T22:57:04.534377Z"
    }
   }
  },
  {
   "cell_type": "markdown",
   "source": [
    "# QUESTION : 7"
   ],
   "metadata": {
    "collapsed": false
   }
  },
  {
   "cell_type": "code",
   "execution_count": 20,
   "outputs": [
    {
     "data": {
      "text/plain": "' Ques 7. Reverse a while loop to display numbers from 10 to 1.\\n\\n '"
     },
     "execution_count": 20,
     "metadata": {},
     "output_type": "execute_result"
    }
   ],
   "source": [
    "''' Ques 7. Reverse a while loop to display numbers from 10 to 1.\n",
    "\n",
    " '''"
   ],
   "metadata": {
    "collapsed": false,
    "ExecuteTime": {
     "start_time": "2023-04-20T22:57:05.064386Z",
     "end_time": "2023-04-20T22:57:05.132374Z"
    }
   }
  },
  {
   "cell_type": "markdown",
   "source": [
    "# QUESTION : 8"
   ],
   "metadata": {
    "collapsed": false
   }
  },
  {
   "cell_type": "code",
   "execution_count": 21,
   "outputs": [
    {
     "data": {
      "text/plain": "' Ques 8. Same as Question no. 7 '"
     },
     "execution_count": 21,
     "metadata": {},
     "output_type": "execute_result"
    }
   ],
   "source": [
    "''' Ques 8. Same as Question no. 7 '''"
   ],
   "metadata": {
    "collapsed": false,
    "ExecuteTime": {
     "start_time": "2023-04-20T22:57:05.959381Z",
     "end_time": "2023-04-20T22:57:05.992383Z"
    }
   }
  },
  {
   "cell_type": "markdown",
   "source": [
    "# --------------------- Assignment Solutions ends here ---------------------"
   ],
   "metadata": {
    "collapsed": false
   }
  },
  {
   "cell_type": "code",
   "execution_count": 17,
   "outputs": [],
   "source": [],
   "metadata": {
    "collapsed": false,
    "ExecuteTime": {
     "start_time": "2023-04-20T21:40:29.939375Z",
     "end_time": "2023-04-20T21:40:30.066651Z"
    }
   }
  }
 ],
 "metadata": {
  "kernelspec": {
   "display_name": "Python 3",
   "language": "python",
   "name": "python3"
  },
  "language_info": {
   "codemirror_mode": {
    "name": "ipython",
    "version": 2
   },
   "file_extension": ".py",
   "mimetype": "text/x-python",
   "name": "python",
   "nbconvert_exporter": "python",
   "pygments_lexer": "ipython2",
   "version": "2.7.6"
  }
 },
 "nbformat": 4,
 "nbformat_minor": 0
}
