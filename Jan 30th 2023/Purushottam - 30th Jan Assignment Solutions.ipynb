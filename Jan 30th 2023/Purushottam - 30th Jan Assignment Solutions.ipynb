{
 "cells": [
  {
   "cell_type": "markdown",
   "source": [
    "# || Assignment No. : 2  ||  Date : 30th Jan 2023  ||\n",
    "# || Notebook Topic : Solutions of Assignment  ||\n",
    "\n",
    "# || Organisation Name : PWSKILLS  ||\n",
    "# || Course Name : DATA SCIENCE MASTERS  ||\n",
    "# || Batch : IMPACT BATCH 1  ||\n",
    "# || Student Name : Purushottam Anand  ||\n",
    "\n",
    "-------------------------------------------------------------------------------"
   ],
   "metadata": {
    "collapsed": false
   }
  },
  {
   "cell_type": "markdown",
   "source": [
    "# QUESTION : 1"
   ],
   "metadata": {
    "collapsed": false
   }
  },
  {
   "cell_type": "code",
   "execution_count": 12,
   "metadata": {
    "collapsed": true,
    "ExecuteTime": {
     "start_time": "2023-04-20T22:31:47.143780Z",
     "end_time": "2023-04-20T22:31:48.888782Z"
    }
   },
   "outputs": [
    {
     "name": "stdout",
     "output_type": "stream",
     "text": [
      "Congratulations ! You have secured grade A\n"
     ]
    }
   ],
   "source": [
    "''' Ques 1. Write a program to accept percentage from the user and display the grade according to the following criteria :\n",
    "Kindly refer image file \"30th Jan - Q 1.png\" for detailed question.\n",
    "Direct Link : https://github.com/creativepurus/PWSKILLS-Assignments/tree/main/Jan%2030th%202023\n",
    "'''\n",
    "\n",
    "percentage = int(input(\"Enter your precentage : \"))\n",
    "\n",
    "if percentage > 90 :\n",
    "    print(\"Congratulations ! You have secured grade A\")\n",
    "elif 80 < percentage <= 90 :\n",
    "    print(\"Congratulations ! You have secured grade B\")\n",
    "elif 60 <= percentage <= 80 :\n",
    "    print(\"Work hard ! You have secured grade C\")\n",
    "else :\n",
    "    print(\"Work harder ! You have secured grade D\")"
   ]
  },
  {
   "cell_type": "markdown",
   "source": [
    "# QUESTION : 2"
   ],
   "metadata": {
    "collapsed": false
   }
  },
  {
   "cell_type": "code",
   "execution_count": 11,
   "outputs": [
    {
     "data": {
      "text/plain": "' Ques 2.  '"
     },
     "execution_count": 11,
     "metadata": {},
     "output_type": "execute_result"
    }
   ],
   "source": [
    "''' Ques 2.  '''"
   ],
   "metadata": {
    "collapsed": false,
    "ExecuteTime": {
     "start_time": "2023-04-20T21:40:26.760785Z",
     "end_time": "2023-04-20T21:40:27.216186Z"
    }
   }
  },
  {
   "cell_type": "markdown",
   "source": [
    "# QUESTION : 3"
   ],
   "metadata": {
    "collapsed": false
   }
  },
  {
   "cell_type": "code",
   "execution_count": 12,
   "outputs": [
    {
     "data": {
      "text/plain": "' Ques 3.  '"
     },
     "execution_count": 12,
     "metadata": {},
     "output_type": "execute_result"
    }
   ],
   "source": [
    "''' Ques 3.  '''"
   ],
   "metadata": {
    "collapsed": false,
    "ExecuteTime": {
     "start_time": "2023-04-20T21:40:27.068265Z",
     "end_time": "2023-04-20T21:40:27.696559Z"
    }
   }
  },
  {
   "cell_type": "markdown",
   "source": [
    "# QUESTION : 4"
   ],
   "metadata": {
    "collapsed": false
   }
  },
  {
   "cell_type": "code",
   "execution_count": 13,
   "outputs": [
    {
     "data": {
      "text/plain": "' Ques 4.  '"
     },
     "execution_count": 13,
     "metadata": {},
     "output_type": "execute_result"
    }
   ],
   "source": [
    "''' Ques 4.  '''"
   ],
   "metadata": {
    "collapsed": false,
    "ExecuteTime": {
     "start_time": "2023-04-20T21:40:27.727876Z",
     "end_time": "2023-04-20T21:40:27.965900Z"
    }
   }
  },
  {
   "cell_type": "markdown",
   "source": [
    "# QUESTION : 5"
   ],
   "metadata": {
    "collapsed": false
   }
  },
  {
   "cell_type": "code",
   "execution_count": 14,
   "outputs": [
    {
     "data": {
      "text/plain": "' Ques 5.  '"
     },
     "execution_count": 14,
     "metadata": {},
     "output_type": "execute_result"
    }
   ],
   "source": [
    "''' Ques 5.  '''"
   ],
   "metadata": {
    "collapsed": false,
    "ExecuteTime": {
     "start_time": "2023-04-20T21:40:27.913047Z",
     "end_time": "2023-04-20T21:40:28.286078Z"
    }
   }
  },
  {
   "cell_type": "markdown",
   "source": [
    "# QUESTION : 6"
   ],
   "metadata": {
    "collapsed": false
   }
  },
  {
   "cell_type": "code",
   "execution_count": 15,
   "outputs": [
    {
     "data": {
      "text/plain": "' Ques 6.  '"
     },
     "execution_count": 15,
     "metadata": {},
     "output_type": "execute_result"
    }
   ],
   "source": [
    "''' Ques 6.  '''"
   ],
   "metadata": {
    "collapsed": false,
    "ExecuteTime": {
     "start_time": "2023-04-20T21:40:28.293885Z",
     "end_time": "2023-04-20T21:40:28.527483Z"
    }
   }
  },
  {
   "cell_type": "markdown",
   "source": [
    "# QUESTION : 7"
   ],
   "metadata": {
    "collapsed": false
   }
  },
  {
   "cell_type": "code",
   "execution_count": 16,
   "outputs": [
    {
     "data": {
      "text/plain": "' Ques 7.  '"
     },
     "execution_count": 16,
     "metadata": {},
     "output_type": "execute_result"
    }
   ],
   "source": [
    "''' Ques 7.  '''"
   ],
   "metadata": {
    "collapsed": false,
    "ExecuteTime": {
     "start_time": "2023-04-20T21:40:28.418572Z",
     "end_time": "2023-04-20T21:40:28.675792Z"
    }
   }
  },
  {
   "cell_type": "markdown",
   "source": [
    "# QUESTION : 8"
   ],
   "metadata": {
    "collapsed": false
   }
  },
  {
   "cell_type": "code",
   "execution_count": 17,
   "outputs": [
    {
     "data": {
      "text/plain": "' Ques 8.  '"
     },
     "execution_count": 17,
     "metadata": {},
     "output_type": "execute_result"
    }
   ],
   "source": [
    "''' Ques 8.  '''"
   ],
   "metadata": {
    "collapsed": false,
    "ExecuteTime": {
     "start_time": "2023-04-20T21:40:28.656044Z",
     "end_time": "2023-04-20T21:40:29.971150Z"
    }
   }
  },
  {
   "cell_type": "markdown",
   "source": [
    "# --------------------- Assignment Solutions ends here ---------------------"
   ],
   "metadata": {
    "collapsed": false
   }
  },
  {
   "cell_type": "code",
   "execution_count": 17,
   "outputs": [],
   "source": [],
   "metadata": {
    "collapsed": false,
    "ExecuteTime": {
     "start_time": "2023-04-20T21:40:29.939375Z",
     "end_time": "2023-04-20T21:40:30.066651Z"
    }
   }
  }
 ],
 "metadata": {
  "kernelspec": {
   "display_name": "Python 3",
   "language": "python",
   "name": "python3"
  },
  "language_info": {
   "codemirror_mode": {
    "name": "ipython",
    "version": 2
   },
   "file_extension": ".py",
   "mimetype": "text/x-python",
   "name": "python",
   "nbconvert_exporter": "python",
   "pygments_lexer": "ipython2",
   "version": "2.7.6"
  }
 },
 "nbformat": 4,
 "nbformat_minor": 0
}
