{
 "cells": [
  {
   "cell_type": "markdown",
   "source": [
    "# || Assignment No. : 2  ||  Date : 30th Jan 2023  ||\n",
    "# || Notebook Topic : Solutions of Assignment  ||\n",
    "\n",
    "# || Organisation Name : PWSKILLS  ||\n",
    "# || Course Name : DATA SCIENCE MASTERS  ||\n",
    "# || Batch : IMPACT BATCH 1  ||\n",
    "# || Student Name : Purushottam Anand  ||\n",
    "\n",
    "-------------------------------------------------------------------------------"
   ],
   "metadata": {
    "collapsed": false
   }
  },
  {
   "cell_type": "markdown",
   "source": [
    "# QUESTION : 1"
   ],
   "metadata": {
    "collapsed": false
   }
  },
  {
   "cell_type": "code",
   "execution_count": 28,
   "metadata": {
    "collapsed": true,
    "ExecuteTime": {
     "start_time": "2023-04-20T23:16:30.022654Z",
     "end_time": "2023-04-20T23:16:31.739562Z"
    }
   },
   "outputs": [
    {
     "name": "stdout",
     "output_type": "stream",
     "text": [
      "Congratulations ! You have secured grade A\n"
     ]
    }
   ],
   "source": [
    "''' Ques 1. Write a program to accept percentage from the user and display the grade according to the following criteria :\n",
    "Kindly refer image file \"Q 1.png\" for detailed question.\n",
    "Link : https://github.com/creativepurus/PWSKILLS-Assignments/tree/main/Jan%2030th%202023\n",
    "'''\n",
    "# Code line goes here :\n",
    "\n",
    "percentage = int(input(\"Enter your percentage to check your grade : \"))\n",
    "\n",
    "if percentage > 90 :\n",
    "    print(\"Congratulations ! You have secured grade A\")\n",
    "elif 80 < percentage <= 90 :\n",
    "    print(\"Congratulations ! You have secured grade B\")\n",
    "elif 60 <= percentage <= 80 :\n",
    "    print(\"Work hard ! You have secured grade C\")\n",
    "else :\n",
    "    print(\"Work harder ! You have secured grade D\")"
   ]
  },
  {
   "cell_type": "markdown",
   "source": [
    "# QUESTION : 2"
   ],
   "metadata": {
    "collapsed": false
   }
  },
  {
   "cell_type": "code",
   "execution_count": 29,
   "outputs": [
    {
     "name": "stdout",
     "output_type": "stream",
     "text": [
      "Your cost price is :  50000 \n",
      "You have to pay 5% road tax\n"
     ]
    }
   ],
   "source": [
    "''' Ques 2. Write a program to accept the cost price of a bike and display the road tax to be paid according to the following criteria :\n",
    "Kindly refer image file \"Q 2.png\" for detailed question.\n",
    "Link : https://github.com/creativepurus/PWSKILLS-Assignments/tree/main/Jan%2030th%202023\n",
    "'''\n",
    "# Code line goes here :\n",
    "\n",
    "cost_price = int(input(\"Enter the cost price of bike to know about the road tax to be paid : \"))\n",
    "\n",
    "if cost_price > 100000 :\n",
    "    print(\"Your cost price is : \", cost_price, \"\\nYou have to pay 15% road tax\")\n",
    "elif 50000 < cost_price <= 100000 :\n",
    "    print(\"Your cost price is : \", cost_price, \"\\nYou have to pay 10% road tax\")\n",
    "else :\n",
    "    print(\"Your cost price is : \", cost_price, \"\\nYou have to pay 5% road tax\")"
   ],
   "metadata": {
    "collapsed": false,
    "ExecuteTime": {
     "start_time": "2023-04-20T23:16:48.675296Z",
     "end_time": "2023-04-20T23:16:58.744002Z"
    }
   }
  },
  {
   "cell_type": "markdown",
   "source": [
    "# QUESTION : 3"
   ],
   "metadata": {
    "collapsed": false
   }
  },
  {
   "cell_type": "code",
   "execution_count": 41,
   "outputs": [
    {
     "name": "stdout",
     "output_type": "stream",
     "text": [
      "Oops ! Currently I can not provide data for the city :  abc \n",
      "\n",
      "Kindly choose city name among the following : \n",
      "Delhi\n",
      "Agra\n",
      "Jaipur\n"
     ]
    }
   ],
   "source": [
    "''' Ques 3. Accept any city from the user and display monuments of that city :\n",
    "Kindly refer image file \"Q 3.png\" for detailed question.\n",
    "Link : https://github.com/creativepurus/PWSKILLS-Assignments/tree/main/Jan%2030th%202023\n",
    "'''\n",
    "# Code line goes here :\n",
    "\n",
    "city = input(\"Write any city name to know it's famous monument : \")\n",
    "\n",
    "if city == \"Delhi\" or city == \"delhi\" :\n",
    "    print(\"'Red Fort' is one of the famous monument of\", city, \" !!!\")\n",
    "elif city == \"Agra\" or city == \"agra\" :\n",
    "    print(\"'Taj Mahal' is one of the famous monument of\", city, \" !!!\")\n",
    "elif city == \"Jaipur\" or city == \"jaipur\" :\n",
    "    print(\"'Jal Mahal' is one of the famous monument of\", city, \" !!!\")\n",
    "else :\n",
    "    print(\"Oops ! Currently I can not provide data for the city : \", city, \"\\n\\nKindly choose city name among the following : \\nDelhi\\nAgra\\nJaipur\")"
   ],
   "metadata": {
    "collapsed": false,
    "ExecuteTime": {
     "start_time": "2023-04-20T23:27:26.064563Z",
     "end_time": "2023-04-20T23:27:28.435725Z"
    }
   }
  },
  {
   "cell_type": "markdown",
   "source": [
    "# QUESTION : 4"
   ],
   "metadata": {
    "collapsed": false
   }
  },
  {
   "cell_type": "code",
   "execution_count": 70,
   "outputs": [
    {
     "name": "stdout",
     "output_type": "stream",
     "text": [
      "You have entered :  36 \n",
      "Find below the result : \n",
      "36.0\n",
      "12.0\n",
      "\n",
      "The given number can be divided 2 times by 3 before it is less than or equal to 10.\n"
     ]
    }
   ],
   "source": [
    "''' Ques 4. Check how many times a given number can be divided by 3 before it is less than or equal to 10. '''\n",
    "\n",
    "# Code line goes here :\n",
    "\n",
    "num = int(input(\"Enter a number to check how many times it can be divided by 3 before it is less than or equal to 10 : \"))\n",
    "count = 0\n",
    "print(\"You have entered : \", num, \"\\nFind below the result : \")\n",
    "\n",
    "while num > 10 :\n",
    "    print(num / 1)\n",
    "    num = num /  3             # we will check quotient here because we need to divide the number continuously by 3 until it becomes less than or equal to 10\n",
    "    count = count + 1           # It will store the value of the number of times number can be divided by 3 before it is less than or equal to 10\n",
    "\n",
    "print(\"\\nThe given number can be divided\", count, \"times by 3 before it is less than or equal to 10.\")"
   ],
   "metadata": {
    "collapsed": false,
    "ExecuteTime": {
     "start_time": "2023-04-21T00:03:11.013456Z",
     "end_time": "2023-04-21T00:03:13.169694Z"
    }
   }
  },
  {
   "cell_type": "markdown",
   "source": [
    "# QUESTION : 5"
   ],
   "metadata": {
    "collapsed": false
   }
  },
  {
   "cell_type": "code",
   "execution_count": 18,
   "outputs": [
    {
     "data": {
      "text/plain": "' Ques 5. Why and when to use while loop in python give a detailed description with example\\n\\n '"
     },
     "execution_count": 18,
     "metadata": {},
     "output_type": "execute_result"
    }
   ],
   "source": [
    "''' Ques 5. Why and when to use while loop in python give a detailed description with example\n",
    "\n",
    " '''"
   ],
   "metadata": {
    "collapsed": false,
    "ExecuteTime": {
     "start_time": "2023-04-20T22:57:03.601379Z",
     "end_time": "2023-04-20T22:57:03.675373Z"
    }
   }
  },
  {
   "cell_type": "markdown",
   "source": [
    "# QUESTION : 6"
   ],
   "metadata": {
    "collapsed": false
   }
  },
  {
   "cell_type": "code",
   "execution_count": 19,
   "outputs": [
    {
     "data": {
      "text/plain": "' Ques 6. Use nested while loop to print 3 different pattern.\\n\\n '"
     },
     "execution_count": 19,
     "metadata": {},
     "output_type": "execute_result"
    }
   ],
   "source": [
    "''' Ques 6. Use nested while loop to print 3 different pattern.\n",
    "\n",
    " '''"
   ],
   "metadata": {
    "collapsed": false,
    "ExecuteTime": {
     "start_time": "2023-04-20T22:57:04.466376Z",
     "end_time": "2023-04-20T22:57:04.534377Z"
    }
   }
  },
  {
   "cell_type": "markdown",
   "source": [
    "# QUESTION : 7"
   ],
   "metadata": {
    "collapsed": false
   }
  },
  {
   "cell_type": "code",
   "execution_count": 20,
   "outputs": [
    {
     "data": {
      "text/plain": "' Ques 7. Reverse a while loop to display numbers from 10 to 1.\\n\\n '"
     },
     "execution_count": 20,
     "metadata": {},
     "output_type": "execute_result"
    }
   ],
   "source": [
    "''' Ques 7. Reverse a while loop to display numbers from 10 to 1.\n",
    "\n",
    " '''"
   ],
   "metadata": {
    "collapsed": false,
    "ExecuteTime": {
     "start_time": "2023-04-20T22:57:05.064386Z",
     "end_time": "2023-04-20T22:57:05.132374Z"
    }
   }
  },
  {
   "cell_type": "markdown",
   "source": [
    "# QUESTION : 8"
   ],
   "metadata": {
    "collapsed": false
   }
  },
  {
   "cell_type": "code",
   "execution_count": 21,
   "outputs": [
    {
     "data": {
      "text/plain": "' Ques 8. Same as Question no. 7 '"
     },
     "execution_count": 21,
     "metadata": {},
     "output_type": "execute_result"
    }
   ],
   "source": [
    "''' Ques 8. Same as Question no. 7 '''"
   ],
   "metadata": {
    "collapsed": false,
    "ExecuteTime": {
     "start_time": "2023-04-20T22:57:05.959381Z",
     "end_time": "2023-04-20T22:57:05.992383Z"
    }
   }
  },
  {
   "cell_type": "markdown",
   "source": [
    "# --------------------- Assignment Solutions ends here ---------------------"
   ],
   "metadata": {
    "collapsed": false
   }
  },
  {
   "cell_type": "code",
   "execution_count": 17,
   "outputs": [],
   "source": [],
   "metadata": {
    "collapsed": false,
    "ExecuteTime": {
     "start_time": "2023-04-20T21:40:29.939375Z",
     "end_time": "2023-04-20T21:40:30.066651Z"
    }
   }
  }
 ],
 "metadata": {
  "kernelspec": {
   "display_name": "Python 3",
   "language": "python",
   "name": "python3"
  },
  "language_info": {
   "codemirror_mode": {
    "name": "ipython",
    "version": 2
   },
   "file_extension": ".py",
   "mimetype": "text/x-python",
   "name": "python",
   "nbconvert_exporter": "python",
   "pygments_lexer": "ipython2",
   "version": "2.7.6"
  }
 },
 "nbformat": 4,
 "nbformat_minor": 0
}
