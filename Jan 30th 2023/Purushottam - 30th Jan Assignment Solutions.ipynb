{
 "cells": [
  {
   "cell_type": "markdown",
   "source": [
    "# || Assignment No. : 2  ||  Date : 30th Jan 2023  ||\n",
    "# || Notebook Topic : Solutions of Assignment  ||\n",
    "\n",
    "# || Organisation Name : PWSKILLS  ||\n",
    "# || Course Name : DATA SCIENCE MASTERS  ||\n",
    "# || Batch : IMPACT BATCH 1  ||\n",
    "# || Student Name : Purushottam Anand  ||\n",
    "\n",
    "-------------------------------------------------------------------------------"
   ],
   "metadata": {
    "collapsed": false
   }
  },
  {
   "cell_type": "markdown",
   "source": [
    "# QUESTION : 1"
   ],
   "metadata": {
    "collapsed": false
   }
  },
  {
   "cell_type": "code",
   "execution_count": 28,
   "metadata": {
    "collapsed": true,
    "ExecuteTime": {
     "start_time": "2023-04-20T23:16:30.022654Z",
     "end_time": "2023-04-20T23:16:31.739562Z"
    }
   },
   "outputs": [
    {
     "name": "stdout",
     "output_type": "stream",
     "text": [
      "Congratulations ! You have secured grade A\n"
     ]
    }
   ],
   "source": [
    "''' Ques 1. Write a program to accept percentage from the user and display the grade according to the following criteria :\n",
    "Kindly refer image file \"Q 1.png\" for detailed question.\n",
    "Link : https://github.com/creativepurus/PWSKILLS-Assignments/tree/main/Jan%2030th%202023\n",
    "'''\n",
    "# Code line goes here :\n",
    "\n",
    "percentage = int(input(\"Enter your percentage to check your grade : \"))\n",
    "\n",
    "if percentage > 90 :\n",
    "    print(\"Congratulations ! You have secured grade A\")\n",
    "elif 80 < percentage <= 90 :\n",
    "    print(\"Congratulations ! You have secured grade B\")\n",
    "elif 60 <= percentage <= 80 :\n",
    "    print(\"Work hard ! You have secured grade C\")\n",
    "else :\n",
    "    print(\"Work harder ! You have secured grade D\")"
   ]
  },
  {
   "cell_type": "markdown",
   "source": [
    "# QUESTION : 2"
   ],
   "metadata": {
    "collapsed": false
   }
  },
  {
   "cell_type": "code",
   "execution_count": 29,
   "outputs": [
    {
     "name": "stdout",
     "output_type": "stream",
     "text": [
      "Your cost price is :  50000 \n",
      "You have to pay 5% road tax\n"
     ]
    }
   ],
   "source": [
    "''' Ques 2. Write a program to accept the cost price of a bike and display the road tax to be paid according to the following criteria :\n",
    "Kindly refer image file \"Q 2.png\" for detailed question.\n",
    "Link : https://github.com/creativepurus/PWSKILLS-Assignments/tree/main/Jan%2030th%202023\n",
    "'''\n",
    "# Code line goes here :\n",
    "\n",
    "cost_price = int(input(\"Enter the cost price of bike to know about the road tax to be paid : \"))\n",
    "\n",
    "if cost_price > 100000 :\n",
    "    print(\"Your cost price is : \", cost_price, \"\\nYou have to pay 15% road tax\")\n",
    "elif 50000 < cost_price <= 100000 :\n",
    "    print(\"Your cost price is : \", cost_price, \"\\nYou have to pay 10% road tax\")\n",
    "else :\n",
    "    print(\"Your cost price is : \", cost_price, \"\\nYou have to pay 5% road tax\")"
   ],
   "metadata": {
    "collapsed": false,
    "ExecuteTime": {
     "start_time": "2023-04-20T23:16:48.675296Z",
     "end_time": "2023-04-20T23:16:58.744002Z"
    }
   }
  },
  {
   "cell_type": "markdown",
   "source": [
    "# QUESTION : 3"
   ],
   "metadata": {
    "collapsed": false
   }
  },
  {
   "cell_type": "code",
   "execution_count": 41,
   "outputs": [
    {
     "name": "stdout",
     "output_type": "stream",
     "text": [
      "Oops ! Currently I can not provide data for the city :  abc \n",
      "\n",
      "Kindly choose city name among the following : \n",
      "Delhi\n",
      "Agra\n",
      "Jaipur\n"
     ]
    }
   ],
   "source": [
    "''' Ques 3. Accept any city from the user and display monuments of that city :\n",
    "Kindly refer image file \"Q 3.png\" for detailed question.\n",
    "Link : https://github.com/creativepurus/PWSKILLS-Assignments/tree/main/Jan%2030th%202023\n",
    "'''\n",
    "# Code line goes here :\n",
    "\n",
    "city = input(\"Write any city name to know it's famous monument : \")\n",
    "\n",
    "if city == \"Delhi\" or city == \"delhi\" :\n",
    "    print(\"'Red Fort' is one of the famous monument of\", city, \" !!!\")\n",
    "elif city == \"Agra\" or city == \"agra\" :\n",
    "    print(\"'Taj Mahal' is one of the famous monument of\", city, \" !!!\")\n",
    "elif city == \"Jaipur\" or city == \"jaipur\" :\n",
    "    print(\"'Jal Mahal' is one of the famous monument of\", city, \" !!!\")\n",
    "else :\n",
    "    print(\"Oops ! Currently I can not provide data for the city : \", city, \"\\n\\nKindly choose city name among the following : \\nDelhi\\nAgra\\nJaipur\")"
   ],
   "metadata": {
    "collapsed": false,
    "ExecuteTime": {
     "start_time": "2023-04-20T23:27:26.064563Z",
     "end_time": "2023-04-20T23:27:28.435725Z"
    }
   }
  },
  {
   "cell_type": "markdown",
   "source": [
    "# QUESTION : 4"
   ],
   "metadata": {
    "collapsed": false
   }
  },
  {
   "cell_type": "code",
   "execution_count": 70,
   "outputs": [
    {
     "name": "stdout",
     "output_type": "stream",
     "text": [
      "You have entered :  36 \n",
      "Find below the result : \n",
      "36.0\n",
      "12.0\n",
      "\n",
      "The given number can be divided 2 times by 3 before it is less than or equal to 10.\n"
     ]
    }
   ],
   "source": [
    "''' Ques 4. Check how many times a given number can be divided by 3 before it is less than or equal to 10. '''\n",
    "\n",
    "# Code line goes here :\n",
    "\n",
    "num = int(input(\"Enter a number to check how many times it can be divided by 3 before it is less than or equal to 10 : \"))\n",
    "count = 0\n",
    "print(\"You have entered : \", num, \"\\nFind below the result : \")\n",
    "\n",
    "while num > 10 :\n",
    "    print(num / 1)\n",
    "    num = num /  3             # we will check quotient here because we need to divide the number continuously by 3 until it becomes less than or equal to 10\n",
    "    count = count + 1           # It will store the value of the number of times number can be divided by 3 before it is less than or equal to 10\n",
    "\n",
    "print(\"\\nThe given number can be divided\", count, \"times by 3 before it is less than or equal to 10.\")"
   ],
   "metadata": {
    "collapsed": false,
    "ExecuteTime": {
     "start_time": "2023-04-21T00:03:11.013456Z",
     "end_time": "2023-04-21T00:03:13.169694Z"
    }
   }
  },
  {
   "cell_type": "markdown",
   "source": [
    "# QUESTION : 5"
   ],
   "metadata": {
    "collapsed": false
   }
  },
  {
   "cell_type": "code",
   "execution_count": 81,
   "outputs": [
    {
     "name": "stdout",
     "output_type": "stream",
     "text": [
      "1\n",
      "2\n",
      "3\n",
      "4\n",
      "5\n",
      "6\n",
      "7\n",
      "8\n",
      "9\n",
      "10\n",
      "While loop condition is now False !\n"
     ]
    },
    {
     "data": {
      "text/plain": "' In this code, we first initialize a counter variable count to 1. We then use a while loop with the condition count <= 10.\\nThis means that the loop will execute as long as the value of count is less than or equal to 10.\\nInside the loop, we print out the value of count, which will be the numbers 1 to 10 in sequence.\\nWe then increment the value of count by 1.\\nWhen the value of count becomes 11, the condition count <= 10 becomes False, and the loop is exited.\\nThe program continues to execute the code that comes after the loop.\\n\\nIn summary, the while loop is useful when we need to repeatedly execute a block of code while a certain condition is true. '"
     },
     "execution_count": 81,
     "metadata": {},
     "output_type": "execute_result"
    }
   ],
   "source": [
    "''' Ques 5. Why and when to use while loop in python give a detailed description with example.\n",
    "\n",
    "Ans. In Python, a while loop is used to repeatedly execute a block of code as long as a certain condition is true.\n",
    "It is a pre-test loop, which means that the condition is tested at the beginning of each iteration.\n",
    "If the condition is true, the loop body will be executed, and then the condition will be tested again.\n",
    "The loop continues until the condition becomes false.\n",
    "\n",
    "The syntax of a while loop in Python is as follows :\n",
    "while condition:\n",
    "    # code to be executed repeatedly while condition is true\n",
    "\n",
    "Here, the condition is a Boolean expression that evaluates to True or False. The code block inside the loop is executed repeatedly as long as the condition is true.\n",
    "If the condition becomes false, the loop is exited and the program continues to execute the code that comes after the loop.\n",
    "\n",
    "Below is an example of a while loop that prints out the numbers 1 to 10 :\n",
    "'''\n",
    "count = 1   # initialize a counter variable\n",
    "while count <= 10 :   # loop condition\n",
    "    print(count)   # code block\n",
    "    count = count + 1   # increment the counter variable\n",
    "print(\"While loop condition is now False !\")\n",
    "\n",
    "''' In this code, we first initialize a counter variable count to 1. We then use a while loop with the condition count <= 10.\n",
    "This means that the loop will execute as long as the value of count is less than or equal to 10.\n",
    "Inside the loop, we print out the value of count, which will be the numbers 1 to 10 in sequence.\n",
    "We then increment the value of count by 1.\n",
    "When the value of count becomes 11, the condition count <= 10 becomes False, and the loop is exited.\n",
    "The program continues to execute the code that comes after the loop.\n",
    "\n",
    "In summary, the while loop is useful when we need to repeatedly execute a block of code while a certain condition is true. '''"
   ],
   "metadata": {
    "collapsed": false,
    "ExecuteTime": {
     "start_time": "2023-04-21T00:25:22.355426Z",
     "end_time": "2023-04-21T00:25:22.386675Z"
    }
   }
  },
  {
   "cell_type": "markdown",
   "source": [
    "# QUESTION : 6"
   ],
   "metadata": {
    "collapsed": false
   }
  },
  {
   "cell_type": "code",
   "execution_count": 93,
   "outputs": [],
   "source": [
    "''' Ques 6. Use nested while loop to print 3 different pattern.  '''\n",
    "\n",
    "# Pattern 1 :\n",
    "i = 1                                       # initialize the outer loop variable\n",
    "while i <= 5 :                          # outer loop condition\n",
    "    j = 1                                       # initialize the inner loop variable\n",
    "    while j <= i :                             # inner loop condition\n",
    "        print(\"*\", end = \" \")                # it will print the pattern output\n",
    "        j = j + 1                                       # increment the inner loop variable\n",
    "    print()                                                # print a newline after each row\n",
    "    i = i + 1                                                  # increment the outer loop variable\n",
    "\n",
    "'''Pattern 1 :\n",
    "In this code, we use two nested while loops to print a pattern of asterisks.\n",
    "The outer loop iterates over the rows of the pattern, while the inner loop iterates over the columns. '''"
   ],
   "metadata": {
    "collapsed": false,
    "ExecuteTime": {
     "start_time": "2023-04-21T01:10:52.632373Z",
     "end_time": "2023-04-21T01:10:52.673862Z"
    }
   }
  },
  {
   "cell_type": "markdown",
   "source": [
    "# QUESTION : 7"
   ],
   "metadata": {
    "collapsed": false
   }
  },
  {
   "cell_type": "code",
   "execution_count": 95,
   "outputs": [],
   "source": [
    "''' Ques 7. Reverse a while loop to display numbers from 10 to 1.\n",
    "\n",
    " '''"
   ],
   "metadata": {
    "collapsed": false,
    "ExecuteTime": {
     "start_time": "2023-04-21T01:11:24.080564Z",
     "end_time": "2023-04-21T01:11:24.140616Z"
    }
   }
  },
  {
   "cell_type": "markdown",
   "source": [
    "# QUESTION : 8"
   ],
   "metadata": {
    "collapsed": false
   }
  },
  {
   "cell_type": "code",
   "execution_count": 21,
   "outputs": [
    {
     "data": {
      "text/plain": "' Ques 8. Same as Question no. 7 '"
     },
     "execution_count": 21,
     "metadata": {},
     "output_type": "execute_result"
    }
   ],
   "source": [
    "''' Ques 8. Same as Question no. 7 '''"
   ],
   "metadata": {
    "collapsed": false,
    "ExecuteTime": {
     "start_time": "2023-04-20T22:57:05.959381Z",
     "end_time": "2023-04-20T22:57:05.992383Z"
    }
   }
  },
  {
   "cell_type": "markdown",
   "source": [
    "# --------------------- Assignment Solutions ends here ---------------------"
   ],
   "metadata": {
    "collapsed": false
   }
  },
  {
   "cell_type": "code",
   "execution_count": 17,
   "outputs": [],
   "source": [],
   "metadata": {
    "collapsed": false,
    "ExecuteTime": {
     "start_time": "2023-04-20T21:40:29.939375Z",
     "end_time": "2023-04-20T21:40:30.066651Z"
    }
   }
  }
 ],
 "metadata": {
  "kernelspec": {
   "display_name": "Python 3",
   "language": "python",
   "name": "python3"
  },
  "language_info": {
   "codemirror_mode": {
    "name": "ipython",
    "version": 2
   },
   "file_extension": ".py",
   "mimetype": "text/x-python",
   "name": "python",
   "nbconvert_exporter": "python",
   "pygments_lexer": "ipython2",
   "version": "2.7.6"
  }
 },
 "nbformat": 4,
 "nbformat_minor": 0
}
