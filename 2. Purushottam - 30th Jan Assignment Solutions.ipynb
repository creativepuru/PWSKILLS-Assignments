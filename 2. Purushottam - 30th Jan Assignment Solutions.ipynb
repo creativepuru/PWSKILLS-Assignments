{
 "cells": [
  {
   "cell_type": "markdown",
   "source": [
    "# || Assignment No. : 2  ||  Date : 30th Jan 2023  ||\n",
    "# || Notebook Topic : Solutions of Assignment  ||\n",
    "\n",
    "# || Organisation Name : PWSKILLS  ||\n",
    "# || Course Name : DATA SCIENCE MASTERS  ||\n",
    "# || Batch : IMPACT BATCH 1  ||\n",
    "# || Student Name : Purushottam Anand  ||\n",
    "\n",
    "-------------------------------------------------------------------------------"
   ],
   "metadata": {
    "collapsed": false
   }
  },
  {
   "cell_type": "markdown",
   "source": [
    "# QUESTION : 1"
   ],
   "metadata": {
    "collapsed": false
   }
  },
  {
   "cell_type": "code",
   "execution_count": 1,
   "metadata": {
    "collapsed": true,
    "ExecuteTime": {
     "start_time": "2023-04-20T18:44:48.842417Z",
     "end_time": "2023-04-20T18:44:48.891681Z"
    }
   },
   "outputs": [
    {
     "data": {
      "text/plain": "' Ques 1.\\n\\nAns.  '"
     },
     "execution_count": 1,
     "metadata": {},
     "output_type": "execute_result"
    }
   ],
   "source": [
    "''' Ques 1.\n",
    "\n",
    "Ans.  '''\n"
   ]
  },
  {
   "cell_type": "markdown",
   "source": [
    "# QUESTION : 2"
   ],
   "metadata": {
    "collapsed": false
   }
  },
  {
   "cell_type": "code",
   "execution_count": 2,
   "outputs": [
    {
     "data": {
      "text/plain": "' Ques 2.  '"
     },
     "execution_count": 2,
     "metadata": {},
     "output_type": "execute_result"
    }
   ],
   "source": [
    "''' Ques 2.  '''"
   ],
   "metadata": {
    "collapsed": false,
    "ExecuteTime": {
     "start_time": "2023-04-20T18:44:48.901240Z",
     "end_time": "2023-04-20T18:44:49.192550Z"
    }
   }
  },
  {
   "cell_type": "markdown",
   "source": [
    "# QUESTION : 3"
   ],
   "metadata": {
    "collapsed": false
   }
  },
  {
   "cell_type": "code",
   "execution_count": 3,
   "outputs": [
    {
     "data": {
      "text/plain": "' Ques 3.  '"
     },
     "execution_count": 3,
     "metadata": {},
     "output_type": "execute_result"
    }
   ],
   "source": [
    "''' Ques 3.  '''"
   ],
   "metadata": {
    "collapsed": false,
    "ExecuteTime": {
     "start_time": "2023-04-20T18:44:49.124170Z",
     "end_time": "2023-04-20T18:44:49.292456Z"
    }
   }
  },
  {
   "cell_type": "markdown",
   "source": [
    "# QUESTION : 4"
   ],
   "metadata": {
    "collapsed": false
   }
  },
  {
   "cell_type": "code",
   "execution_count": 4,
   "outputs": [
    {
     "data": {
      "text/plain": "' Ques 4.  '"
     },
     "execution_count": 4,
     "metadata": {},
     "output_type": "execute_result"
    }
   ],
   "source": [
    "''' Ques 4.  '''"
   ],
   "metadata": {
    "collapsed": false,
    "ExecuteTime": {
     "start_time": "2023-04-20T18:44:49.299009Z",
     "end_time": "2023-04-20T18:44:49.562490Z"
    }
   }
  },
  {
   "cell_type": "markdown",
   "source": [
    "# QUESTION : 5"
   ],
   "metadata": {
    "collapsed": false
   }
  },
  {
   "cell_type": "code",
   "execution_count": 5,
   "outputs": [
    {
     "data": {
      "text/plain": "' Ques 5.  '"
     },
     "execution_count": 5,
     "metadata": {},
     "output_type": "execute_result"
    }
   ],
   "source": [
    "''' Ques 5.  '''"
   ],
   "metadata": {
    "collapsed": false,
    "ExecuteTime": {
     "start_time": "2023-04-20T18:44:49.559957Z",
     "end_time": "2023-04-20T18:44:49.797623Z"
    }
   }
  },
  {
   "cell_type": "markdown",
   "source": [
    "# QUESTION : 6"
   ],
   "metadata": {
    "collapsed": false
   }
  },
  {
   "cell_type": "code",
   "execution_count": 6,
   "outputs": [
    {
     "data": {
      "text/plain": "' Ques 6.  '"
     },
     "execution_count": 6,
     "metadata": {},
     "output_type": "execute_result"
    }
   ],
   "source": [
    "''' Ques 6.  '''"
   ],
   "metadata": {
    "collapsed": false,
    "ExecuteTime": {
     "start_time": "2023-04-20T18:44:49.799624Z",
     "end_time": "2023-04-20T18:44:50.057360Z"
    }
   }
  },
  {
   "cell_type": "markdown",
   "source": [
    "# QUESTION : 7"
   ],
   "metadata": {
    "collapsed": false
   }
  },
  {
   "cell_type": "code",
   "execution_count": 7,
   "outputs": [
    {
     "data": {
      "text/plain": "' Ques 7.  '"
     },
     "execution_count": 7,
     "metadata": {},
     "output_type": "execute_result"
    }
   ],
   "source": [
    "''' Ques 7.  '''"
   ],
   "metadata": {
    "collapsed": false,
    "ExecuteTime": {
     "start_time": "2023-04-20T18:44:49.990444Z",
     "end_time": "2023-04-20T18:44:50.444225Z"
    }
   }
  },
  {
   "cell_type": "markdown",
   "source": [
    "# QUESTION : 8"
   ],
   "metadata": {
    "collapsed": false
   }
  },
  {
   "cell_type": "code",
   "execution_count": 8,
   "outputs": [
    {
     "data": {
      "text/plain": "' Ques 8.  '"
     },
     "execution_count": 8,
     "metadata": {},
     "output_type": "execute_result"
    }
   ],
   "source": [
    "''' Ques 8.  '''"
   ],
   "metadata": {
    "collapsed": false,
    "ExecuteTime": {
     "start_time": "2023-04-20T18:44:50.368750Z",
     "end_time": "2023-04-20T18:44:50.739986Z"
    }
   }
  },
  {
   "cell_type": "markdown",
   "source": [
    "# --------------------- Assignment Solutions ends here ---------------------"
   ],
   "metadata": {
    "collapsed": false
   }
  },
  {
   "cell_type": "code",
   "execution_count": 8,
   "outputs": [],
   "source": [],
   "metadata": {
    "collapsed": false,
    "ExecuteTime": {
     "start_time": "2023-04-20T18:44:50.746551Z",
     "end_time": "2023-04-20T18:44:50.818508Z"
    }
   }
  }
 ],
 "metadata": {
  "kernelspec": {
   "display_name": "Python 3",
   "language": "python",
   "name": "python3"
  },
  "language_info": {
   "codemirror_mode": {
    "name": "ipython",
    "version": 2
   },
   "file_extension": ".py",
   "mimetype": "text/x-python",
   "name": "python",
   "nbconvert_exporter": "python",
   "pygments_lexer": "ipython2",
   "version": "2.7.6"
  }
 },
 "nbformat": 4,
 "nbformat_minor": 0
}
