{
 "cells": [
  {
   "cell_type": "markdown",
   "source": [
    "# || Assignment No. : 2  ||  Date : 30th Jan 2023  ||\n",
    "# || Notebook Topic : Solutions of Assignment  ||\n",
    "\n",
    "# || Organisation Name : PWSKILLS  ||\n",
    "# || Course Name : DATA SCIENCE MASTERS  ||\n",
    "# || Batch : IMPACT BATCH 1  ||\n",
    "# || Student Name : Purushottam Anand  ||\n",
    "\n",
    "-------------------------------------------------------------------------------"
   ],
   "metadata": {
    "collapsed": false
   }
  },
  {
   "cell_type": "markdown",
   "source": [
    "# QUESTION : 1"
   ],
   "metadata": {
    "collapsed": false
   }
  },
  {
   "cell_type": "code",
   "execution_count": 12,
   "metadata": {
    "collapsed": true,
    "ExecuteTime": {
     "start_time": "2023-04-18T21:39:22.713568Z",
     "end_time": "2023-04-18T21:39:23.140077Z"
    }
   },
   "outputs": [
    {
     "data": {
      "text/plain": "' Ques 1.\\n\\nAns.  '"
     },
     "execution_count": 12,
     "metadata": {},
     "output_type": "execute_result"
    }
   ],
   "source": [
    "''' Ques 1.\n",
    "\n",
    "Ans.  '''\n"
   ]
  },
  {
   "cell_type": "markdown",
   "source": [
    "# QUESTION : 2"
   ],
   "metadata": {
    "collapsed": false
   }
  },
  {
   "cell_type": "code",
   "execution_count": 13,
   "outputs": [
    {
     "data": {
      "text/plain": "' Ques 2.  '"
     },
     "execution_count": 13,
     "metadata": {},
     "output_type": "execute_result"
    }
   ],
   "source": [
    "''' Ques 2.  '''"
   ],
   "metadata": {
    "collapsed": false,
    "ExecuteTime": {
     "start_time": "2023-04-18T21:39:22.810437Z",
     "end_time": "2023-04-18T21:39:23.190033Z"
    }
   }
  },
  {
   "cell_type": "markdown",
   "source": [
    "# QUESTION : 3"
   ],
   "metadata": {
    "collapsed": false
   }
  },
  {
   "cell_type": "code",
   "execution_count": 14,
   "outputs": [
    {
     "data": {
      "text/plain": "' Ques 3.  '"
     },
     "execution_count": 14,
     "metadata": {},
     "output_type": "execute_result"
    }
   ],
   "source": [
    "''' Ques 3.  '''"
   ],
   "metadata": {
    "collapsed": false,
    "ExecuteTime": {
     "start_time": "2023-04-18T21:39:22.887603Z",
     "end_time": "2023-04-18T21:39:23.230843Z"
    }
   }
  },
  {
   "cell_type": "markdown",
   "source": [
    "# QUESTION : 4"
   ],
   "metadata": {
    "collapsed": false
   }
  },
  {
   "cell_type": "code",
   "execution_count": 15,
   "outputs": [
    {
     "data": {
      "text/plain": "' Ques 4.  '"
     },
     "execution_count": 15,
     "metadata": {},
     "output_type": "execute_result"
    }
   ],
   "source": [
    "''' Ques 4.  '''"
   ],
   "metadata": {
    "collapsed": false,
    "ExecuteTime": {
     "start_time": "2023-04-18T21:39:22.950212Z",
     "end_time": "2023-04-18T21:39:23.269891Z"
    }
   }
  },
  {
   "cell_type": "markdown",
   "source": [
    "# QUESTION : 5"
   ],
   "metadata": {
    "collapsed": false
   }
  },
  {
   "cell_type": "code",
   "execution_count": 16,
   "outputs": [
    {
     "data": {
      "text/plain": "' Ques 5.  '"
     },
     "execution_count": 16,
     "metadata": {},
     "output_type": "execute_result"
    }
   ],
   "source": [
    "''' Ques 5.  '''"
   ],
   "metadata": {
    "collapsed": false,
    "ExecuteTime": {
     "start_time": "2023-04-18T21:39:23.030198Z",
     "end_time": "2023-04-18T21:39:23.269891Z"
    }
   }
  },
  {
   "cell_type": "markdown",
   "source": [
    "# QUESTION : 6"
   ],
   "metadata": {
    "collapsed": false
   }
  },
  {
   "cell_type": "code",
   "execution_count": 17,
   "outputs": [
    {
     "data": {
      "text/plain": "' Ques 6.  '"
     },
     "execution_count": 17,
     "metadata": {},
     "output_type": "execute_result"
    }
   ],
   "source": [
    "''' Ques 6.  '''"
   ],
   "metadata": {
    "collapsed": false,
    "ExecuteTime": {
     "start_time": "2023-04-18T21:39:23.115382Z",
     "end_time": "2023-04-18T21:39:23.630117Z"
    }
   }
  },
  {
   "cell_type": "markdown",
   "source": [
    "# QUESTION : 7"
   ],
   "metadata": {
    "collapsed": false
   }
  },
  {
   "cell_type": "code",
   "execution_count": 18,
   "outputs": [
    {
     "data": {
      "text/plain": "' Ques 7.  '"
     },
     "execution_count": 18,
     "metadata": {},
     "output_type": "execute_result"
    }
   ],
   "source": [
    "''' Ques 7.  '''"
   ],
   "metadata": {
    "collapsed": false,
    "ExecuteTime": {
     "start_time": "2023-04-18T21:39:23.210125Z",
     "end_time": "2023-04-18T21:39:23.630117Z"
    }
   }
  },
  {
   "cell_type": "markdown",
   "source": [
    "# QUESTION : 8"
   ],
   "metadata": {
    "collapsed": false
   }
  },
  {
   "cell_type": "code",
   "execution_count": 19,
   "outputs": [
    {
     "data": {
      "text/plain": "' Ques 8.  '"
     },
     "execution_count": 19,
     "metadata": {},
     "output_type": "execute_result"
    }
   ],
   "source": [
    "''' Ques 8.  '''"
   ],
   "metadata": {
    "collapsed": false,
    "ExecuteTime": {
     "start_time": "2023-04-18T21:39:23.295070Z",
     "end_time": "2023-04-18T21:39:23.720193Z"
    }
   }
  },
  {
   "cell_type": "markdown",
   "source": [
    "# --------------------- Assignment Solutions ends here ---------------------"
   ],
   "metadata": {
    "collapsed": false
   }
  },
  {
   "cell_type": "code",
   "execution_count": 19,
   "outputs": [],
   "source": [],
   "metadata": {
    "collapsed": false,
    "ExecuteTime": {
     "start_time": "2023-04-18T21:39:23.450224Z",
     "end_time": "2023-04-18T21:39:23.725225Z"
    }
   }
  }
 ],
 "metadata": {
  "kernelspec": {
   "display_name": "Python 3",
   "language": "python",
   "name": "python3"
  },
  "language_info": {
   "codemirror_mode": {
    "name": "ipython",
    "version": 2
   },
   "file_extension": ".py",
   "mimetype": "text/x-python",
   "name": "python",
   "nbconvert_exporter": "python",
   "pygments_lexer": "ipython2",
   "version": "2.7.6"
  }
 },
 "nbformat": 4,
 "nbformat_minor": 0
}
